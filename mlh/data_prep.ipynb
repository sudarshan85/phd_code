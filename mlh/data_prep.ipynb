{
 "cells": [
  {
   "cell_type": "markdown",
   "metadata": {},
   "source": [
    "# Prepare MLH Data"
   ]
  },
  {
   "cell_type": "markdown",
   "metadata": {},
   "source": [
    "## Imports & Inits"
   ]
  },
  {
   "cell_type": "code",
   "execution_count": 1,
   "metadata": {
    "ExecuteTime": {
     "end_time": "2019-12-20T17:48:48.693752Z",
     "start_time": "2019-12-20T17:48:46.597683Z"
    }
   },
   "outputs": [],
   "source": [
    "%load_ext autoreload\n",
    "%autoreload 2\n",
    "\n",
    "import pdb\n",
    "import pandas as pd\n",
    "import numpy as np\n",
    "import pickle\n",
    "np.set_printoptions(precision=4)\n",
    "\n",
    "from tqdm import tqdm_notebook as tqdm\n",
    "from ast import literal_eval\n",
    "from pathlib import Path\n",
    "from scipy import stats\n",
    "\n",
    "import matplotlib.pyplot as plt\n",
    "import seaborn as sns\n",
    "sns.set_style(\"darkgrid\")\n",
    "%matplotlib inline"
   ]
  },
  {
   "cell_type": "code",
   "execution_count": 2,
   "metadata": {
    "ExecuteTime": {
     "end_time": "2019-12-20T17:48:51.430181Z",
     "start_time": "2019-12-20T17:48:51.355301Z"
    }
   },
   "outputs": [],
   "source": [
    "path = Path('data')\n",
    "workdir = path/'workdir'\n",
    "figdir = workdir/'figures'"
   ]
  },
  {
   "cell_type": "markdown",
   "metadata": {},
   "source": [
    "## Functions"
   ]
  },
  {
   "cell_type": "code",
   "execution_count": 4,
   "metadata": {
    "ExecuteTime": {
     "end_time": "2019-12-20T17:49:26.264517Z",
     "start_time": "2019-12-20T17:49:26.202128Z"
    }
   },
   "outputs": [],
   "source": [
    "def note_interval(x):\n",
    "  if pd.isnull(x):\n",
    "    return -1\n",
    "  \n",
    "  if 0 < x <= 1:\n",
    "    return 0\n",
    "  elif 1 < x <= 2:\n",
    "    return 1\n",
    "  elif 2 < x <= 3:\n",
    "    return 2\n",
    "  elif 3 < x <= 4:\n",
    "    return 3\n",
    "  elif 4 < x <= 5:\n",
    "    return 4\n",
    "  elif 5 < x <= 6:\n",
    "    return 5\n",
    "  elif 6 < x <= 7:\n",
    "    return 6\n",
    "  elif 7 < x <= 8:\n",
    "    return 7\n",
    "  elif 8 < x <= 9:\n",
    "    return 8\n",
    "  elif 9 < x <= 10:\n",
    "    return 9\n",
    "  elif 10 < x <= 11:\n",
    "    return 10\n",
    "  elif 11 < x <= 12:\n",
    "    return 11\n",
    "  elif 12 < x <= 13:\n",
    "    return 12\n",
    "  elif 13 < x <= 14:\n",
    "    return 13\n",
    "  elif 14 < x <= 15:\n",
    "    return 14\n",
    "  else:\n",
    "    return 15\n",
    "\n",
    "def icu_adm_label(x):\n",
    "  if 0 <= x <= 1:\n",
    "    return -1 # unused notes due to data leakage\n",
    "  elif 1 < x <= 3:\n",
    "    return 1 # imminent ICU admission\n",
    "  elif 3 < x <= 5:\n",
    "    return -1 # unused notes due to data leakage\n",
    "  else:\n",
    "    return 0 # delayed ICU admission"
   ]
  },
  {
   "cell_type": "markdown",
   "metadata": {},
   "source": [
    "## Preprocessing"
   ]
  },
  {
   "cell_type": "code",
   "execution_count": 3,
   "metadata": {
    "ExecuteTime": {
     "end_time": "2019-12-20T17:49:14.671546Z",
     "start_time": "2019-12-20T17:48:59.153374Z"
    }
   },
   "outputs": [
    {
     "name": "stdout",
     "output_type": "stream",
     "text": [
      "(479536, 11)\n"
     ]
    },
    {
     "data": {
      "text/plain": [
       "Index(['hadm_id', 'subject_id', 'admittime', 'discttime', 'patient_gender',\n",
       "       'patient_dob', 'patient_race', 'ne_charttime', 'note', 'intime',\n",
       "       'outtime'],\n",
       "      dtype='object')"
      ]
     },
     "execution_count": 3,
     "metadata": {},
     "output_type": "execute_result"
    }
   ],
   "source": [
    "notes_df = pd.read_csv(path/'unstructured_raw.csv', parse_dates=['intime', 'admittime', 'ne_charttime', 'patient_dob', 'discttime', 'outtime'])\n",
    "print(notes_df.shape)\n",
    "notes_df.columns"
   ]
  },
  {
   "cell_type": "code",
   "execution_count": 5,
   "metadata": {
    "ExecuteTime": {
     "end_time": "2019-12-20T17:49:36.225244Z",
     "start_time": "2019-12-20T17:49:28.591706Z"
    }
   },
   "outputs": [
    {
     "data": {
      "text/plain": [
       "(473420, 11)"
      ]
     },
     "execution_count": 5,
     "metadata": {},
     "output_type": "execute_result"
    }
   ],
   "source": [
    "notes_df.drop_duplicates(inplace=True)\n",
    "notes_df.shape"
   ]
  },
  {
   "cell_type": "code",
   "execution_count": 6,
   "metadata": {
    "ExecuteTime": {
     "end_time": "2019-12-20T17:49:39.051717Z",
     "start_time": "2019-12-20T17:49:38.696048Z"
    }
   },
   "outputs": [],
   "source": [
    "notes_df['admission_age'] = ((notes_df['admittime'] - notes_df['patient_dob'])/np.timedelta64(1, 'Y')).astype(np.int64)\n",
    "\n",
    "notes_df['los'] = (notes_df['outtime'] - notes_df['intime'])/np.timedelta64(1, 'D')\n",
    "notes_df['admit_to_icu'] = (notes_df['intime'] - notes_df['admittime'])/np.timedelta64(1, 'D')\n",
    "\n",
    "notes_df['note_to_icu'] = (notes_df['intime'] - notes_df['ne_charttime'])/np.timedelta64(1, 'D')\n",
    "notes_df['note_len'] = notes_df['note'].apply(len)"
   ]
  },
  {
   "cell_type": "markdown",
   "metadata": {
    "ExecuteTime": {
     "end_time": "2019-11-03T22:13:12.032998Z",
     "start_time": "2019-11-03T22:13:12.012067Z"
    }
   },
   "source": [
    "Drop rows corresponding to patients of age at admission less than 15 years"
   ]
  },
  {
   "cell_type": "code",
   "execution_count": 7,
   "metadata": {
    "ExecuteTime": {
     "end_time": "2019-12-20T17:49:40.657131Z",
     "start_time": "2019-12-20T17:49:40.445661Z"
    }
   },
   "outputs": [
    {
     "data": {
      "text/plain": [
       "(359149, 16)"
      ]
     },
     "execution_count": 7,
     "metadata": {},
     "output_type": "execute_result"
    }
   ],
   "source": [
    "notes_df = notes_df.loc[(notes_df['admission_age'] >= 15)].reset_index(drop=True)\n",
    "notes_df.shape"
   ]
  },
  {
   "cell_type": "markdown",
   "metadata": {},
   "source": [
    "Only include those rows:\n",
    "1. where the notes of those rows were recorded between ICU start time if that patient got admitted to the ICU\n",
    "2. where the patient did not go to the ICU at all (i.e., ICU start time is null)"
   ]
  },
  {
   "cell_type": "code",
   "execution_count": 8,
   "metadata": {
    "ExecuteTime": {
     "end_time": "2019-12-20T17:49:42.599948Z",
     "start_time": "2019-12-20T17:49:42.217174Z"
    }
   },
   "outputs": [
    {
     "data": {
      "text/plain": [
       "(133330, 16)"
      ]
     },
     "execution_count": 8,
     "metadata": {},
     "output_type": "execute_result"
    }
   ],
   "source": [
    "notes_df = notes_df.loc[((notes_df['ne_charttime'] >= notes_df['admittime']) & (notes_df['ne_charttime'] < notes_df['intime'])) | (notes_df['intime'].isna())].reset_index(drop=True)\n",
    "notes_df.shape"
   ]
  },
  {
   "cell_type": "code",
   "execution_count": 9,
   "metadata": {
    "ExecuteTime": {
     "end_time": "2019-12-20T17:49:43.793263Z",
     "start_time": "2019-12-20T17:49:43.631562Z"
    }
   },
   "outputs": [],
   "source": [
    "notes_df['interval'] = notes_df['note_to_icu'].apply(note_interval)\n",
    "notes_df['imi_adm_label'] = notes_df['interval'].apply(icu_adm_label)"
   ]
  },
  {
   "cell_type": "code",
   "execution_count": 10,
   "metadata": {
    "ExecuteTime": {
     "end_time": "2019-12-20T17:49:44.293737Z",
     "start_time": "2019-12-20T17:49:44.216531Z"
    }
   },
   "outputs": [
    {
     "name": "stdout",
     "output_type": "stream",
     "text": [
      "Prevalence of positive class across ALL notes:3.4%\n"
     ]
    }
   ],
   "source": [
    "g = notes_df.loc[notes_df['imi_adm_label'] != -1].groupby(['imi_adm_label']).size().to_numpy()\n",
    "print(f\"Prevalence of positive class across ALL notes:{(g[1]/g.sum())*100:0.1f}%\")"
   ]
  },
  {
   "cell_type": "code",
   "execution_count": 11,
   "metadata": {
    "ExecuteTime": {
     "end_time": "2019-12-20T17:50:03.051937Z",
     "start_time": "2019-12-20T17:49:50.907407Z"
    }
   },
   "outputs": [],
   "source": [
    "notes_df.to_csv(path/'unstructured_proc.csv', index=False)"
   ]
  },
  {
   "cell_type": "markdown",
   "metadata": {},
   "source": [
    "## Explore"
   ]
  },
  {
   "cell_type": "code",
   "execution_count": 12,
   "metadata": {
    "ExecuteTime": {
     "end_time": "2019-12-20T17:50:08.263849Z",
     "start_time": "2019-12-20T17:50:03.922637Z"
    }
   },
   "outputs": [
    {
     "name": "stdout",
     "output_type": "stream",
     "text": [
      "(116400, 18) (133330, 18)\n"
     ]
    }
   ],
   "source": [
    "notes_df = pd.read_csv(path/'unstructured_proc.csv', parse_dates=['admittime', 'discttime', 'patient_dob', 'ne_charttime', 'intime', 'outtime'])\n",
    "model_df = notes_df[notes_df['imi_adm_label'] != -1].reset_index(drop=True)\n",
    "print(model_df.shape, notes_df.shape)"
   ]
  },
  {
   "cell_type": "code",
   "execution_count": 13,
   "metadata": {
    "ExecuteTime": {
     "end_time": "2019-12-20T17:50:09.943767Z",
     "start_time": "2019-12-20T17:50:09.890439Z"
    }
   },
   "outputs": [
    {
     "data": {
      "text/plain": [
       "3842"
      ]
     },
     "execution_count": 13,
     "metadata": {},
     "output_type": "execute_result"
    }
   ],
   "source": [
    "notes_df['hadm_id'].nunique()"
   ]
  },
  {
   "cell_type": "code",
   "execution_count": 14,
   "metadata": {
    "ExecuteTime": {
     "end_time": "2019-12-20T17:50:09.981233Z",
     "start_time": "2019-12-20T17:50:09.946235Z"
    }
   },
   "outputs": [
    {
     "name": "stdout",
     "output_type": "stream",
     "text": [
      "Number of patients in notes cohort: 2508\n"
     ]
    }
   ],
   "source": [
    "print(f\"Number of patients in notes cohort: {model_df['subject_id'].nunique()}\")"
   ]
  },
  {
   "cell_type": "code",
   "execution_count": 15,
   "metadata": {
    "ExecuteTime": {
     "end_time": "2019-12-20T17:50:10.019683Z",
     "start_time": "2019-12-20T17:50:09.983572Z"
    }
   },
   "outputs": [
    {
     "name": "stdout",
     "output_type": "stream",
     "text": [
      "Prelavence: 3919 (3.4%)\n"
     ]
    }
   ],
   "source": [
    "g = model_df.groupby('imi_adm_label').size().to_numpy()\n",
    "print(f\"Prelavence: {g[1]} ({(g[1]/g.sum())*100:0.1f}%)\")"
   ]
  },
  {
   "cell_type": "code",
   "execution_count": 16,
   "metadata": {
    "ExecuteTime": {
     "end_time": "2019-12-20T17:50:10.066172Z",
     "start_time": "2019-12-20T17:50:10.021686Z"
    }
   },
   "outputs": [
    {
     "name": "stdout",
     "output_type": "stream",
     "text": [
      "Males in notes cohort: 1276 (50.9%)\n",
      "Mean:61.8\n",
      "STD:17.5\n",
      "25th percentile:54.0\n",
      "75th percentile:74.0\n"
     ]
    }
   ],
   "source": [
    "g = model_df.groupby('patient_gender')['subject_id'].nunique().to_numpy()\n",
    "print(f\"Males in notes cohort: {g[1]} ({(g[1]/g.sum())*100:0.1f}%)\")\n",
    "\n",
    "print(f\"Mean:{model_df.groupby('subject_id')['admission_age'].first().mean():0.1f}\")\n",
    "print(f\"STD:{model_df.groupby('subject_id')['admission_age'].first().std():0.1f}\")\n",
    "print(f\"25th percentile:{model_df.groupby('subject_id')['admission_age'].first().quantile(0.25):0.1f}\")\n",
    "print(f\"75th percentile:{model_df.groupby('subject_id')['admission_age'].first().quantile(0.75):0.1f}\")"
   ]
  },
  {
   "cell_type": "code",
   "execution_count": 17,
   "metadata": {
    "ExecuteTime": {
     "end_time": "2019-12-20T17:50:10.093593Z",
     "start_time": "2019-12-20T17:50:10.067245Z"
    }
   },
   "outputs": [
    {
     "name": "stdout",
     "output_type": "stream",
     "text": [
      "Males in notes cohort: 1276 (50.9%)\n"
     ]
    }
   ],
   "source": [
    "g = model_df.groupby('patient_gender')['subject_id'].nunique().to_numpy()\n",
    "print(f\"Males in notes cohort: {g[1]} ({(g[1]/g.sum())*100:0.1f}%)\")"
   ]
  },
  {
   "cell_type": "code",
   "execution_count": 18,
   "metadata": {
    "ExecuteTime": {
     "end_time": "2019-12-20T17:50:13.045853Z",
     "start_time": "2019-12-20T17:50:12.989596Z"
    }
   },
   "outputs": [
    {
     "name": "stdout",
     "output_type": "stream",
     "text": [
      "Mean:61.8\n",
      "STD:17.5\n",
      "25th percentile:54.0\n",
      "75th percentile:74.0\n"
     ]
    }
   ],
   "source": [
    "print(f\"Mean:{model_df.groupby('subject_id')['admission_age'].first().mean():0.1f}\")\n",
    "print(f\"STD:{model_df.groupby('subject_id')['admission_age'].first().std():0.1f}\")\n",
    "print(f\"25th percentile:{model_df.groupby('subject_id')['admission_age'].first().quantile(0.25):0.1f}\")\n",
    "print(f\"75th percentile:{model_df.groupby('subject_id')['admission_age'].first().quantile(0.75):0.1f}\")"
   ]
  },
  {
   "cell_type": "code",
   "execution_count": 19,
   "metadata": {
    "ExecuteTime": {
     "end_time": "2019-12-20T17:50:13.098049Z",
     "start_time": "2019-12-20T17:50:13.047781Z"
    }
   },
   "outputs": [
    {
     "name": "stdout",
     "output_type": "stream",
     "text": [
      "                 patient_race  count   pct\n",
      "0  Amer. Indian/Alaska Native      4   0.2\n",
      "1                       Asian     12   0.5\n",
      "2   Black or African American   1396  55.7\n",
      "3                    Declined      1   0.0\n",
      "4               Other/Unknown     67   2.7\n",
      "5                 Unavailable      5   0.2\n",
      "6                       White   1023  40.8\n"
     ]
    }
   ],
   "source": [
    "g = pd.DataFrame(model_df.groupby('patient_race')['subject_id'].nunique()).reset_index()\n",
    "g.columns = ['patient_race', 'count']\n",
    "g['pct'] = np.round((g['count']/g['count'].sum() * 100), 1)\n",
    "print(g)"
   ]
  },
  {
   "cell_type": "code",
   "execution_count": 20,
   "metadata": {
    "ExecuteTime": {
     "end_time": "2019-12-20T17:50:13.128647Z",
     "start_time": "2019-12-20T17:50:13.099879Z"
    }
   },
   "outputs": [
    {
     "name": "stdout",
     "output_type": "stream",
     "text": [
      "Encounter time to ICU Admission for model cohort:\n",
      "Mean:17.6\n",
      "STD:20.0\n",
      "25th percentile:7.4\n",
      "75th percentile:19.2\n"
     ]
    }
   ],
   "source": [
    "print(\"Encounter time to ICU Admission for model cohort:\")\n",
    "print(f\"Mean:{model_df['admit_to_icu'].mean():0.1f}\")\n",
    "print(f\"STD:{model_df['admit_to_icu'].std():0.1f}\")\n",
    "print(f\"25th percentile:{model_df['admit_to_icu'].quantile(0.25):0.1f}\")\n",
    "print(f\"75th percentile:{model_df['admit_to_icu'].quantile(0.75):0.1f}\")"
   ]
  },
  {
   "cell_type": "code",
   "execution_count": 21,
   "metadata": {
    "ExecuteTime": {
     "end_time": "2019-12-20T17:50:13.151955Z",
     "start_time": "2019-12-20T17:50:13.130002Z"
    }
   },
   "outputs": [
    {
     "name": "stdout",
     "output_type": "stream",
     "text": [
      "Average Number of clinical notes per encounter for model cohort: 43.0\n"
     ]
    }
   ],
   "source": [
    "print(f\"Average Number of clinical notes per encounter for model cohort: {(len(model_df)/model_df['hadm_id'].nunique()):0.1f}\")"
   ]
  },
  {
   "cell_type": "code",
   "execution_count": 22,
   "metadata": {
    "ExecuteTime": {
     "end_time": "2019-12-20T17:50:13.178861Z",
     "start_time": "2019-12-20T17:50:13.153168Z"
    }
   },
   "outputs": [
    {
     "name": "stdout",
     "output_type": "stream",
     "text": [
      "Clinical Note Length for model cohort:\n",
      "Mean:4333.4\n",
      "STD:6818.0\n",
      "25th percentile:667.0\n",
      "75th percentile:6094.0\n"
     ]
    }
   ],
   "source": [
    "print(\"Clinical Note Length for model cohort:\")\n",
    "print(f\"Mean:{model_df['note_len'].mean():0.1f}\")\n",
    "print(f\"STD:{model_df['note_len'].std():0.1f}\")\n",
    "print(f\"25th percentile:{model_df['note_len'].quantile(0.25):0.1f}\")\n",
    "print(f\"75th percentile:{model_df['note_len'].quantile(0.75):0.1f}\")"
   ]
  },
  {
   "cell_type": "code",
   "execution_count": 24,
   "metadata": {
    "ExecuteTime": {
     "end_time": "2019-12-20T17:51:06.822227Z",
     "start_time": "2019-12-20T17:51:06.137714Z"
    }
   },
   "outputs": [
    {
     "data": {
      "text/plain": [
       "Text(0, 0.5, '# notes')"
      ]
     },
     "execution_count": 24,
     "metadata": {},
     "output_type": "execute_result"
    },
    {
     "data": {
      "image/png": "[encoded data removed]",
      "text/plain": [
       "<Figure size 792x576 with 1 Axes>"
      ]
     },
     "metadata": {
      "needs_background": "light"
     },
     "output_type": "display_data"
    }
   ],
   "source": [
    "# Note length distribution\n",
    "fig, ax = plt.subplots(figsize=(11, 8))\n",
    "sns.distplot(model_df['note_len'], kde=False, ax=ax, bins=100)\n",
    "ax.set_xlim(0, 10000)\n",
    "ax.set_xlabel('Length of Note (characters)')\n",
    "ax.set_ylabel('# notes')\n",
    "\n",
    "# fig.savefig(figdir/'note_len_dist.pdf', dpi=300, bbox_inches = 'tight', pad_inches = 0)"
   ]
  },
  {
   "cell_type": "code",
   "execution_count": 25,
   "metadata": {
    "ExecuteTime": {
     "end_time": "2019-12-20T17:51:13.034619Z",
     "start_time": "2019-12-20T17:51:12.640893Z"
    }
   },
   "outputs": [
    {
     "data": {
      "image/png": "[encoded data removed]",
      "text/plain": [
       "<Figure size 1080x576 with 1 Axes>"
      ]
     },
     "metadata": {
      "needs_background": "light"
     },
     "output_type": "display_data"
    }
   ],
   "source": [
    "intervals = ['-1 ≤ t ≤ 0']\n",
    "intervals += [f'-{i+1} ≤ t ≤ -{i}' for i in range(1, 15)]\n",
    "intervals.append('t ≥ -15')\n",
    "\n",
    "plot_df = pd.DataFrame(notes_df.loc[notes_df['interval'] != -1].groupby('interval').size(), columns=['n_notes']).reset_index(drop=True)\n",
    "plot_df['days'] = intervals\n",
    "\n",
    "fig, ax = plt.subplots(figsize=(15, 8))\n",
    "sns.barplot(x='days', y='n_notes', data=plot_df, ax=ax)\n",
    "ax.set_xticklabels(ax.get_xticklabels(),rotation=45, ha='right')\n",
    "ax.set_xlabel('Time to ICU Admission (days)')\n",
    "ax.set_ylabel('# notes')\n",
    "for index, row in plot_df.iterrows():\n",
    "    ax.text(index, row['n_notes'], str(row['n_notes']), color='black', ha='center', va='bottom')\n",
    "    \n",
    "# fig.savefig(figdir/f'admit_to_icu_binned_dist.pdf', dpi=300)        "
   ]
  },
  {
   "cell_type": "code",
   "execution_count": 26,
   "metadata": {
    "ExecuteTime": {
     "end_time": "2019-12-20T17:51:19.756573Z",
     "start_time": "2019-12-20T17:51:19.452745Z"
    }
   },
   "outputs": [
    {
     "data": {
      "image/png": "[encoded data removed]",
      "text/plain": [
       "<Figure size 792x576 with 1 Axes>"
      ]
     },
     "metadata": {
      "needs_background": "light"
     },
     "output_type": "display_data"
    }
   ],
   "source": [
    "desc = ['Unused', 'Delayed ICU Admission', 'Imminent ICU Admission']\n",
    "\n",
    "p = pd.DataFrame(notes_df.groupby(['imi_adm_label']).size(), columns=['n_notes']).reset_index()\n",
    "# p1 = pd.DataFrame(notes_df.groupby(['imi_adm_label']).size(), columns=['n_notes']).reset_index()\n",
    "# p2 = notes_df.groupby(['imi_adm_label'])['hadm_id'].nunique().reset_index()\n",
    "\n",
    "# p = p1.merge(p2, on=['imi_adm_label'])\n",
    "p['imi_adm_label'] = desc\n",
    "p = p.reindex([2, 1, 0])\n",
    "# p.reset_index(inplace=True, drop=True)\n",
    "\n",
    "plot_df = p.copy()\n",
    "plot_df.rename(columns={'hadm_id':'# Encounters', 'n_notes':'# Notes'}, inplace=True)\n",
    "plot_df = pd.melt(plot_df, id_vars='imi_adm_label', var_name='Legend', value_name='counts')\n",
    "\n",
    "plot_df\n",
    "\n",
    "fig, ax = plt.subplots(figsize=(11, 8))\n",
    "sns.barplot(x='imi_adm_label', y='counts', data=plot_df, ax=ax)\n",
    "ax.set_xticklabels(ax.get_xticklabels(), ha='center')\n",
    "ax.set_xlabel('Class Label')\n",
    "ax.set_ylabel('# notes')\n",
    "\n",
    "for index, row in plot_df.iterrows():\n",
    "#     if index < len(plot_df)//2:\n",
    "        ax.text(index+0.06, row['counts'], str(row['counts']), color='black', ha='right', va='bottom')\n",
    "#     else:\n",
    "#         ax.text(index % (len(plot_df)//2), row['counts'], str(row['counts']), color='black', ha='right', va='bottom')\n",
    "\n",
    "# fig.savefig(figdir/f'note_class_dist.pdf', dpi=300)"
   ]
  }
 ],
 "metadata": {
  "kernelspec": {
   "display_name": "Python 3",
   "language": "python",
   "name": "python3"
  },
  "language_info": {
   "codemirror_mode": {
    "name": "ipython",
    "version": 3
   },
   "file_extension": ".py",
   "mimetype": "text/x-python",
   "name": "python",
   "nbconvert_exporter": "python",
   "pygments_lexer": "ipython3",
   "version": "3.7.5"
  },
  "toc": {
   "base_numbering": 1,
   "nav_menu": {},
   "number_sections": true,
   "sideBar": true,
   "skip_h1_title": true,
   "title_cell": "Table of Contents",
   "title_sidebar": "Contents",
   "toc_cell": false,
   "toc_position": {},
   "toc_section_display": true,
   "toc_window_display": false
  }
 },
 "nbformat": 4,
 "nbformat_minor": 2
}
