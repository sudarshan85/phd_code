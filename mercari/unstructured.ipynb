{
 "cells": [
  {
   "cell_type": "markdown",
   "metadata": {},
   "source": [
    "# Mercari Price Suggestion Challenge GBM Classifier"
   ]
  },
  {
   "cell_type": "markdown",
   "metadata": {},
   "source": [
    "## Imports & Inits"
   ]
  },
  {
   "cell_type": "code",
   "execution_count": null,
   "metadata": {
    "ExecuteTime": {
     "end_time": "2019-12-14T19:44:29.320238Z",
     "start_time": "2019-12-14T19:44:29.299912Z"
    }
   },
   "outputs": [],
   "source": [
    "%load_ext autoreload\n",
    "%autoreload 2"
   ]
  },
  {
   "cell_type": "code",
   "execution_count": null,
   "metadata": {
    "ExecuteTime": {
     "end_time": "2019-12-14T19:44:30.083624Z",
     "start_time": "2019-12-14T19:44:29.322524Z"
    }
   },
   "outputs": [],
   "source": [
    "import sys\n",
    "sys.path.append('../')\n",
    "\n",
    "import warnings\n",
    "warnings.filterwarnings(\"ignore\", category=UserWarning)\n",
    "\n",
    "import pdb\n",
    "import re\n",
    "import pickle\n",
    "import string\n",
    "import pandas as pd\n",
    "import numpy as np\n",
    "import lightgbm as lgb\n",
    "np.set_printoptions(precision=4)\n",
    "\n",
    "from wordcloud import WordCloud\n",
    "from sklearn.feature_extraction.text import TfidfVectorizer\n",
    "from sklearn.model_selection import train_test_split\n",
    "from sklearn.metrics import mean_squared_error\n",
    "\n",
    "from pathlib import Path\n",
    "\n",
    "from utils.data_utils import set_two_splits\n",
    "from utils.plots import *\n",
    "\n",
    "import matplotlib.pyplot as plt\n",
    "from matplotlib.ticker import FuncFormatter\n",
    "import seaborn as sns\n",
    "sns.set_style(\"darkgrid\")\n",
    "%matplotlib inline"
   ]
  },
  {
   "cell_type": "code",
   "execution_count": null,
   "metadata": {
    "ExecuteTime": {
     "end_time": "2019-12-14T19:44:30.105065Z",
     "start_time": "2019-12-14T19:44:30.085664Z"
    }
   },
   "outputs": [],
   "source": [
    "from args import args\n",
    "vars(args)"
   ]
  },
  {
   "cell_type": "code",
   "execution_count": null,
   "metadata": {},
   "outputs": [],
   "source": [
    "save = False"
   ]
  },
  {
   "cell_type": "markdown",
   "metadata": {},
   "source": [
    "## Functions"
   ]
  },
  {
   "cell_type": "code",
   "execution_count": null,
   "metadata": {
    "ExecuteTime": {
     "end_time": "2019-12-14T19:44:30.809280Z",
     "start_time": "2019-12-14T19:44:30.787360Z"
    }
   },
   "outputs": [],
   "source": [
    "def wordcloud(fi, idx2tok, min_len=5, n_tokens=50):\n",
    "  idxs = np.argsort(fi)[-n_tokens:]\n",
    "  score = fi[idxs]/fi[idxs].sum()\n",
    "  tokens = [idx2tok[i] for i in idxs]\n",
    "  d = dict(zip(tokens, score))\n",
    "  return d, WordCloud(width=400, height=400, background_color='white', max_words=n_tokens, max_font_size=40, relative_scaling=0.5).generate_from_frequencies(d)"
   ]
  },
  {
   "cell_type": "markdown",
   "metadata": {},
   "source": [
    "## Train and Validation"
   ]
  },
  {
   "cell_type": "code",
   "execution_count": null,
   "metadata": {
    "ExecuteTime": {
     "end_time": "2019-12-14T19:44:35.906636Z",
     "start_time": "2019-12-14T19:44:32.186523Z"
    }
   },
   "outputs": [],
   "source": [
    "desc_df = pd.read_csv(args.path/'train_df.csv', usecols=['text', 'price'])\n",
    "desc_df.head()"
   ]
  },
  {
   "cell_type": "code",
   "execution_count": null,
   "metadata": {
    "ExecuteTime": {
     "end_time": "2019-12-14T19:44:36.917574Z",
     "start_time": "2019-12-14T19:44:35.908032Z"
    }
   },
   "outputs": [],
   "source": [
    "seed = 643\n",
    "df = set_two_splits(desc_df.copy(), 'valid', seed=seed)\n",
    "train_df = df.loc[df['split'] == 'train', ['text', 'price']]\n",
    "valid_df = df.loc[df['split'] == 'valid', ['text', 'price']]\n",
    "y_train = train_df['price']\n",
    "y_valid = valid_df['price']\n",
    "\n",
    "df.shape, train_df.shape, valid_df.shape, y_train.shape, y_valid.shape"
   ]
  },
  {
   "cell_type": "code",
   "execution_count": null,
   "metadata": {
    "ExecuteTime": {
     "end_time": "2019-12-14T19:41:57.985708Z",
     "start_time": "2019-12-14T19:40:15.207362Z"
    }
   },
   "outputs": [],
   "source": [
    "# vectorizer = TfidfVectorizer(ngram_range=(1,2), max_features=60_000)\n",
    "# x_train = vectorizer.fit_transform(train_df['text'].values.astype('U'))\n",
    "# x_valid = vectorizer.transform(valid_df['text'].values.astype('U'))\n",
    "\n",
    "# with open(args.workdir/'bigram_643.pkl', 'wb') as f:\n",
    "#   pickle.dump(vectorizer, f)\n",
    "#   pickle.dump(x_train, f)\n",
    "#   pickle.dump(x_valid, f)"
   ]
  },
  {
   "cell_type": "code",
   "execution_count": null,
   "metadata": {
    "ExecuteTime": {
     "end_time": "2019-12-14T19:44:53.477539Z",
     "start_time": "2019-12-14T19:44:51.314950Z"
    }
   },
   "outputs": [],
   "source": [
    "with open(args.workdir/'bigram_643.pkl', 'rb') as f:\n",
    "  vectorizer = pickle.load(f)\n",
    "  x_train = pickle.load(f)\n",
    "  x_valid = pickle.load(f)\n",
    "  \n",
    "idx2tok = {v: k for k, v in vectorizer.vocabulary_.items()}  "
   ]
  },
  {
   "cell_type": "code",
   "execution_count": null,
   "metadata": {
    "ExecuteTime": {
     "end_time": "2019-12-14T19:44:55.240319Z",
     "start_time": "2019-12-14T19:44:55.218224Z"
    }
   },
   "outputs": [],
   "source": [
    "lgb_train = lgb.Dataset(x_train, y_train)\n",
    "lgb_valid = lgb.Dataset(x_valid, y_valid, reference=lgb_train)\n",
    "\n",
    "lgb_params = {\n",
    "  'num_leaves': 400,\n",
    "  'learning_rate': 0.05,\n",
    "  'feature_fraction': 0.9,\n",
    "  'bagging_fraction': 0.7,\n",
    "  'bagging_freq': 5,\n",
    "  'metric': 'rmse',\n",
    "  'num_threads': 32,\n",
    "  'max_bin': 32,\n",
    "  'objective': 'regression',\n",
    "}"
   ]
  },
  {
   "cell_type": "code",
   "execution_count": null,
   "metadata": {
    "ExecuteTime": {
     "end_time": "2019-12-14T19:45:38.150373Z",
     "start_time": "2019-12-14T19:44:56.226354Z"
    },
    "scrolled": true
   },
   "outputs": [],
   "source": [
    "gbm = lgb.train(lgb_params, lgb_train, num_boost_round=1000, valid_sets=[lgb_train, lgb_valid], early_stopping_rounds=10, verbose_eval=True)"
   ]
  },
  {
   "cell_type": "code",
   "execution_count": null,
   "metadata": {
    "ExecuteTime": {
     "end_time": "2019-10-27T18:41:21.062739Z",
     "start_time": "2019-10-27T18:41:18.496612Z"
    }
   },
   "outputs": [],
   "source": [
    "fig, ax = plt.subplots(figsize=(20, 20))\n",
    "d, wc = wordcloud(gbm.feature_importance(importance_type='gain'), idx2tok, min_len=5, n_tokens=500)\n",
    "ax.imshow(wc)\n",
    "ax.axis('off')\n",
    "\n",
    "if save:\n",
    "  fig.savefig(args.figdir/'desc_wc.pdf', dpi=300)"
   ]
  },
  {
   "cell_type": "code",
   "execution_count": null,
   "metadata": {
    "ExecuteTime": {
     "end_time": "2019-10-27T18:41:27.329643Z",
     "start_time": "2019-10-27T18:41:21.063995Z"
    }
   },
   "outputs": [],
   "source": [
    "preds = gbm.predict(x_valid)\n",
    "np.round(np.sqrt(mean_squared_error(y_valid, preds)), 3)"
   ]
  },
  {
   "cell_type": "markdown",
   "metadata": {},
   "source": [
    "## Full Model Training"
   ]
  },
  {
   "cell_type": "code",
   "execution_count": null,
   "metadata": {
    "ExecuteTime": {
     "end_time": "2019-10-27T18:41:31.223122Z",
     "start_time": "2019-10-27T18:41:27.331682Z"
    }
   },
   "outputs": [],
   "source": [
    "train_df = pd.read_csv(args.path/'train_df.csv', usecols=['text', 'price'])\n",
    "train_df.shape"
   ]
  },
  {
   "cell_type": "code",
   "execution_count": null,
   "metadata": {
    "ExecuteTime": {
     "end_time": "2019-10-27T18:43:06.681682Z",
     "start_time": "2019-10-27T18:41:31.225486Z"
    }
   },
   "outputs": [],
   "source": [
    "vectorizer = TfidfVectorizer(ngram_range=(1,2), max_features=60_000)\n",
    "x_train = vectorizer.fit_transform(train_df['text'].values.astype('U'))\n",
    "\n",
    "with open(args.vectordir/'default_bi_all.pkl', 'wb') as f:\n",
    "  pickle.dump(vectorizer, f)\n",
    "  pickle.dump(x_train, f)\n",
    "  \n",
    "y_train = train_df['price']\n",
    "x_train.shape, y_train.shape"
   ]
  },
  {
   "cell_type": "code",
   "execution_count": null,
   "metadata": {
    "ExecuteTime": {
     "end_time": "2019-10-27T18:43:08.986485Z",
     "start_time": "2019-10-27T18:43:06.685928Z"
    }
   },
   "outputs": [],
   "source": [
    "with open(args.vectordir/'default_bi_all.pkl', 'rb') as f:\n",
    "  vectorizer = pickle.load(f)\n",
    "  x_train = pickle.load(f)\n",
    "\n",
    "idx2tok = {v: k for k, v in vectorizer.vocabulary_.items()}"
   ]
  },
  {
   "cell_type": "code",
   "execution_count": null,
   "metadata": {
    "ExecuteTime": {
     "end_time": "2019-10-27T18:43:09.006793Z",
     "start_time": "2019-10-27T18:43:08.988112Z"
    }
   },
   "outputs": [],
   "source": [
    "lgb_train = lgb.Dataset(x_train, y_train)\n",
    "lgb_params = {\n",
    "  'num_leaves': 400,\n",
    "  'learning_rate': 0.05,\n",
    "  'feature_fraction': 0.9,\n",
    "  'bagging_fraction': 0.7,\n",
    "  'bagging_freq': 5,\n",
    "  'metric': 'rmse',\n",
    "  'num_threads': 32,\n",
    "  'max_bin': 32,\n",
    "  'objective': 'regression',\n",
    "}"
   ]
  },
  {
   "cell_type": "code",
   "execution_count": null,
   "metadata": {
    "ExecuteTime": {
     "end_time": "2019-10-27T19:09:13.227080Z",
     "start_time": "2019-10-27T18:43:09.008362Z"
    },
    "scrolled": true
   },
   "outputs": [],
   "source": [
    "gbm = lgb.train(lgb_params, lgb_train, num_boost_round=1000, valid_sets=[lgb_train], early_stopping_rounds=10, verbose_eval=True)\n",
    "pickle.dump(gbm, (args.modeldir/'gbm_desc_all.pkl').open('wb'))"
   ]
  },
  {
   "cell_type": "markdown",
   "metadata": {},
   "source": [
    "## Word Cloud"
   ]
  },
  {
   "cell_type": "code",
   "execution_count": null,
   "metadata": {
    "ExecuteTime": {
     "end_time": "2019-10-27T19:09:15.865283Z",
     "start_time": "2019-10-27T19:09:13.230714Z"
    }
   },
   "outputs": [],
   "source": [
    "gbm = pickle.load((args.modeldir/'gbm_desc_all.pkl').open('rb'))\n",
    "\n",
    "with open(args.vectordir/'default_bi_all.pkl', 'rb') as f:\n",
    "  vectorizer = pickle.load(f)\n",
    "  x_train = pickle.load(f)\n",
    "\n",
    "idx2tok = {v: k for k, v in vectorizer.vocabulary_.items()}"
   ]
  },
  {
   "cell_type": "code",
   "execution_count": null,
   "metadata": {
    "ExecuteTime": {
     "end_time": "2019-10-27T19:09:18.191818Z",
     "start_time": "2019-10-27T19:09:15.866636Z"
    }
   },
   "outputs": [],
   "source": [
    "fig, ax = plt.subplots(figsize=(20, 20))\n",
    "d, wc = wordcloud(gbm.feature_importance(importance_type='gain'), idx2tok, min_len=5, n_tokens=500)\n",
    "ax.imshow(wc)\n",
    "ax.axis('off')\n",
    "fig.savefig(args.figdir/'gbm_desc_wc.pdf', dpi=300)"
   ]
  },
  {
   "cell_type": "code",
   "execution_count": null,
   "metadata": {
    "ExecuteTime": {
     "end_time": "2019-10-27T19:10:10.281481Z",
     "start_time": "2019-10-27T19:09:18.195565Z"
    }
   },
   "outputs": [],
   "source": [
    "test_df = pd.read_csv(args.path/'test_df.csv', usecols=['test_id', 'text'])\n",
    "x_test = vectorizer.transform(test_df['text'].values.astype('U'))\n",
    "preds = pd.DataFrame({'test_id': test_df['test_id'], 'price': np.expm1(gbm.predict(x_test))})\n",
    "preds.to_csv(args.path/'gbm_desc_submission.csv', index=False)"
   ]
  },
  {
   "cell_type": "code",
   "execution_count": null,
   "metadata": {
    "ExecuteTime": {
     "end_time": "2019-10-27T19:14:32.068580Z",
     "start_time": "2019-10-27T19:10:10.284005Z"
    }
   },
   "outputs": [],
   "source": [
    "test2_df = pd.read_csv(args.path/'test2_df.csv', usecols=['test_id', 'text'])\n",
    "x_test2 = vectorizer.transform(test2_df['text'].values.astype('U'))\n",
    "preds_test2 = pd.DataFrame({'test_id': test2_df['test_id'], 'price': np.expm1(gbm.predict(x_test2))})\n",
    "preds_test2.to_csv(args.path/'gbm_desc_submission_stg2.csv', index=False)"
   ]
  }
 ],
 "metadata": {
  "kernelspec": {
   "display_name": "Python 3",
   "language": "python",
   "name": "python3"
  },
  "language_info": {
   "codemirror_mode": {
    "name": "ipython",
    "version": 3
   },
   "file_extension": ".py",
   "mimetype": "text/x-python",
   "name": "python",
   "nbconvert_exporter": "python",
   "pygments_lexer": "ipython3",
   "version": "3.7.5"
  },
  "toc": {
   "base_numbering": 1,
   "nav_menu": {},
   "number_sections": true,
   "sideBar": true,
   "skip_h1_title": true,
   "title_cell": "Table of Contents",
   "title_sidebar": "Contents",
   "toc_cell": false,
   "toc_position": {},
   "toc_section_display": true,
   "toc_window_display": false
  }
 },
 "nbformat": 4,
 "nbformat_minor": 2
}
