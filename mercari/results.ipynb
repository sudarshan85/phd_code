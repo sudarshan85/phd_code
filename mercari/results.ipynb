{
 "cells": [
  {
   "cell_type": "markdown",
   "metadata": {},
   "source": [
    "# Analysis of Models using only MIMIC Notes"
   ]
  },
  {
   "cell_type": "markdown",
   "metadata": {},
   "source": [
    "## Imports & Inits"
   ]
  },
  {
   "cell_type": "code",
   "execution_count": 1,
   "metadata": {
    "ExecuteTime": {
     "end_time": "2019-12-16T13:49:07.278350Z",
     "start_time": "2019-12-16T13:49:06.604320Z"
    }
   },
   "outputs": [],
   "source": [
    "%load_ext autoreload\n",
    "%autoreload 2\n",
    "\n",
    "import sys\n",
    "sys.path.append('../')\n",
    "\n",
    "import matplotlib.pyplot as plt\n",
    "import seaborn as sns\n",
    "sns.set_style(\"darkgrid\")\n",
    "%matplotlib inline\n",
    "\n",
    "import pickle\n",
    "import numpy as np\n",
    "import pandas as pd\n",
    "\n",
    "from sklearn.metrics import mean_squared_error\n",
    "\n",
    "from pathlib import Path\n",
    "from utils.plots import *"
   ]
  },
  {
   "cell_type": "code",
   "execution_count": 2,
   "metadata": {
    "ExecuteTime": {
     "end_time": "2019-12-16T13:49:07.296817Z",
     "start_time": "2019-12-16T13:49:07.280102Z"
    }
   },
   "outputs": [
    {
     "data": {
      "text/plain": [
       "{'path': PosixPath('data'),\n",
       " 'workdir': PosixPath('data/workdir'),\n",
       " 'train_tsv': PosixPath('data/train.tsv'),\n",
       " 'test_tsv': PosixPath('data/test.tsv'),\n",
       " 'test2_tsv': PosixPath('data/test_stg2.tsv'),\n",
       " 'modeldir': PosixPath('data/workdir/models'),\n",
       " 'figdir': PosixPath('data/workdir/figures'),\n",
       " 'vectordir': PosixPath('data/workdir/vectordir')}"
      ]
     },
     "execution_count": 2,
     "metadata": {},
     "output_type": "execute_result"
    }
   ],
   "source": [
    "from args import args\n",
    "vars(args)"
   ]
  },
  {
   "cell_type": "code",
   "execution_count": 3,
   "metadata": {
    "ExecuteTime": {
     "end_time": "2019-12-16T13:49:07.415135Z",
     "start_time": "2019-12-16T13:49:07.298551Z"
    }
   },
   "outputs": [],
   "source": [
    "subsets = ['s', 'u', 'u+s']\n",
    "rmsle = {}\n",
    "\n",
    "for subset in subsets:\n",
    "  rmsle[subset] = []\n",
    "  with open(args.workdir/f'{subset}_preds.pkl', 'rb') as f:\n",
    "    targs = pickle.load(f)\n",
    "    preds = pickle.load(f)\n",
    "    \n",
    "  for targ, pred in zip(targs, preds):\n",
    "    rmsle[subset].append(np.sqrt(mean_squared_error(pred, targ)))    "
   ]
  },
  {
   "cell_type": "code",
   "execution_count": 4,
   "metadata": {
    "ExecuteTime": {
     "end_time": "2019-12-16T13:49:09.445055Z",
     "start_time": "2019-12-16T13:49:09.427970Z"
    }
   },
   "outputs": [],
   "source": [
    "save = True"
   ]
  },
  {
   "cell_type": "code",
   "execution_count": 5,
   "metadata": {
    "ExecuteTime": {
     "end_time": "2019-12-16T13:49:11.432506Z",
     "start_time": "2019-12-16T13:49:11.408416Z"
    }
   },
   "outputs": [],
   "source": [
    "df = pd.DataFrame.from_dict(rmsle)\n",
    "df.columns = ['Structured (S)', 'Unstructured (U)', 'Multimodal (U+S)']\n",
    "means = [np.round(value.mean(), 3) for colname, value in df.iteritems()]\n",
    "\n",
    "df = pd.melt(df)\n",
    "df.columns = ['', 'RMSLE']"
   ]
  },
  {
   "cell_type": "code",
   "execution_count": 6,
   "metadata": {
    "ExecuteTime": {
     "end_time": "2019-12-16T13:49:31.175746Z",
     "start_time": "2019-12-16T13:49:30.699011Z"
    },
    "scrolled": false
   },
   "outputs": [
    {
     "data": {
      "image/png": "[encoded data removed]",
      "text/plain": [
       "<Figure size 792x576 with 1 Axes>"
      ]
     },
     "metadata": {
      "needs_background": "light"
     },
     "output_type": "display_data"
    }
   ],
   "source": [
    "fig, ax = plt.subplots(1, 1, figsize=(11, 8))\n",
    "g = sns.pointplot(x='', y='RMSLE', data=df, ax=ax, estimator=np.mean)\n",
    "ax.set_ylabel('Average RMSLE')\n",
    "[ax.text(p[0], p[1]+0.002, p[1], color='r') for p in zip(ax.get_xticks(), means)]\n",
    "\n",
    "if save:\n",
    "  fig.savefig(args.figdir/'rmsle_pointplot.pdf', dpi=300, bbox_inches='tight', pad_inches=0)"
   ]
  },
  {
   "cell_type": "markdown",
   "metadata": {},
   "source": [
    "## Box Plot"
   ]
  },
  {
   "cell_type": "code",
   "execution_count": null,
   "metadata": {
    "ExecuteTime": {
     "end_time": "2019-12-04T12:38:52.493503Z",
     "start_time": "2019-12-04T12:38:52.471849Z"
    }
   },
   "outputs": [],
   "source": [
    "plot_dfs = []"
   ]
  },
  {
   "cell_type": "code",
   "execution_count": null,
   "metadata": {
    "ExecuteTime": {
     "end_time": "2019-12-04T12:39:10.688509Z",
     "start_time": "2019-12-04T12:39:08.623699Z"
    }
   },
   "outputs": [],
   "source": [
    "prefix,cohort = 'full_common_vital','Notes & Vitals (U+S)'\n",
    "\n",
    "bams = pickle.load(open(workdir/f'{prefix}_bams.pkl', 'rb'))\n",
    "final_metrics = pd.read_csv(workdir/f'{prefix}_metrics.csv', index_col=0)\n",
    "best_models = pd.read_csv(workdir/f'{prefix}_best_models.csv', index_col=0)\n",
    "ttests = pd.read_csv(workdir/f'{prefix}_ttests.csv', index_col=0)\n",
    "\n",
    "for k in bams.keys():\n",
    "  bams[k.upper()] = bams.pop(k)\n",
    "\n",
    "bams['AVG-ALL'] = bams.pop('AVG-LR-RF-GBM')\n",
    "bams['MAX-ALL'] = bams.pop('MAX-LR-RF-GBM')\n",
    "\n",
    "itr = iter(bams.keys())\n",
    "bams.keys()\n",
    "\n",
    "metrics = {}\n",
    "\n",
    "for md in itr:\n",
    "  df = pd.DataFrame()\n",
    "  for k, m in bams[md].yield_metrics():\n",
    "    df[k] = m\n",
    "  df['Model'] = md\n",
    "  cols = list(df.columns)\n",
    "  cols = [cols[-1]] + cols[:-1]\n",
    "  df = df[cols]\n",
    "  metrics[md] = df\n",
    "\n",
    "plot_df = pd.concat(metrics.values())\n",
    "plot_df['Cohort'] = cohort\n",
    "plot_dfs.append(plot_df)"
   ]
  },
  {
   "cell_type": "code",
   "execution_count": null,
   "metadata": {
    "ExecuteTime": {
     "end_time": "2019-12-04T12:39:10.717313Z",
     "start_time": "2019-12-04T12:39:10.689998Z"
    }
   },
   "outputs": [],
   "source": [
    "plot_df = pd.concat(plot_dfs)\n",
    "plot_df[['Sensitivity', 'Specificity', 'PPV', 'AUC']] = plot_df[['Sensitivity', 'Specificity', 'PPV', 'AUC']] * 100\n",
    "plot_df.shape"
   ]
  },
  {
   "cell_type": "code",
   "execution_count": null,
   "metadata": {
    "ExecuteTime": {
     "end_time": "2019-12-04T12:39:24.676482Z",
     "start_time": "2019-12-04T12:39:23.980810Z"
    }
   },
   "outputs": [],
   "source": [
    "met = 'Sensitivity'\n",
    "\n",
    "fig, ax = plt.subplots(1,1,figsize=(20,10))\n",
    "sns.boxplot(x='Model', y=met, hue='Cohort', data=plot_df, ax=ax)\n",
    "# for i in range(10): plt.axvline(x=i+0.5, ls='-.', color='black')\n",
    "ax.set_xlabel('')"
   ]
  },
  {
   "cell_type": "code",
   "execution_count": null,
   "metadata": {
    "ExecuteTime": {
     "end_time": "2019-12-03T23:42:11.533624Z",
     "start_time": "2019-12-03T23:42:11.359463Z"
    },
    "scrolled": false
   },
   "outputs": [],
   "source": [
    "save = True\n",
    "if save:\n",
    "  fig.savefig(figdir/f'nxv_{met.lower()}_box_plot.pdf', dpi=300)"
   ]
  },
  {
   "cell_type": "markdown",
   "metadata": {},
   "source": [
    "## Mean AUC"
   ]
  },
  {
   "cell_type": "code",
   "execution_count": null,
   "metadata": {
    "ExecuteTime": {
     "end_time": "2019-11-26T23:27:35.544573Z",
     "start_time": "2019-11-26T23:27:35.495571Z"
    }
   },
   "outputs": [],
   "source": [
    "def get_mean_tprs(bams, base_fpr):\n",
    "  mean_tprs = {}  \n",
    "  for model, bam in bams.items():\n",
    "    tprs = []  \n",
    "    for i, (targs, probs) in enumerate(zip(bam.targs, bam.pos_probs)):\n",
    "      fpr, tpr, _ = roc_curve(targs, probs)\n",
    "      tpr = interp(base_fpr, fpr, tpr)\n",
    "      tpr[0] = 0.0\n",
    "      tprs.append(tpr)\n",
    "\n",
    "    tprs = np.array(tprs)\n",
    "    mean_tprs[model] = tprs.mean(axis=0)\n",
    "    \n",
    "  return mean_tprs"
   ]
  },
  {
   "cell_type": "code",
   "execution_count": null,
   "metadata": {
    "ExecuteTime": {
     "end_time": "2019-11-26T23:28:01.461520Z",
     "start_time": "2019-11-26T23:28:01.410784Z"
    }
   },
   "outputs": [],
   "source": [
    "save = True"
   ]
  },
  {
   "cell_type": "code",
   "execution_count": null,
   "metadata": {
    "ExecuteTime": {
     "end_time": "2019-11-26T23:28:35.495087Z",
     "start_time": "2019-11-26T23:28:35.220362Z"
    }
   },
   "outputs": [],
   "source": [
    "prefix = 'full_common_all'\n",
    "\n",
    "bams = pickle.load(open(workdir/f'{prefix}_bams.pkl', 'rb'))\n",
    "final_metrics = pd.read_csv(workdir/f'{prefix}_metrics.csv', index_col=0)\n",
    "best_models = pd.read_csv(workdir/f'{prefix}_best_models.csv', index_col=0)\n",
    "ttests = pd.read_csv(workdir/f'{prefix}_ttests.csv', index_col=0)\n",
    "\n",
    "for k in bams.keys():\n",
    "  bams[k.upper()] = bams.pop(k)\n",
    "\n",
    "bams['AVG-ALL'] = bams.pop('AVG-LR-RF-GBM')\n",
    "bams['MAX-ALL'] = bams.pop('MAX-LR-RF-GBM')"
   ]
  },
  {
   "cell_type": "code",
   "execution_count": null,
   "metadata": {
    "ExecuteTime": {
     "end_time": "2019-11-26T23:28:37.294444Z",
     "start_time": "2019-11-26T23:28:35.496728Z"
    }
   },
   "outputs": [],
   "source": [
    "des = 'all_'\n",
    "\n",
    "if not des:\n",
    "  plot_bams = {k: bams[k] for k in bams.keys() if '-' not in k}\n",
    "  des = ''  \n",
    "  names = plot_bams.keys()\n",
    "  aucs = [model.auroc_avg() for _, model in plot_bams.items()]\n",
    "  legends = [f'{model} ({auc})' for model, auc in zip(names, aucs)]\n",
    "elif des == 'avg_':\n",
    "  plot_bams = {k: bams[k] for k in bams.keys() if 'avg' in k}\n",
    "  names = [name[4:] for name in plot_bams.keys()]\n",
    "  aucs = [model.auroc_avg() for _, model in plot_bams.items()]\n",
    "  legends = [f'{model} ({auc})' for model, auc in zip(names, aucs)]  \n",
    "elif des == 'max_':\n",
    "  plot_bams = {k: bams[k] for k in bams.keys() if 'max' in k}\n",
    "  names = [name[4:] for name in plot_bams.keys()]\n",
    "  aucs = [model.auroc_avg() for _, model in plot_bams.items()]\n",
    "  legends = [f'{model} ({auc})' for model, auc in zip(names, aucs)]  \n",
    "elif des == 'all_':\n",
    "  plot_bams = bams\n",
    "  names = plot_bams.keys()\n",
    "  aucs = [model.auroc_avg() for _, model in plot_bams.items()]\n",
    "  legends = [f'{model} ({auc})' for model, auc in zip(names, aucs)]\n",
    "  \n",
    "legends  "
   ]
  },
  {
   "cell_type": "code",
   "execution_count": null,
   "metadata": {
    "ExecuteTime": {
     "end_time": "2019-11-26T23:28:38.773061Z",
     "start_time": "2019-11-26T23:28:37.296370Z"
    }
   },
   "outputs": [],
   "source": [
    "base_fpr = np.linspace(0, 1, 100)\n",
    "mean_tprs = get_mean_tprs(plot_bams, base_fpr)\n",
    "\n",
    "fig, ax = plt.subplots(1, 1, figsize=(11, 8))\n",
    "for i, (model, mean_tpr) in enumerate(mean_tprs.items()):\n",
    "  ax.plot(base_fpr, mean_tpr)\n",
    "ax.plot([0, 1], [0, 1], linestyle=':')  \n",
    "ax.grid(b=True, which='major', color='#d3d3d3', linewidth=1.0)\n",
    "ax.grid(b=True, which='minor', color='#d3d3d3', linewidth=0.5)\n",
    "ax.set_ylabel('Sensitivity')\n",
    "ax.set_xlabel('1 - Specificity')\n",
    "ax.legend(legends)\n",
    "\n",
    "if save:\n",
    "  fig.savefig(figdir/f'{prefix}_{des}mean_auc.pdf', dpi=300)"
   ]
  }
 ],
 "metadata": {
  "kernelspec": {
   "display_name": "Python 3",
   "language": "python",
   "name": "python3"
  },
  "language_info": {
   "codemirror_mode": {
    "name": "ipython",
    "version": 3
   },
   "file_extension": ".py",
   "mimetype": "text/x-python",
   "name": "python",
   "nbconvert_exporter": "python",
   "pygments_lexer": "ipython3",
   "version": "3.7.5"
  },
  "toc": {
   "base_numbering": 1,
   "nav_menu": {},
   "number_sections": true,
   "sideBar": true,
   "skip_h1_title": true,
   "title_cell": "Table of Contents",
   "title_sidebar": "Contents",
   "toc_cell": false,
   "toc_position": {},
   "toc_section_display": true,
   "toc_window_display": false
  }
 },
 "nbformat": 4,
 "nbformat_minor": 2
}
