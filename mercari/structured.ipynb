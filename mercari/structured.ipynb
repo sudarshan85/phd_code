{
 "cells": [
  {
   "cell_type": "markdown",
   "metadata": {},
   "source": [
    "# Mercari Price Suggestion GBM Classifier with Structured Data"
   ]
  },
  {
   "cell_type": "markdown",
   "metadata": {},
   "source": [
    "## Imports & Inits"
   ]
  },
  {
   "cell_type": "code",
   "execution_count": 1,
   "metadata": {
    "ExecuteTime": {
     "end_time": "2019-12-15T01:43:11.249638Z",
     "start_time": "2019-12-15T01:43:11.237868Z"
    }
   },
   "outputs": [],
   "source": [
    "%load_ext autoreload\n",
    "%autoreload 2"
   ]
  },
  {
   "cell_type": "code",
   "execution_count": 2,
   "metadata": {
    "ExecuteTime": {
     "end_time": "2019-12-15T01:43:11.943287Z",
     "start_time": "2019-12-15T01:43:11.251161Z"
    }
   },
   "outputs": [],
   "source": [
    "import sys\n",
    "sys.path.append('../')\n",
    "\n",
    "import warnings\n",
    "warnings.filterwarnings(\"ignore\", category=UserWarning)\n",
    "\n",
    "import pdb\n",
    "import re\n",
    "import pickle\n",
    "import string\n",
    "import pandas as pd\n",
    "import numpy as np\n",
    "import lightgbm as lgb\n",
    "np.set_printoptions(precision=4)\n",
    "\n",
    "from wordcloud import WordCloud\n",
    "from sklearn.metrics import mean_squared_error\n",
    "\n",
    "from pathlib import Path\n",
    "\n",
    "from utils.data_utils import set_two_splits\n",
    "from utils.plots import *\n",
    "\n",
    "import matplotlib.pyplot as plt\n",
    "from matplotlib.ticker import FuncFormatter\n",
    "import seaborn as sns\n",
    "sns.set_style(\"darkgrid\")\n",
    "%matplotlib inline"
   ]
  },
  {
   "cell_type": "code",
   "execution_count": 3,
   "metadata": {
    "ExecuteTime": {
     "end_time": "2019-12-15T01:43:11.962515Z",
     "start_time": "2019-12-15T01:43:11.945240Z"
    }
   },
   "outputs": [
    {
     "data": {
      "text/plain": [
       "{'path': PosixPath('data'),\n",
       " 'workdir': PosixPath('data/workdir'),\n",
       " 'train_tsv': PosixPath('data/train.tsv'),\n",
       " 'test_tsv': PosixPath('data/test.tsv'),\n",
       " 'test2_tsv': PosixPath('data/test_stg2.tsv'),\n",
       " 'modeldir': PosixPath('data/workdir/models'),\n",
       " 'figdir': PosixPath('data/workdir/figures')}"
      ]
     },
     "execution_count": 3,
     "metadata": {},
     "output_type": "execute_result"
    }
   ],
   "source": [
    "from args import args\n",
    "vars(args)"
   ]
  },
  {
   "cell_type": "code",
   "execution_count": 34,
   "metadata": {
    "ExecuteTime": {
     "end_time": "2019-12-15T01:55:03.719661Z",
     "start_time": "2019-12-15T01:55:03.701861Z"
    }
   },
   "outputs": [],
   "source": [
    "save = True"
   ]
  },
  {
   "cell_type": "markdown",
   "metadata": {},
   "source": [
    "## Functions"
   ]
  },
  {
   "cell_type": "markdown",
   "metadata": {},
   "source": [
    "## Train and Validation"
   ]
  },
  {
   "cell_type": "code",
   "execution_count": 13,
   "metadata": {
    "ExecuteTime": {
     "end_time": "2019-12-15T01:46:28.480429Z",
     "start_time": "2019-12-15T01:46:25.816327Z"
    }
   },
   "outputs": [
    {
     "data": {
      "text/html": [
       "<div>\n",
       "<style scoped>\n",
       "    .dataframe tbody tr th:only-of-type {\n",
       "        vertical-align: middle;\n",
       "    }\n",
       "\n",
       "    .dataframe tbody tr th {\n",
       "        vertical-align: top;\n",
       "    }\n",
       "\n",
       "    .dataframe thead th {\n",
       "        text-align: right;\n",
       "    }\n",
       "</style>\n",
       "<table border=\"1\" class=\"dataframe\">\n",
       "  <thead>\n",
       "    <tr style=\"text-align: right;\">\n",
       "      <th></th>\n",
       "      <th>item_condition_id</th>\n",
       "      <th>brand_name</th>\n",
       "      <th>price</th>\n",
       "      <th>shipping</th>\n",
       "      <th>main_cat</th>\n",
       "      <th>sub_cat1</th>\n",
       "      <th>sub_cat2</th>\n",
       "    </tr>\n",
       "  </thead>\n",
       "  <tbody>\n",
       "    <tr>\n",
       "      <th>0</th>\n",
       "      <td>3</td>\n",
       "      <td>missing</td>\n",
       "      <td>2.397895</td>\n",
       "      <td>1</td>\n",
       "      <td>Men</td>\n",
       "      <td>Tops</td>\n",
       "      <td>T-shirts</td>\n",
       "    </tr>\n",
       "    <tr>\n",
       "      <th>1</th>\n",
       "      <td>3</td>\n",
       "      <td>Razer</td>\n",
       "      <td>3.970292</td>\n",
       "      <td>0</td>\n",
       "      <td>Electronics</td>\n",
       "      <td>Computers &amp; Tablets</td>\n",
       "      <td>Components &amp; Parts</td>\n",
       "    </tr>\n",
       "    <tr>\n",
       "      <th>2</th>\n",
       "      <td>1</td>\n",
       "      <td>Target</td>\n",
       "      <td>2.397895</td>\n",
       "      <td>1</td>\n",
       "      <td>Women</td>\n",
       "      <td>Tops &amp; Blouses</td>\n",
       "      <td>Blouse</td>\n",
       "    </tr>\n",
       "    <tr>\n",
       "      <th>3</th>\n",
       "      <td>1</td>\n",
       "      <td>missing</td>\n",
       "      <td>3.583519</td>\n",
       "      <td>1</td>\n",
       "      <td>Home</td>\n",
       "      <td>Home Décor</td>\n",
       "      <td>Home Décor Accents</td>\n",
       "    </tr>\n",
       "    <tr>\n",
       "      <th>4</th>\n",
       "      <td>1</td>\n",
       "      <td>missing</td>\n",
       "      <td>3.806662</td>\n",
       "      <td>0</td>\n",
       "      <td>Women</td>\n",
       "      <td>Jewelry</td>\n",
       "      <td>Necklaces</td>\n",
       "    </tr>\n",
       "  </tbody>\n",
       "</table>\n",
       "</div>"
      ],
      "text/plain": [
       "   item_condition_id brand_name     price  shipping     main_cat  \\\n",
       "0                  3    missing  2.397895         1          Men   \n",
       "1                  3      Razer  3.970292         0  Electronics   \n",
       "2                  1     Target  2.397895         1        Women   \n",
       "3                  1    missing  3.583519         1         Home   \n",
       "4                  1    missing  3.806662         0        Women   \n",
       "\n",
       "              sub_cat1            sub_cat2  \n",
       "0                 Tops            T-shirts  \n",
       "1  Computers & Tablets  Components & Parts  \n",
       "2       Tops & Blouses              Blouse  \n",
       "3           Home Décor  Home Décor Accents  \n",
       "4              Jewelry           Necklaces  "
      ]
     },
     "execution_count": 13,
     "metadata": {},
     "output_type": "execute_result"
    }
   ],
   "source": [
    "str_cols = ['item_condition_id', 'brand_name', 'shipping', 'main_cat', 'sub_cat1', 'sub_cat2']\n",
    "\n",
    "str_df = pd.read_csv(args.path/'train_df.csv', usecols=str_cols+['price'])\n",
    "str_df.head()"
   ]
  },
  {
   "cell_type": "code",
   "execution_count": 16,
   "metadata": {
    "ExecuteTime": {
     "end_time": "2019-12-15T01:47:08.711059Z",
     "start_time": "2019-12-15T01:47:07.424146Z"
    }
   },
   "outputs": [
    {
     "data": {
      "text/plain": [
       "((1462949, 8), (1243506, 7), (219443, 7), (1243506,), (219443,))"
      ]
     },
     "execution_count": 16,
     "metadata": {},
     "output_type": "execute_result"
    }
   ],
   "source": [
    "seed = 643\n",
    "df = set_two_splits(str_df.copy(), 'valid', seed=seed)\n",
    "train_df = df.loc[df['split'] == 'train', str_cols+['price']].reset_index(drop=True)\n",
    "valid_df = df.loc[df['split'] == 'valid', str_cols+['price']].reset_index(drop=True)\n",
    "y_train = train_df['price']\n",
    "y_valid = valid_df['price']\n",
    "\n",
    "df.shape, train_df.shape, valid_df.shape, y_train.shape, y_valid.shape"
   ]
  },
  {
   "cell_type": "code",
   "execution_count": 19,
   "metadata": {
    "ExecuteTime": {
     "end_time": "2019-12-15T01:47:47.219364Z",
     "start_time": "2019-12-15T01:47:46.702758Z"
    }
   },
   "outputs": [
    {
     "name": "stderr",
     "output_type": "stream",
     "text": [
      "/storage/anaconda3/envs/phd/lib/python3.7/site-packages/ipykernel_launcher.py:8: FutureWarning: \n",
      "Passing list-likes to .loc or [] with any missing label will raise\n",
      "KeyError in the future, you can use .reindex() as an alternative.\n",
      "\n",
      "See the documentation here:\n",
      "https://pandas.pydata.org/pandas-docs/stable/user_guide/indexing.html#deprecate-loc-reindex-listlike\n",
      "  \n"
     ]
    }
   ],
   "source": [
    "brands = train_df.groupby('brand_name')['price'].mean().sort_values(ascending=False).to_frame()\n",
    "brands['id'] = brands.reset_index().index.values\n",
    "brand_names = brands.index.values\n",
    "\n",
    "train_brand_data = brands.loc[train_df['brand_name']]\n",
    "train_df.loc[:, 'brand_val'] = train_brand_data['id'].values/len(brand_names)\n",
    "\n",
    "valid_brand_data = brands.loc[valid_df['brand_name']]\n",
    "valid_df.loc[:, 'brand_val'] = valid_brand_data['id'].values/len(brand_names)\n",
    "\n",
    "maincats = train_df.groupby('main_cat')['price'].mean().sort_values(ascending=False).to_frame()\n",
    "maincats['id'] = maincats.reset_index().index.values\n",
    "maincat_names = maincats.index.values\n",
    "\n",
    "train_maincats = maincats.loc[train_df['main_cat']]\n",
    "train_df.loc[:, 'maincat_val'] = train_maincats['id'].values/len(maincat_names)\n",
    "\n",
    "valid_maincats = maincats.loc[valid_df['main_cat']]\n",
    "valid_df.loc[:, 'maincat_val'] = valid_maincats['id'].values/len(maincat_names)\n",
    "\n",
    "subcat1s = train_df.groupby('sub_cat1')['price'].mean().sort_values(ascending=False).to_frame()\n",
    "subcat1s['id'] = subcat1s.reset_index().index.values\n",
    "subcat1_names = subcat1s.index.values\n",
    "\n",
    "train_subcat1s = subcat1s.loc[train_df['sub_cat1']]\n",
    "train_df.loc[:, 'subcat1_val'] = train_subcat1s['id'].values/len(subcat1_names)\n",
    "\n",
    "valid_subcat1s = subcat1s.loc[valid_df['sub_cat1']]\n",
    "valid_df.loc[:, 'subcat1_val'] = valid_subcat1s['id'].values/len(subcat1_names)\n",
    "\n",
    "subcat2s = train_df.groupby('sub_cat2')['price'].mean().sort_values(ascending=False).to_frame()\n",
    "subcat2s['id'] = subcat2s.reset_index().index.values\n",
    "subcat2_names = subcat2s.index.values\n",
    "\n",
    "train_subcat2s = subcat2s.loc[train_df['sub_cat2']]\n",
    "train_df.loc[:, 'subcat2_val'] = train_subcat2s['id'].values/len(subcat2_names)\n",
    "\n",
    "valid_subcat2s = subcat2s.loc[valid_df['sub_cat2']]\n",
    "valid_df.loc[:, 'subcat2_val'] = valid_subcat2s['id'].values/len(subcat2_names)"
   ]
  },
  {
   "cell_type": "code",
   "execution_count": 25,
   "metadata": {
    "ExecuteTime": {
     "end_time": "2019-12-15T01:48:58.920129Z",
     "start_time": "2019-12-15T01:48:58.868116Z"
    }
   },
   "outputs": [],
   "source": [
    "x_train = train_df[['item_condition_id', 'shipping', 'brand_val', 'maincat_val', 'subcat1_val', 'subcat2_val']].values\n",
    "\n",
    "x_valid = valid_df[['item_condition_id', 'shipping', 'brand_val', 'maincat_val', 'subcat1_val', 'subcat2_val']].values"
   ]
  },
  {
   "cell_type": "code",
   "execution_count": 26,
   "metadata": {
    "ExecuteTime": {
     "end_time": "2019-12-15T01:48:59.711691Z",
     "start_time": "2019-12-15T01:48:59.692597Z"
    }
   },
   "outputs": [],
   "source": [
    "lgb_train = lgb.Dataset(x_train, y_train)\n",
    "lgb_valid = lgb.Dataset(x_valid, y_valid, reference=lgb_train)\n",
    "\n",
    "lgb_params = {\n",
    "  'num_leaves': 400,\n",
    "  'learning_rate': 0.05,\n",
    "  'feature_fraction': 0.9,\n",
    "  'bagging_fraction': 0.7,\n",
    "  'bagging_freq': 5,\n",
    "  'metric': 'rmse',\n",
    "  'num_threads': 32,\n",
    "  'max_bin': 32,\n",
    "  'objective': 'regression',\n",
    "}"
   ]
  },
  {
   "cell_type": "code",
   "execution_count": 28,
   "metadata": {
    "ExecuteTime": {
     "end_time": "2019-12-15T01:50:52.963327Z",
     "start_time": "2019-12-15T01:49:45.373094Z"
    },
    "scrolled": true
   },
   "outputs": [
    {
     "name": "stdout",
     "output_type": "stream",
     "text": [
      "[1]\ttraining's rmse: 0.713949\tvalid_1's rmse: 0.713133\n",
      "Training until validation scores don't improve for 10 rounds\n",
      "[2]\ttraining's rmse: 0.700567\tvalid_1's rmse: 0.699923\n",
      "[3]\ttraining's rmse: 0.691071\tvalid_1's rmse: 0.690537\n",
      "[4]\ttraining's rmse: 0.679429\tvalid_1's rmse: 0.679075\n",
      "[5]\ttraining's rmse: 0.668138\tvalid_1's rmse: 0.667974\n",
      "[6]\ttraining's rmse: 0.660695\tvalid_1's rmse: 0.660631\n",
      "[7]\ttraining's rmse: 0.651309\tvalid_1's rmse: 0.65142\n",
      "[8]\ttraining's rmse: 0.642272\tvalid_1's rmse: 0.642567\n",
      "[9]\ttraining's rmse: 0.63434\tvalid_1's rmse: 0.634793\n",
      "[10]\ttraining's rmse: 0.626707\tvalid_1's rmse: 0.627334\n",
      "[11]\ttraining's rmse: 0.620362\tvalid_1's rmse: 0.621102\n",
      "[12]\ttraining's rmse: 0.61458\tvalid_1's rmse: 0.61543\n",
      "[13]\ttraining's rmse: 0.608799\tvalid_1's rmse: 0.609802\n",
      "[14]\ttraining's rmse: 0.603203\tvalid_1's rmse: 0.604356\n",
      "[15]\ttraining's rmse: 0.598139\tvalid_1's rmse: 0.599446\n",
      "[16]\ttraining's rmse: 0.593536\tvalid_1's rmse: 0.594984\n",
      "[17]\ttraining's rmse: 0.589448\tvalid_1's rmse: 0.591031\n",
      "[18]\ttraining's rmse: 0.586557\tvalid_1's rmse: 0.588214\n",
      "[19]\ttraining's rmse: 0.582926\tvalid_1's rmse: 0.584727\n",
      "[20]\ttraining's rmse: 0.580518\tvalid_1's rmse: 0.582383\n",
      "[21]\ttraining's rmse: 0.577443\tvalid_1's rmse: 0.579432\n",
      "[22]\ttraining's rmse: 0.574607\tvalid_1's rmse: 0.576709\n",
      "[23]\ttraining's rmse: 0.572721\tvalid_1's rmse: 0.574885\n",
      "[24]\ttraining's rmse: 0.570231\tvalid_1's rmse: 0.572518\n",
      "[25]\ttraining's rmse: 0.568144\tvalid_1's rmse: 0.570517\n",
      "[26]\ttraining's rmse: 0.566009\tvalid_1's rmse: 0.568495\n",
      "[27]\ttraining's rmse: 0.56466\tvalid_1's rmse: 0.567191\n",
      "[28]\ttraining's rmse: 0.563003\tvalid_1's rmse: 0.565615\n",
      "[29]\ttraining's rmse: 0.561292\tvalid_1's rmse: 0.564003\n",
      "[30]\ttraining's rmse: 0.559746\tvalid_1's rmse: 0.562549\n",
      "[31]\ttraining's rmse: 0.558327\tvalid_1's rmse: 0.561225\n",
      "[32]\ttraining's rmse: 0.55702\tvalid_1's rmse: 0.560005\n",
      "[33]\ttraining's rmse: 0.55595\tvalid_1's rmse: 0.559003\n",
      "[34]\ttraining's rmse: 0.555165\tvalid_1's rmse: 0.558256\n",
      "[35]\ttraining's rmse: 0.55412\tvalid_1's rmse: 0.557297\n",
      "[36]\ttraining's rmse: 0.553185\tvalid_1's rmse: 0.556448\n",
      "[37]\ttraining's rmse: 0.552266\tvalid_1's rmse: 0.555588\n",
      "[38]\ttraining's rmse: 0.551491\tvalid_1's rmse: 0.554897\n",
      "[39]\ttraining's rmse: 0.550734\tvalid_1's rmse: 0.5542\n",
      "[40]\ttraining's rmse: 0.550081\tvalid_1's rmse: 0.553621\n",
      "[41]\ttraining's rmse: 0.549496\tvalid_1's rmse: 0.553088\n",
      "[42]\ttraining's rmse: 0.548826\tvalid_1's rmse: 0.552464\n",
      "[43]\ttraining's rmse: 0.548247\tvalid_1's rmse: 0.551931\n",
      "[44]\ttraining's rmse: 0.54779\tvalid_1's rmse: 0.551522\n",
      "[45]\ttraining's rmse: 0.547281\tvalid_1's rmse: 0.551054\n",
      "[46]\ttraining's rmse: 0.546828\tvalid_1's rmse: 0.550646\n",
      "[47]\ttraining's rmse: 0.546499\tvalid_1's rmse: 0.550341\n",
      "[48]\ttraining's rmse: 0.546088\tvalid_1's rmse: 0.549968\n",
      "[49]\ttraining's rmse: 0.545757\tvalid_1's rmse: 0.549666\n",
      "[50]\ttraining's rmse: 0.545405\tvalid_1's rmse: 0.549357\n",
      "[51]\ttraining's rmse: 0.545129\tvalid_1's rmse: 0.54912\n",
      "[52]\ttraining's rmse: 0.544826\tvalid_1's rmse: 0.548861\n",
      "[53]\ttraining's rmse: 0.544535\tvalid_1's rmse: 0.54861\n",
      "[54]\ttraining's rmse: 0.544226\tvalid_1's rmse: 0.548343\n",
      "[55]\ttraining's rmse: 0.543967\tvalid_1's rmse: 0.548119\n",
      "[56]\ttraining's rmse: 0.543712\tvalid_1's rmse: 0.547891\n",
      "[57]\ttraining's rmse: 0.543497\tvalid_1's rmse: 0.54772\n",
      "[58]\ttraining's rmse: 0.543315\tvalid_1's rmse: 0.547562\n",
      "[59]\ttraining's rmse: 0.543069\tvalid_1's rmse: 0.547342\n",
      "[60]\ttraining's rmse: 0.542852\tvalid_1's rmse: 0.547154\n",
      "[61]\ttraining's rmse: 0.542677\tvalid_1's rmse: 0.547017\n",
      "[62]\ttraining's rmse: 0.542482\tvalid_1's rmse: 0.546857\n",
      "[63]\ttraining's rmse: 0.54231\tvalid_1's rmse: 0.546709\n",
      "[64]\ttraining's rmse: 0.542128\tvalid_1's rmse: 0.546557\n",
      "[65]\ttraining's rmse: 0.541956\tvalid_1's rmse: 0.54641\n",
      "[66]\ttraining's rmse: 0.541823\tvalid_1's rmse: 0.546308\n",
      "[67]\ttraining's rmse: 0.541697\tvalid_1's rmse: 0.546217\n",
      "[68]\ttraining's rmse: 0.541564\tvalid_1's rmse: 0.546115\n",
      "[69]\ttraining's rmse: 0.541455\tvalid_1's rmse: 0.546036\n",
      "[70]\ttraining's rmse: 0.541348\tvalid_1's rmse: 0.545949\n",
      "[71]\ttraining's rmse: 0.541247\tvalid_1's rmse: 0.545879\n",
      "[72]\ttraining's rmse: 0.541135\tvalid_1's rmse: 0.545795\n",
      "[73]\ttraining's rmse: 0.541039\tvalid_1's rmse: 0.545714\n",
      "[74]\ttraining's rmse: 0.540911\tvalid_1's rmse: 0.545603\n",
      "[75]\ttraining's rmse: 0.540827\tvalid_1's rmse: 0.54553\n",
      "[76]\ttraining's rmse: 0.540706\tvalid_1's rmse: 0.545433\n",
      "[77]\ttraining's rmse: 0.540613\tvalid_1's rmse: 0.545364\n",
      "[78]\ttraining's rmse: 0.540529\tvalid_1's rmse: 0.545301\n",
      "[79]\ttraining's rmse: 0.540443\tvalid_1's rmse: 0.545237\n",
      "[80]\ttraining's rmse: 0.540343\tvalid_1's rmse: 0.545164\n",
      "[81]\ttraining's rmse: 0.540259\tvalid_1's rmse: 0.5451\n",
      "[82]\ttraining's rmse: 0.540184\tvalid_1's rmse: 0.545048\n",
      "[83]\ttraining's rmse: 0.540115\tvalid_1's rmse: 0.544999\n",
      "[84]\ttraining's rmse: 0.540049\tvalid_1's rmse: 0.544948\n",
      "[85]\ttraining's rmse: 0.539989\tvalid_1's rmse: 0.544909\n",
      "[86]\ttraining's rmse: 0.539918\tvalid_1's rmse: 0.544857\n",
      "[87]\ttraining's rmse: 0.539858\tvalid_1's rmse: 0.544815\n",
      "[88]\ttraining's rmse: 0.539781\tvalid_1's rmse: 0.544753\n",
      "[89]\ttraining's rmse: 0.539721\tvalid_1's rmse: 0.544708\n",
      "[90]\ttraining's rmse: 0.539652\tvalid_1's rmse: 0.54466\n",
      "[91]\ttraining's rmse: 0.539566\tvalid_1's rmse: 0.544587\n",
      "[92]\ttraining's rmse: 0.539493\tvalid_1's rmse: 0.544541\n",
      "[93]\ttraining's rmse: 0.539429\tvalid_1's rmse: 0.544499\n",
      "[94]\ttraining's rmse: 0.539377\tvalid_1's rmse: 0.544464\n",
      "[95]\ttraining's rmse: 0.539315\tvalid_1's rmse: 0.544409\n",
      "[96]\ttraining's rmse: 0.539262\tvalid_1's rmse: 0.544371\n",
      "[97]\ttraining's rmse: 0.539206\tvalid_1's rmse: 0.544326\n",
      "[98]\ttraining's rmse: 0.539156\tvalid_1's rmse: 0.544288\n",
      "[99]\ttraining's rmse: 0.539098\tvalid_1's rmse: 0.544245\n",
      "[100]\ttraining's rmse: 0.539027\tvalid_1's rmse: 0.54419\n",
      "[101]\ttraining's rmse: 0.538978\tvalid_1's rmse: 0.544153\n",
      "[102]\ttraining's rmse: 0.538933\tvalid_1's rmse: 0.544125\n",
      "[103]\ttraining's rmse: 0.538878\tvalid_1's rmse: 0.544085\n",
      "[104]\ttraining's rmse: 0.538834\tvalid_1's rmse: 0.54405\n",
      "[105]\ttraining's rmse: 0.538793\tvalid_1's rmse: 0.54402\n",
      "[106]\ttraining's rmse: 0.538728\tvalid_1's rmse: 0.543971\n",
      "[107]\ttraining's rmse: 0.538674\tvalid_1's rmse: 0.543925\n",
      "[108]\ttraining's rmse: 0.538625\tvalid_1's rmse: 0.543884\n",
      "[109]\ttraining's rmse: 0.538578\tvalid_1's rmse: 0.54385\n",
      "[110]\ttraining's rmse: 0.538521\tvalid_1's rmse: 0.54381\n",
      "[111]\ttraining's rmse: 0.538464\tvalid_1's rmse: 0.543771\n",
      "[112]\ttraining's rmse: 0.538419\tvalid_1's rmse: 0.543736\n",
      "[113]\ttraining's rmse: 0.538376\tvalid_1's rmse: 0.54371\n",
      "[114]\ttraining's rmse: 0.53832\tvalid_1's rmse: 0.543672\n",
      "[115]\ttraining's rmse: 0.538282\tvalid_1's rmse: 0.543655\n",
      "[116]\ttraining's rmse: 0.538239\tvalid_1's rmse: 0.543622\n",
      "[117]\ttraining's rmse: 0.538194\tvalid_1's rmse: 0.543591\n",
      "[118]\ttraining's rmse: 0.538159\tvalid_1's rmse: 0.543565\n",
      "[119]\ttraining's rmse: 0.538121\tvalid_1's rmse: 0.543536\n",
      "[120]\ttraining's rmse: 0.538088\tvalid_1's rmse: 0.543512\n",
      "[121]\ttraining's rmse: 0.538045\tvalid_1's rmse: 0.543483\n",
      "[122]\ttraining's rmse: 0.538012\tvalid_1's rmse: 0.543459\n",
      "[123]\ttraining's rmse: 0.537981\tvalid_1's rmse: 0.543439\n",
      "[124]\ttraining's rmse: 0.537951\tvalid_1's rmse: 0.543425\n",
      "[125]\ttraining's rmse: 0.537914\tvalid_1's rmse: 0.543402\n",
      "[126]\ttraining's rmse: 0.537875\tvalid_1's rmse: 0.54338\n",
      "[127]\ttraining's rmse: 0.537841\tvalid_1's rmse: 0.543357\n",
      "[128]\ttraining's rmse: 0.537804\tvalid_1's rmse: 0.543334\n",
      "[129]\ttraining's rmse: 0.537773\tvalid_1's rmse: 0.543313\n",
      "[130]\ttraining's rmse: 0.537724\tvalid_1's rmse: 0.543277\n",
      "[131]\ttraining's rmse: 0.537686\tvalid_1's rmse: 0.54325\n",
      "[132]\ttraining's rmse: 0.537642\tvalid_1's rmse: 0.543219\n",
      "[133]\ttraining's rmse: 0.537611\tvalid_1's rmse: 0.543202\n",
      "[134]\ttraining's rmse: 0.537578\tvalid_1's rmse: 0.543181\n",
      "[135]\ttraining's rmse: 0.537552\tvalid_1's rmse: 0.543173\n",
      "[136]\ttraining's rmse: 0.537515\tvalid_1's rmse: 0.54315\n",
      "[137]\ttraining's rmse: 0.537487\tvalid_1's rmse: 0.543131\n",
      "[138]\ttraining's rmse: 0.53746\tvalid_1's rmse: 0.543119\n",
      "[139]\ttraining's rmse: 0.53743\tvalid_1's rmse: 0.5431\n",
      "[140]\ttraining's rmse: 0.537403\tvalid_1's rmse: 0.543088\n",
      "[141]\ttraining's rmse: 0.53738\tvalid_1's rmse: 0.543074\n",
      "[142]\ttraining's rmse: 0.537348\tvalid_1's rmse: 0.543044\n",
      "[143]\ttraining's rmse: 0.537318\tvalid_1's rmse: 0.543023\n",
      "[144]\ttraining's rmse: 0.537289\tvalid_1's rmse: 0.543006\n",
      "[145]\ttraining's rmse: 0.537267\tvalid_1's rmse: 0.54299\n",
      "[146]\ttraining's rmse: 0.537241\tvalid_1's rmse: 0.542969\n",
      "[147]\ttraining's rmse: 0.537214\tvalid_1's rmse: 0.542955\n"
     ]
    },
    {
     "name": "stdout",
     "output_type": "stream",
     "text": [
      "[148]\ttraining's rmse: 0.537177\tvalid_1's rmse: 0.542926\n",
      "[149]\ttraining's rmse: 0.537149\tvalid_1's rmse: 0.542904\n",
      "[150]\ttraining's rmse: 0.537122\tvalid_1's rmse: 0.542883\n",
      "[151]\ttraining's rmse: 0.537096\tvalid_1's rmse: 0.54287\n",
      "[152]\ttraining's rmse: 0.537056\tvalid_1's rmse: 0.542844\n",
      "[153]\ttraining's rmse: 0.537021\tvalid_1's rmse: 0.54282\n",
      "[154]\ttraining's rmse: 0.536998\tvalid_1's rmse: 0.542809\n",
      "[155]\ttraining's rmse: 0.536973\tvalid_1's rmse: 0.542788\n",
      "[156]\ttraining's rmse: 0.536938\tvalid_1's rmse: 0.542762\n",
      "[157]\ttraining's rmse: 0.536907\tvalid_1's rmse: 0.542744\n",
      "[158]\ttraining's rmse: 0.536887\tvalid_1's rmse: 0.542729\n",
      "[159]\ttraining's rmse: 0.536861\tvalid_1's rmse: 0.542714\n",
      "[160]\ttraining's rmse: 0.536842\tvalid_1's rmse: 0.542698\n",
      "[161]\ttraining's rmse: 0.536816\tvalid_1's rmse: 0.542689\n",
      "[162]\ttraining's rmse: 0.536788\tvalid_1's rmse: 0.542674\n",
      "[163]\ttraining's rmse: 0.536765\tvalid_1's rmse: 0.542662\n",
      "[164]\ttraining's rmse: 0.536741\tvalid_1's rmse: 0.542654\n",
      "[165]\ttraining's rmse: 0.536719\tvalid_1's rmse: 0.542648\n",
      "[166]\ttraining's rmse: 0.536699\tvalid_1's rmse: 0.542639\n",
      "[167]\ttraining's rmse: 0.536679\tvalid_1's rmse: 0.542627\n",
      "[168]\ttraining's rmse: 0.536646\tvalid_1's rmse: 0.542604\n",
      "[169]\ttraining's rmse: 0.536619\tvalid_1's rmse: 0.542585\n",
      "[170]\ttraining's rmse: 0.536599\tvalid_1's rmse: 0.542574\n",
      "[171]\ttraining's rmse: 0.53657\tvalid_1's rmse: 0.542559\n",
      "[172]\ttraining's rmse: 0.536547\tvalid_1's rmse: 0.542546\n",
      "[173]\ttraining's rmse: 0.536518\tvalid_1's rmse: 0.542527\n",
      "[174]\ttraining's rmse: 0.536482\tvalid_1's rmse: 0.5425\n",
      "[175]\ttraining's rmse: 0.536464\tvalid_1's rmse: 0.542486\n",
      "[176]\ttraining's rmse: 0.536443\tvalid_1's rmse: 0.542477\n",
      "[177]\ttraining's rmse: 0.536411\tvalid_1's rmse: 0.542458\n",
      "[178]\ttraining's rmse: 0.536394\tvalid_1's rmse: 0.542451\n",
      "[179]\ttraining's rmse: 0.536369\tvalid_1's rmse: 0.542439\n",
      "[180]\ttraining's rmse: 0.536348\tvalid_1's rmse: 0.54243\n",
      "[181]\ttraining's rmse: 0.536327\tvalid_1's rmse: 0.542415\n",
      "[182]\ttraining's rmse: 0.536309\tvalid_1's rmse: 0.54241\n",
      "[183]\ttraining's rmse: 0.536288\tvalid_1's rmse: 0.542404\n",
      "[184]\ttraining's rmse: 0.536272\tvalid_1's rmse: 0.542398\n",
      "[185]\ttraining's rmse: 0.536255\tvalid_1's rmse: 0.542385\n",
      "[186]\ttraining's rmse: 0.536238\tvalid_1's rmse: 0.542379\n",
      "[187]\ttraining's rmse: 0.536222\tvalid_1's rmse: 0.542373\n",
      "[188]\ttraining's rmse: 0.536208\tvalid_1's rmse: 0.542368\n",
      "[189]\ttraining's rmse: 0.536187\tvalid_1's rmse: 0.54236\n",
      "[190]\ttraining's rmse: 0.53617\tvalid_1's rmse: 0.542354\n",
      "[191]\ttraining's rmse: 0.536152\tvalid_1's rmse: 0.542348\n",
      "[192]\ttraining's rmse: 0.536136\tvalid_1's rmse: 0.542343\n",
      "[193]\ttraining's rmse: 0.536115\tvalid_1's rmse: 0.542338\n",
      "[194]\ttraining's rmse: 0.5361\tvalid_1's rmse: 0.542337\n",
      "[195]\ttraining's rmse: 0.536085\tvalid_1's rmse: 0.542332\n",
      "[196]\ttraining's rmse: 0.536071\tvalid_1's rmse: 0.542328\n",
      "[197]\ttraining's rmse: 0.536053\tvalid_1's rmse: 0.542328\n",
      "[198]\ttraining's rmse: 0.53604\tvalid_1's rmse: 0.542329\n",
      "[199]\ttraining's rmse: 0.536028\tvalid_1's rmse: 0.542331\n",
      "[200]\ttraining's rmse: 0.53601\tvalid_1's rmse: 0.542322\n",
      "[201]\ttraining's rmse: 0.53599\tvalid_1's rmse: 0.542312\n",
      "[202]\ttraining's rmse: 0.535967\tvalid_1's rmse: 0.542302\n",
      "[203]\ttraining's rmse: 0.535953\tvalid_1's rmse: 0.542297\n",
      "[204]\ttraining's rmse: 0.535936\tvalid_1's rmse: 0.54229\n",
      "[205]\ttraining's rmse: 0.535921\tvalid_1's rmse: 0.542279\n",
      "[206]\ttraining's rmse: 0.535904\tvalid_1's rmse: 0.542274\n",
      "[207]\ttraining's rmse: 0.535883\tvalid_1's rmse: 0.542262\n",
      "[208]\ttraining's rmse: 0.535868\tvalid_1's rmse: 0.542251\n",
      "[209]\ttraining's rmse: 0.53585\tvalid_1's rmse: 0.542242\n",
      "[210]\ttraining's rmse: 0.535837\tvalid_1's rmse: 0.542239\n",
      "[211]\ttraining's rmse: 0.53582\tvalid_1's rmse: 0.542235\n",
      "[212]\ttraining's rmse: 0.535808\tvalid_1's rmse: 0.542228\n",
      "[213]\ttraining's rmse: 0.535788\tvalid_1's rmse: 0.542215\n",
      "[214]\ttraining's rmse: 0.535769\tvalid_1's rmse: 0.542205\n",
      "[215]\ttraining's rmse: 0.535747\tvalid_1's rmse: 0.542191\n",
      "[216]\ttraining's rmse: 0.535732\tvalid_1's rmse: 0.542184\n",
      "[217]\ttraining's rmse: 0.535717\tvalid_1's rmse: 0.54218\n",
      "[218]\ttraining's rmse: 0.535704\tvalid_1's rmse: 0.54218\n",
      "[219]\ttraining's rmse: 0.535684\tvalid_1's rmse: 0.542168\n",
      "[220]\ttraining's rmse: 0.535664\tvalid_1's rmse: 0.542153\n",
      "[221]\ttraining's rmse: 0.535651\tvalid_1's rmse: 0.542149\n",
      "[222]\ttraining's rmse: 0.535635\tvalid_1's rmse: 0.542138\n",
      "[223]\ttraining's rmse: 0.535618\tvalid_1's rmse: 0.542129\n",
      "[224]\ttraining's rmse: 0.535608\tvalid_1's rmse: 0.542126\n",
      "[225]\ttraining's rmse: 0.535597\tvalid_1's rmse: 0.542121\n",
      "[226]\ttraining's rmse: 0.53558\tvalid_1's rmse: 0.542113\n",
      "[227]\ttraining's rmse: 0.535566\tvalid_1's rmse: 0.542103\n",
      "[228]\ttraining's rmse: 0.535551\tvalid_1's rmse: 0.542095\n",
      "[229]\ttraining's rmse: 0.53554\tvalid_1's rmse: 0.542089\n",
      "[230]\ttraining's rmse: 0.535527\tvalid_1's rmse: 0.542086\n",
      "[231]\ttraining's rmse: 0.535511\tvalid_1's rmse: 0.54208\n",
      "[232]\ttraining's rmse: 0.535495\tvalid_1's rmse: 0.542073\n",
      "[233]\ttraining's rmse: 0.535483\tvalid_1's rmse: 0.542067\n",
      "[234]\ttraining's rmse: 0.535469\tvalid_1's rmse: 0.542062\n",
      "[235]\ttraining's rmse: 0.535454\tvalid_1's rmse: 0.542058\n",
      "[236]\ttraining's rmse: 0.535442\tvalid_1's rmse: 0.542057\n",
      "[237]\ttraining's rmse: 0.53543\tvalid_1's rmse: 0.542051\n",
      "[238]\ttraining's rmse: 0.535419\tvalid_1's rmse: 0.542049\n",
      "[239]\ttraining's rmse: 0.535408\tvalid_1's rmse: 0.542047\n",
      "[240]\ttraining's rmse: 0.535395\tvalid_1's rmse: 0.542043\n",
      "[241]\ttraining's rmse: 0.535382\tvalid_1's rmse: 0.542037\n",
      "[242]\ttraining's rmse: 0.535371\tvalid_1's rmse: 0.542033\n",
      "[243]\ttraining's rmse: 0.535358\tvalid_1's rmse: 0.542031\n",
      "[244]\ttraining's rmse: 0.535345\tvalid_1's rmse: 0.542027\n",
      "[245]\ttraining's rmse: 0.535335\tvalid_1's rmse: 0.542026\n",
      "[246]\ttraining's rmse: 0.535326\tvalid_1's rmse: 0.542025\n",
      "[247]\ttraining's rmse: 0.535304\tvalid_1's rmse: 0.542012\n",
      "[248]\ttraining's rmse: 0.535296\tvalid_1's rmse: 0.542013\n",
      "[249]\ttraining's rmse: 0.53528\tvalid_1's rmse: 0.542005\n",
      "[250]\ttraining's rmse: 0.535271\tvalid_1's rmse: 0.542006\n",
      "[251]\ttraining's rmse: 0.535251\tvalid_1's rmse: 0.541996\n",
      "[252]\ttraining's rmse: 0.535237\tvalid_1's rmse: 0.541993\n",
      "[253]\ttraining's rmse: 0.535227\tvalid_1's rmse: 0.541991\n",
      "[254]\ttraining's rmse: 0.535215\tvalid_1's rmse: 0.541986\n",
      "[255]\ttraining's rmse: 0.5352\tvalid_1's rmse: 0.541979\n",
      "[256]\ttraining's rmse: 0.535192\tvalid_1's rmse: 0.541979\n",
      "[257]\ttraining's rmse: 0.535185\tvalid_1's rmse: 0.541981\n",
      "[258]\ttraining's rmse: 0.535176\tvalid_1's rmse: 0.541978\n",
      "[259]\ttraining's rmse: 0.53516\tvalid_1's rmse: 0.541973\n",
      "[260]\ttraining's rmse: 0.535152\tvalid_1's rmse: 0.541974\n",
      "[261]\ttraining's rmse: 0.535142\tvalid_1's rmse: 0.541968\n",
      "[262]\ttraining's rmse: 0.535131\tvalid_1's rmse: 0.541968\n",
      "[263]\ttraining's rmse: 0.535123\tvalid_1's rmse: 0.541964\n",
      "[264]\ttraining's rmse: 0.53511\tvalid_1's rmse: 0.541961\n",
      "[265]\ttraining's rmse: 0.5351\tvalid_1's rmse: 0.541956\n",
      "[266]\ttraining's rmse: 0.535089\tvalid_1's rmse: 0.541949\n",
      "[267]\ttraining's rmse: 0.535071\tvalid_1's rmse: 0.541934\n",
      "[268]\ttraining's rmse: 0.535056\tvalid_1's rmse: 0.541921\n",
      "[269]\ttraining's rmse: 0.535042\tvalid_1's rmse: 0.541916\n",
      "[270]\ttraining's rmse: 0.535032\tvalid_1's rmse: 0.541912\n",
      "[271]\ttraining's rmse: 0.535022\tvalid_1's rmse: 0.541906\n",
      "[272]\ttraining's rmse: 0.535007\tvalid_1's rmse: 0.541896\n",
      "[273]\ttraining's rmse: 0.534993\tvalid_1's rmse: 0.541889\n",
      "[274]\ttraining's rmse: 0.534979\tvalid_1's rmse: 0.541882\n",
      "[275]\ttraining's rmse: 0.534967\tvalid_1's rmse: 0.541884\n",
      "[276]\ttraining's rmse: 0.534955\tvalid_1's rmse: 0.541882\n",
      "[277]\ttraining's rmse: 0.534943\tvalid_1's rmse: 0.541877\n",
      "[278]\ttraining's rmse: 0.53493\tvalid_1's rmse: 0.541874\n",
      "[279]\ttraining's rmse: 0.53492\tvalid_1's rmse: 0.541867\n",
      "[280]\ttraining's rmse: 0.534908\tvalid_1's rmse: 0.541864\n",
      "[281]\ttraining's rmse: 0.534892\tvalid_1's rmse: 0.541859\n",
      "[282]\ttraining's rmse: 0.534883\tvalid_1's rmse: 0.541856\n",
      "[283]\ttraining's rmse: 0.534869\tvalid_1's rmse: 0.54185\n",
      "[284]\ttraining's rmse: 0.534858\tvalid_1's rmse: 0.541848\n",
      "[285]\ttraining's rmse: 0.534843\tvalid_1's rmse: 0.541844\n",
      "[286]\ttraining's rmse: 0.534835\tvalid_1's rmse: 0.541842\n",
      "[287]\ttraining's rmse: 0.534822\tvalid_1's rmse: 0.541835\n",
      "[288]\ttraining's rmse: 0.53481\tvalid_1's rmse: 0.541829\n",
      "[289]\ttraining's rmse: 0.534799\tvalid_1's rmse: 0.541824\n",
      "[290]\ttraining's rmse: 0.53479\tvalid_1's rmse: 0.541821\n",
      "[291]\ttraining's rmse: 0.534775\tvalid_1's rmse: 0.541816\n",
      "[292]\ttraining's rmse: 0.534762\tvalid_1's rmse: 0.541812\n"
     ]
    },
    {
     "name": "stdout",
     "output_type": "stream",
     "text": [
      "[293]\ttraining's rmse: 0.534747\tvalid_1's rmse: 0.541805\n",
      "[294]\ttraining's rmse: 0.534738\tvalid_1's rmse: 0.541801\n",
      "[295]\ttraining's rmse: 0.534731\tvalid_1's rmse: 0.541798\n",
      "[296]\ttraining's rmse: 0.53472\tvalid_1's rmse: 0.541795\n",
      "[297]\ttraining's rmse: 0.534712\tvalid_1's rmse: 0.541791\n",
      "[298]\ttraining's rmse: 0.534705\tvalid_1's rmse: 0.541789\n",
      "[299]\ttraining's rmse: 0.534692\tvalid_1's rmse: 0.541787\n",
      "[300]\ttraining's rmse: 0.53468\tvalid_1's rmse: 0.541783\n",
      "[301]\ttraining's rmse: 0.534667\tvalid_1's rmse: 0.541782\n",
      "[302]\ttraining's rmse: 0.534659\tvalid_1's rmse: 0.541782\n",
      "[303]\ttraining's rmse: 0.534644\tvalid_1's rmse: 0.541776\n",
      "[304]\ttraining's rmse: 0.534637\tvalid_1's rmse: 0.541778\n",
      "[305]\ttraining's rmse: 0.53463\tvalid_1's rmse: 0.541776\n",
      "[306]\ttraining's rmse: 0.534619\tvalid_1's rmse: 0.541773\n",
      "[307]\ttraining's rmse: 0.534605\tvalid_1's rmse: 0.541768\n",
      "[308]\ttraining's rmse: 0.534593\tvalid_1's rmse: 0.541762\n",
      "[309]\ttraining's rmse: 0.534582\tvalid_1's rmse: 0.541756\n",
      "[310]\ttraining's rmse: 0.534574\tvalid_1's rmse: 0.541754\n",
      "[311]\ttraining's rmse: 0.534563\tvalid_1's rmse: 0.541753\n",
      "[312]\ttraining's rmse: 0.534552\tvalid_1's rmse: 0.541754\n",
      "[313]\ttraining's rmse: 0.534542\tvalid_1's rmse: 0.541755\n",
      "[314]\ttraining's rmse: 0.534529\tvalid_1's rmse: 0.541749\n",
      "[315]\ttraining's rmse: 0.534516\tvalid_1's rmse: 0.541744\n",
      "[316]\ttraining's rmse: 0.534506\tvalid_1's rmse: 0.54174\n",
      "[317]\ttraining's rmse: 0.534495\tvalid_1's rmse: 0.54173\n",
      "[318]\ttraining's rmse: 0.534482\tvalid_1's rmse: 0.541727\n",
      "[319]\ttraining's rmse: 0.534475\tvalid_1's rmse: 0.541725\n",
      "[320]\ttraining's rmse: 0.534461\tvalid_1's rmse: 0.541719\n",
      "[321]\ttraining's rmse: 0.53445\tvalid_1's rmse: 0.541714\n",
      "[322]\ttraining's rmse: 0.534438\tvalid_1's rmse: 0.54171\n",
      "[323]\ttraining's rmse: 0.534428\tvalid_1's rmse: 0.541706\n",
      "[324]\ttraining's rmse: 0.534421\tvalid_1's rmse: 0.541705\n",
      "[325]\ttraining's rmse: 0.534415\tvalid_1's rmse: 0.541706\n",
      "[326]\ttraining's rmse: 0.534403\tvalid_1's rmse: 0.541701\n",
      "[327]\ttraining's rmse: 0.534391\tvalid_1's rmse: 0.541696\n",
      "[328]\ttraining's rmse: 0.534384\tvalid_1's rmse: 0.541697\n",
      "[329]\ttraining's rmse: 0.534374\tvalid_1's rmse: 0.541695\n",
      "[330]\ttraining's rmse: 0.534364\tvalid_1's rmse: 0.541691\n",
      "[331]\ttraining's rmse: 0.534354\tvalid_1's rmse: 0.541692\n",
      "[332]\ttraining's rmse: 0.534345\tvalid_1's rmse: 0.541689\n",
      "[333]\ttraining's rmse: 0.534339\tvalid_1's rmse: 0.541691\n",
      "[334]\ttraining's rmse: 0.534331\tvalid_1's rmse: 0.541694\n",
      "[335]\ttraining's rmse: 0.534324\tvalid_1's rmse: 0.541695\n",
      "[336]\ttraining's rmse: 0.534317\tvalid_1's rmse: 0.541696\n",
      "[337]\ttraining's rmse: 0.534305\tvalid_1's rmse: 0.541697\n",
      "[338]\ttraining's rmse: 0.5343\tvalid_1's rmse: 0.541699\n",
      "[339]\ttraining's rmse: 0.534296\tvalid_1's rmse: 0.541701\n",
      "[340]\ttraining's rmse: 0.534284\tvalid_1's rmse: 0.541697\n",
      "[341]\ttraining's rmse: 0.534274\tvalid_1's rmse: 0.541694\n",
      "[342]\ttraining's rmse: 0.534265\tvalid_1's rmse: 0.541688\n",
      "[343]\ttraining's rmse: 0.534258\tvalid_1's rmse: 0.541689\n",
      "[344]\ttraining's rmse: 0.534254\tvalid_1's rmse: 0.54169\n",
      "[345]\ttraining's rmse: 0.534245\tvalid_1's rmse: 0.541689\n",
      "[346]\ttraining's rmse: 0.53424\tvalid_1's rmse: 0.541686\n",
      "[347]\ttraining's rmse: 0.534232\tvalid_1's rmse: 0.541687\n",
      "[348]\ttraining's rmse: 0.534223\tvalid_1's rmse: 0.541685\n",
      "[349]\ttraining's rmse: 0.534217\tvalid_1's rmse: 0.541686\n",
      "[350]\ttraining's rmse: 0.534208\tvalid_1's rmse: 0.541682\n",
      "[351]\ttraining's rmse: 0.534202\tvalid_1's rmse: 0.54168\n",
      "[352]\ttraining's rmse: 0.534196\tvalid_1's rmse: 0.541681\n",
      "[353]\ttraining's rmse: 0.534187\tvalid_1's rmse: 0.541679\n",
      "[354]\ttraining's rmse: 0.53418\tvalid_1's rmse: 0.541682\n",
      "[355]\ttraining's rmse: 0.53417\tvalid_1's rmse: 0.541675\n",
      "[356]\ttraining's rmse: 0.53416\tvalid_1's rmse: 0.541674\n",
      "[357]\ttraining's rmse: 0.534152\tvalid_1's rmse: 0.541674\n",
      "[358]\ttraining's rmse: 0.534144\tvalid_1's rmse: 0.541674\n",
      "[359]\ttraining's rmse: 0.534138\tvalid_1's rmse: 0.541673\n",
      "[360]\ttraining's rmse: 0.53413\tvalid_1's rmse: 0.541671\n",
      "[361]\ttraining's rmse: 0.53412\tvalid_1's rmse: 0.541669\n",
      "[362]\ttraining's rmse: 0.534114\tvalid_1's rmse: 0.541668\n",
      "[363]\ttraining's rmse: 0.534108\tvalid_1's rmse: 0.541666\n",
      "[364]\ttraining's rmse: 0.534102\tvalid_1's rmse: 0.541666\n",
      "[365]\ttraining's rmse: 0.534093\tvalid_1's rmse: 0.541664\n",
      "[366]\ttraining's rmse: 0.534088\tvalid_1's rmse: 0.541663\n",
      "[367]\ttraining's rmse: 0.534083\tvalid_1's rmse: 0.541664\n",
      "[368]\ttraining's rmse: 0.534073\tvalid_1's rmse: 0.541658\n",
      "[369]\ttraining's rmse: 0.534066\tvalid_1's rmse: 0.541659\n",
      "[370]\ttraining's rmse: 0.534056\tvalid_1's rmse: 0.541657\n",
      "[371]\ttraining's rmse: 0.534049\tvalid_1's rmse: 0.541654\n",
      "[372]\ttraining's rmse: 0.534044\tvalid_1's rmse: 0.541651\n",
      "[373]\ttraining's rmse: 0.534033\tvalid_1's rmse: 0.541648\n",
      "[374]\ttraining's rmse: 0.534026\tvalid_1's rmse: 0.541648\n",
      "[375]\ttraining's rmse: 0.534022\tvalid_1's rmse: 0.541645\n",
      "[376]\ttraining's rmse: 0.534014\tvalid_1's rmse: 0.54164\n",
      "[377]\ttraining's rmse: 0.534006\tvalid_1's rmse: 0.541637\n",
      "[378]\ttraining's rmse: 0.534002\tvalid_1's rmse: 0.541635\n",
      "[379]\ttraining's rmse: 0.533992\tvalid_1's rmse: 0.541632\n",
      "[380]\ttraining's rmse: 0.533983\tvalid_1's rmse: 0.541631\n",
      "[381]\ttraining's rmse: 0.533975\tvalid_1's rmse: 0.541627\n",
      "[382]\ttraining's rmse: 0.533967\tvalid_1's rmse: 0.541625\n",
      "[383]\ttraining's rmse: 0.533962\tvalid_1's rmse: 0.541626\n",
      "[384]\ttraining's rmse: 0.533955\tvalid_1's rmse: 0.541624\n",
      "[385]\ttraining's rmse: 0.533948\tvalid_1's rmse: 0.541623\n",
      "[386]\ttraining's rmse: 0.533943\tvalid_1's rmse: 0.541624\n",
      "[387]\ttraining's rmse: 0.533934\tvalid_1's rmse: 0.541621\n",
      "[388]\ttraining's rmse: 0.533927\tvalid_1's rmse: 0.541619\n",
      "[389]\ttraining's rmse: 0.533921\tvalid_1's rmse: 0.54162\n",
      "[390]\ttraining's rmse: 0.533914\tvalid_1's rmse: 0.54162\n",
      "[391]\ttraining's rmse: 0.53391\tvalid_1's rmse: 0.54162\n",
      "[392]\ttraining's rmse: 0.533903\tvalid_1's rmse: 0.54162\n",
      "[393]\ttraining's rmse: 0.533899\tvalid_1's rmse: 0.54162\n",
      "[394]\ttraining's rmse: 0.533891\tvalid_1's rmse: 0.541621\n",
      "[395]\ttraining's rmse: 0.533884\tvalid_1's rmse: 0.541621\n",
      "[396]\ttraining's rmse: 0.533876\tvalid_1's rmse: 0.54162\n",
      "[397]\ttraining's rmse: 0.533871\tvalid_1's rmse: 0.541621\n",
      "[398]\ttraining's rmse: 0.533867\tvalid_1's rmse: 0.541623\n",
      "Early stopping, best iteration is:\n",
      "[388]\ttraining's rmse: 0.533927\tvalid_1's rmse: 0.541619\n"
     ]
    }
   ],
   "source": [
    "gbm = lgb.train(lgb_params, lgb_train, num_boost_round=600, valid_sets=[lgb_train, lgb_valid], early_stopping_rounds=10, verbose_eval=True)"
   ]
  },
  {
   "cell_type": "code",
   "execution_count": 29,
   "metadata": {
    "ExecuteTime": {
     "end_time": "2019-12-15T01:52:37.770091Z",
     "start_time": "2019-12-15T01:52:37.752653Z"
    }
   },
   "outputs": [],
   "source": [
    "fn = ['item_condition_id', 'shipping', 'brand_name', 'main_cat', 'sub_cat1', 'sub_cat2']\n",
    "\n",
    "n_features=20\n",
    "\n",
    "fi = gbm.feature_importance(importance_type='gain')\n",
    "idxs = np.argsort(fi)\n",
    "\n",
    "p = re.compile('^[a-z\\s]+$')\n",
    "features = []\n",
    "fidxs = []\n",
    "for i in idxs:\n",
    "  feature = fn[i]\n",
    "  if 'token_' not in feature:\n",
    "    features.append(fn[i])\n",
    "    fidxs.append(i)\n",
    "fidxs = np.array(fidxs)        \n",
    "fi = fi[fidxs]\n",
    "fi = fi/fi.max()\n",
    "\n",
    "fi_df = pd.DataFrame({'feature': features, 'importance': fi}).sort_values('importance', ascending=False).reset_index(drop=True)\n",
    "plot_df = fi_df.head(n_features)"
   ]
  },
  {
   "cell_type": "code",
   "execution_count": 35,
   "metadata": {
    "ExecuteTime": {
     "end_time": "2019-12-15T01:55:10.093989Z",
     "start_time": "2019-12-15T01:55:09.622919Z"
    }
   },
   "outputs": [
    {
     "data": {
      "image/png": "[encoded data removed]",
      "text/plain": [
       "<Figure size 720x720 with 1 Axes>"
      ]
     },
     "metadata": {
      "needs_background": "light"
     },
     "output_type": "display_data"
    }
   ],
   "source": [
    "fig, ax = plt.subplots(figsize=(10, 10))\n",
    "sns.barplot(x='importance', y='feature', data=plot_df, ci=None)\n",
    "\n",
    "if save:\n",
    "  fig.savefig(args.figdir/'fi_full.pdf', dpi=300, bbox_inches='tight', pad_inches=0)"
   ]
  },
  {
   "cell_type": "code",
   "execution_count": 36,
   "metadata": {
    "ExecuteTime": {
     "end_time": "2019-12-15T01:55:29.032627Z",
     "start_time": "2019-12-15T01:55:27.165792Z"
    }
   },
   "outputs": [
    {
     "data": {
      "text/plain": [
       "0.542"
      ]
     },
     "execution_count": 36,
     "metadata": {},
     "output_type": "execute_result"
    }
   ],
   "source": [
    "preds = gbm.predict(x_valid)\n",
    "np.round(np.sqrt(mean_squared_error(y_valid, preds)), 3)"
   ]
  },
  {
   "cell_type": "markdown",
   "metadata": {},
   "source": [
    "## Full Model Training"
   ]
  },
  {
   "cell_type": "code",
   "execution_count": 37,
   "metadata": {
    "ExecuteTime": {
     "end_time": "2019-12-15T01:56:15.575376Z",
     "start_time": "2019-12-15T01:56:12.894421Z"
    }
   },
   "outputs": [
    {
     "data": {
      "text/html": [
       "<div>\n",
       "<style scoped>\n",
       "    .dataframe tbody tr th:only-of-type {\n",
       "        vertical-align: middle;\n",
       "    }\n",
       "\n",
       "    .dataframe tbody tr th {\n",
       "        vertical-align: top;\n",
       "    }\n",
       "\n",
       "    .dataframe thead th {\n",
       "        text-align: right;\n",
       "    }\n",
       "</style>\n",
       "<table border=\"1\" class=\"dataframe\">\n",
       "  <thead>\n",
       "    <tr style=\"text-align: right;\">\n",
       "      <th></th>\n",
       "      <th>item_condition_id</th>\n",
       "      <th>brand_name</th>\n",
       "      <th>price</th>\n",
       "      <th>shipping</th>\n",
       "      <th>main_cat</th>\n",
       "      <th>sub_cat1</th>\n",
       "      <th>sub_cat2</th>\n",
       "    </tr>\n",
       "  </thead>\n",
       "  <tbody>\n",
       "    <tr>\n",
       "      <th>0</th>\n",
       "      <td>3</td>\n",
       "      <td>missing</td>\n",
       "      <td>2.397895</td>\n",
       "      <td>1</td>\n",
       "      <td>Men</td>\n",
       "      <td>Tops</td>\n",
       "      <td>T-shirts</td>\n",
       "    </tr>\n",
       "    <tr>\n",
       "      <th>1</th>\n",
       "      <td>3</td>\n",
       "      <td>Razer</td>\n",
       "      <td>3.970292</td>\n",
       "      <td>0</td>\n",
       "      <td>Electronics</td>\n",
       "      <td>Computers &amp; Tablets</td>\n",
       "      <td>Components &amp; Parts</td>\n",
       "    </tr>\n",
       "    <tr>\n",
       "      <th>2</th>\n",
       "      <td>1</td>\n",
       "      <td>Target</td>\n",
       "      <td>2.397895</td>\n",
       "      <td>1</td>\n",
       "      <td>Women</td>\n",
       "      <td>Tops &amp; Blouses</td>\n",
       "      <td>Blouse</td>\n",
       "    </tr>\n",
       "    <tr>\n",
       "      <th>3</th>\n",
       "      <td>1</td>\n",
       "      <td>missing</td>\n",
       "      <td>3.583519</td>\n",
       "      <td>1</td>\n",
       "      <td>Home</td>\n",
       "      <td>Home Décor</td>\n",
       "      <td>Home Décor Accents</td>\n",
       "    </tr>\n",
       "    <tr>\n",
       "      <th>4</th>\n",
       "      <td>1</td>\n",
       "      <td>missing</td>\n",
       "      <td>3.806662</td>\n",
       "      <td>0</td>\n",
       "      <td>Women</td>\n",
       "      <td>Jewelry</td>\n",
       "      <td>Necklaces</td>\n",
       "    </tr>\n",
       "  </tbody>\n",
       "</table>\n",
       "</div>"
      ],
      "text/plain": [
       "   item_condition_id brand_name     price  shipping     main_cat  \\\n",
       "0                  3    missing  2.397895         1          Men   \n",
       "1                  3      Razer  3.970292         0  Electronics   \n",
       "2                  1     Target  2.397895         1        Women   \n",
       "3                  1    missing  3.583519         1         Home   \n",
       "4                  1    missing  3.806662         0        Women   \n",
       "\n",
       "              sub_cat1            sub_cat2  \n",
       "0                 Tops            T-shirts  \n",
       "1  Computers & Tablets  Components & Parts  \n",
       "2       Tops & Blouses              Blouse  \n",
       "3           Home Décor  Home Décor Accents  \n",
       "4              Jewelry           Necklaces  "
      ]
     },
     "execution_count": 37,
     "metadata": {},
     "output_type": "execute_result"
    }
   ],
   "source": [
    "str_cols = ['item_condition_id', 'brand_name', 'shipping', 'main_cat', 'sub_cat1', 'sub_cat2']\n",
    "train_df = pd.read_csv(args.path/'train_df.csv', usecols=str_cols+['price'])"
   ]
  },
  {
   "cell_type": "code",
   "execution_count": 38,
   "metadata": {
    "ExecuteTime": {
     "end_time": "2019-12-15T01:57:01.573405Z",
     "start_time": "2019-12-15T01:56:59.508896Z"
    }
   },
   "outputs": [],
   "source": [
    "brands = train_df.groupby('brand_name')['price'].mean().sort_values(ascending=False).to_frame()\n",
    "brands['id'] = brands.reset_index().index.values\n",
    "brand_names = brands.index.values\n",
    "\n",
    "train_brand_data = brands.loc[train_df['brand_name']]\n",
    "train_df.loc[:, 'brand_val'] = train_brand_data['id'].values/len(brand_names)\n",
    "\n",
    "maincats = train_df.groupby('main_cat')['price'].mean().sort_values(ascending=False).to_frame()\n",
    "maincats['id'] = maincats.reset_index().index.values\n",
    "maincat_names = maincats.index.values\n",
    "\n",
    "train_maincats = maincats.loc[train_df['main_cat']]\n",
    "train_df.loc[:, 'maincat_val'] = train_maincats['id'].values/len(maincat_names)\n",
    "\n",
    "subcat1s = train_df.groupby('sub_cat1')['price'].mean().sort_values(ascending=False).to_frame()\n",
    "subcat1s['id'] = subcat1s.reset_index().index.values\n",
    "subcat1_names = subcat1s.index.values\n",
    "\n",
    "train_subcat1s = subcat1s.loc[train_df['sub_cat1']]\n",
    "train_df.loc[:, 'subcat1_val'] = train_subcat1s['id'].values/len(subcat1_names)\n",
    "\n",
    "subcat2s = train_df.groupby('sub_cat2')['price'].mean().sort_values(ascending=False).to_frame()\n",
    "subcat2s['id'] = subcat2s.reset_index().index.values\n",
    "subcat2_names = subcat2s.index.values\n",
    "\n",
    "train_subcat2s = subcat2s.loc[train_df['sub_cat2']]\n",
    "train_df.loc[:, 'subcat2_val'] = train_subcat2s['id'].values/len(subcat2_names)"
   ]
  },
  {
   "cell_type": "code",
   "execution_count": 39,
   "metadata": {
    "ExecuteTime": {
     "end_time": "2019-12-15T01:57:05.815027Z",
     "start_time": "2019-12-15T01:57:05.795564Z"
    }
   },
   "outputs": [],
   "source": [
    "lgb_train = lgb.Dataset(x_train, y_train)\n",
    "lgb_params = {\n",
    "  'num_leaves': 400,\n",
    "  'learning_rate': 0.05,\n",
    "  'feature_fraction': 0.9,\n",
    "  'bagging_fraction': 0.7,\n",
    "  'bagging_freq': 5,\n",
    "  'metric': 'rmse',\n",
    "  'num_threads': 32,\n",
    "  'max_bin': 32,\n",
    "  'objective': 'regression',\n",
    "}"
   ]
  },
  {
   "cell_type": "code",
   "execution_count": null,
   "metadata": {
    "ExecuteTime": {
     "end_time": "2019-10-27T19:09:13.227080Z",
     "start_time": "2019-10-27T18:43:09.008362Z"
    },
    "scrolled": true
   },
   "outputs": [],
   "source": [
    "gbm = lgb.train(lgb_params, lgb_train, num_boost_round=1000, valid_sets=[lgb_train], early_stopping_rounds=10, verbose_eval=True)"
   ]
  },
  {
   "cell_type": "markdown",
   "metadata": {},
   "source": [
    "## Test"
   ]
  },
  {
   "cell_type": "code",
   "execution_count": null,
   "metadata": {
    "ExecuteTime": {
     "end_time": "2019-10-27T19:10:10.281481Z",
     "start_time": "2019-10-27T19:09:18.195565Z"
    }
   },
   "outputs": [],
   "source": [
    "test_df = pd.read_csv(args.path/'test_df.csv', usecols=['test_id', 'text'])\n",
    "x_test = vectorizer.transform(test_df['text'].values.astype('U'))\n",
    "preds = pd.DataFrame({'test_id': test_df['test_id'], 'price': np.expm1(gbm.predict(x_test))})\n",
    "preds.to_csv(args.path/'gbm_desc_submission.csv', index=False)"
   ]
  },
  {
   "cell_type": "code",
   "execution_count": null,
   "metadata": {
    "ExecuteTime": {
     "end_time": "2019-10-27T19:14:32.068580Z",
     "start_time": "2019-10-27T19:10:10.284005Z"
    }
   },
   "outputs": [],
   "source": [
    "test2_df = pd.read_csv(args.path/'test2_df.csv', usecols=['test_id', 'text'])\n",
    "x_test2 = vectorizer.transform(test2_df['text'].values.astype('U'))\n",
    "preds_test2 = pd.DataFrame({'test_id': test2_df['test_id'], 'price': np.expm1(gbm.predict(x_test2))})\n",
    "preds_test2.to_csv(args.path/'gbm_desc_submission_stg2.csv', index=False)"
   ]
  }
 ],
 "metadata": {
  "kernelspec": {
   "display_name": "Python 3",
   "language": "python",
   "name": "python3"
  },
  "language_info": {
   "codemirror_mode": {
    "name": "ipython",
    "version": 3
   },
   "file_extension": ".py",
   "mimetype": "text/x-python",
   "name": "python",
   "nbconvert_exporter": "python",
   "pygments_lexer": "ipython3",
   "version": "3.7.5"
  },
  "toc": {
   "base_numbering": 1,
   "nav_menu": {},
   "number_sections": true,
   "sideBar": true,
   "skip_h1_title": true,
   "title_cell": "Table of Contents",
   "title_sidebar": "Contents",
   "toc_cell": false,
   "toc_position": {},
   "toc_section_display": true,
   "toc_window_display": false
  }
 },
 "nbformat": 4,
 "nbformat_minor": 2
}
