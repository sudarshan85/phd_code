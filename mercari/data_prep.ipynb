{
 "cells": [
  {
   "cell_type": "markdown",
   "metadata": {},
   "source": [
    "# Mercari Price Suggestion Challenge Data Analysis & Preparation\n",
    "\n",
    "This notebook is for analysis and initial preprocessing."
   ]
  },
  {
   "cell_type": "markdown",
   "metadata": {},
   "source": [
    "## Imports and Inits"
   ]
  },
  {
   "cell_type": "code",
   "execution_count": null,
   "metadata": {
    "ExecuteTime": {
     "end_time": "2019-12-14T20:20:29.473131Z",
     "start_time": "2019-12-14T20:20:28.324081Z"
    },
    "tags": [
     "init"
    ]
   },
   "outputs": [],
   "source": [
    "%reload_ext autoreload\n",
    "%autoreload 2\n",
    "%matplotlib inline"
   ]
  },
  {
   "cell_type": "code",
   "execution_count": null,
   "metadata": {
    "ExecuteTime": {
     "end_time": "2019-12-14T20:23:07.132706Z",
     "start_time": "2019-12-14T20:23:04.958612Z"
    },
    "tags": [
     "init"
    ]
   },
   "outputs": [],
   "source": [
    "import warnings\n",
    "warnings.filterwarnings(\"ignore\", category=UserWarning)\n",
    "\n",
    "import pdb\n",
    "import pandas as pd\n",
    "import numpy as np\n",
    "np.set_printoptions(precision=4)\n",
    "\n",
    "import plotly.offline as py\n",
    "py.init_notebook_mode(connected=True)\n",
    "import plotly.graph_objs as go\n",
    "import plotly.tools as tls\n",
    "\n",
    "from tqdm import tqdm_notebook as tqdm\n",
    "from pathlib import Path\n",
    "\n",
    "import matplotlib.pyplot as plt\n",
    "from matplotlib.ticker import FuncFormatter\n",
    "import seaborn as sns\n",
    "sns.set_style(\"darkgrid\")\n",
    "%matplotlib inline"
   ]
  },
  {
   "cell_type": "code",
   "execution_count": null,
   "metadata": {
    "ExecuteTime": {
     "end_time": "2019-12-14T20:23:09.434716Z",
     "start_time": "2019-12-14T20:23:09.370603Z"
    }
   },
   "outputs": [],
   "source": [
    "from args import args\n",
    "vars(args)"
   ]
  },
  {
   "cell_type": "code",
   "execution_count": null,
   "metadata": {
    "ExecuteTime": {
     "end_time": "2019-12-14T20:23:54.143636Z",
     "start_time": "2019-12-14T20:23:36.802591Z"
    }
   },
   "outputs": [],
   "source": [
    "train_df = pd.read_csv(args.train_tsv, sep='\\t')\n",
    "test_df = pd.read_csv(args.test_tsv, sep='\\t')\n",
    "test2_df = pd.read_csv(args.test2_tsv, sep='\\t')\n",
    "train_df.shape, test_df.shape, test2_df.shape\n",
    "\n",
    "cols = ['name', 'item_condition_id', 'category_name', 'brand_name', 'shipping', 'item_description']\n",
    "all_df = pd.concat([train_df[cols], test_df[cols], test2_df[cols]], axis=0)\n",
    "all_df.reset_index(drop=True, inplace=True)\n",
    "all_df.shape"
   ]
  },
  {
   "cell_type": "code",
   "execution_count": null,
   "metadata": {
    "ExecuteTime": {
     "end_time": "2019-12-14T20:23:54.256974Z",
     "start_time": "2019-12-14T20:23:54.145765Z"
    }
   },
   "outputs": [],
   "source": [
    "save = True"
   ]
  },
  {
   "cell_type": "markdown",
   "metadata": {},
   "source": [
    "## Target Variable: Price"
   ]
  },
  {
   "cell_type": "markdown",
   "metadata": {},
   "source": [
    "Remove prices below `$3` as Merari does not allow postings below `$3` which makes it an error. Also, replace the price with its `log1p`"
   ]
  },
  {
   "cell_type": "code",
   "execution_count": null,
   "metadata": {
    "ExecuteTime": {
     "end_time": "2019-12-14T20:23:54.724322Z",
     "start_time": "2019-12-14T20:23:54.261398Z"
    }
   },
   "outputs": [],
   "source": [
    "train_df = train_df[(train_df['price'] > 3) & (train_df['price'] < 2000)].reset_index(drop=True)\n",
    "train_df['price'] = np.log1p(train_df['price'])"
   ]
  },
  {
   "cell_type": "code",
   "execution_count": null,
   "metadata": {
    "ExecuteTime": {
     "end_time": "2019-12-14T20:23:54.756389Z",
     "start_time": "2019-12-14T20:23:54.725855Z"
    }
   },
   "outputs": [],
   "source": [
    "def thous(x, pos):\n",
    "  return f'{(x*1e-3):1.1f}k'"
   ]
  },
  {
   "cell_type": "code",
   "execution_count": null,
   "metadata": {
    "ExecuteTime": {
     "end_time": "2019-12-14T20:23:57.995843Z",
     "start_time": "2019-12-14T20:23:56.428248Z"
    }
   },
   "outputs": [],
   "source": [
    "fig, ax = plt.subplots(1, 2, figsize=(20, 10))\n",
    "np.expm1(train_df['price']).plot.hist(bins=50, ax=ax[0], edgecolor='white', range=[0, 150])\n",
    "ax[0].set_xlabel('Price', fontsize=17)\n",
    "ax[0].set_ylabel('Frequency', fontsize=17)\n",
    "formatter = FuncFormatter(thous)\n",
    "ax[0].yaxis.set_major_formatter(formatter)\n",
    "ax[0].tick_params(labelsize=15)\n",
    "\n",
    "train_df['price'].plot.hist(bins=50, ax=ax[1], edgecolor='white')\n",
    "ax[1].set_xlabel('Log(Price+1)', fontsize=17)\n",
    "ax[1].set_ylabel('')\n",
    "ax[1].yaxis.set_major_formatter(formatter)\n",
    "ax[1].tick_params(labelsize=15)\n",
    "\n",
    "if save:\n",
    "  fig.savefig(args.figdir/'price_dist.pdf', dpi=300, bbox_inches='tight', pad_inches=0)"
   ]
  },
  {
   "cell_type": "markdown",
   "metadata": {},
   "source": [
    "## Shipping"
   ]
  },
  {
   "cell_type": "markdown",
   "metadata": {},
   "source": [
    "If `shipping` is not available it is assumed to be paid by the buyer."
   ]
  },
  {
   "cell_type": "code",
   "execution_count": null,
   "metadata": {
    "ExecuteTime": {
     "end_time": "2019-12-14T20:23:59.960220Z",
     "start_time": "2019-12-14T20:23:59.896025Z"
    }
   },
   "outputs": [],
   "source": [
    "train_df['shipping'].fillna(0, inplace=True)\n",
    "test_df['shipping'].fillna(0, inplace=True)\n",
    "test2_df['shipping'].fillna(0, inplace=True)\n",
    "all_df['shipping'].fillna(0, inplace=True)"
   ]
  },
  {
   "cell_type": "markdown",
   "metadata": {},
   "source": [
    "The shipping cost burden is decently splitted between sellers and buyers with more than half of the items' shipping fees are paid by the sellers (55%). In addition, the average price paid by users who have to pay for shipping fees is lower than those that don't require additional shipping cost. This matches with our perception that the sellers need a lower price to compensate for the additional shipping."
   ]
  },
  {
   "cell_type": "code",
   "execution_count": null,
   "metadata": {
    "ExecuteTime": {
     "end_time": "2019-12-14T20:24:01.308733Z",
     "start_time": "2019-12-14T20:24:01.187544Z"
    }
   },
   "outputs": [],
   "source": [
    "np.round((all_df['shipping'].value_counts()/len(all_df)) * 100, 1)"
   ]
  },
  {
   "cell_type": "code",
   "execution_count": null,
   "metadata": {
    "ExecuteTime": {
     "end_time": "2019-12-14T20:24:02.208779Z",
     "start_time": "2019-12-14T20:24:02.105380Z"
    }
   },
   "outputs": [],
   "source": [
    "seller_ship = train_df.loc[train_df['shipping'] == 1, 'price']\n",
    "buyer_ship = train_df.loc[train_df['shipping'] == 0, 'price']"
   ]
  },
  {
   "cell_type": "code",
   "execution_count": null,
   "metadata": {
    "ExecuteTime": {
     "end_time": "2019-12-14T20:24:04.226379Z",
     "start_time": "2019-12-14T20:24:03.175135Z"
    },
    "scrolled": false
   },
   "outputs": [],
   "source": [
    "fig, ax = plt.subplots(figsize=(20,10))\n",
    "ax.hist(np.log1p(seller_ship), color='#8CB4E1', alpha=1.0, bins=50,\n",
    "       label='Price when Seller pays Shipping')\n",
    "ax.hist(np.log1p(buyer_ship), color='#007D00', alpha=0.7, bins=50,\n",
    "       label='Price when Buyer pays Shipping')\n",
    "ax.set(title='Histogram Comparison', ylabel='% of Dataset in Bin')\n",
    "ax.set_xlabel('Log(Price+1)', fontsize=17)\n",
    "ax.set_ylabel('Frequency', fontsize=17)\n",
    "ax.legend()\n",
    "formatter = FuncFormatter(thous)\n",
    "ax.yaxis.set_major_formatter(formatter)\n",
    "ax.tick_params(labelsize=15)\n",
    "\n",
    "if save:\n",
    "  fig.savefig(args.figdir/'price_dist_by_shipping.pdf', dpi=300, bbox_inches='tight', pad_inches=0) "
   ]
  },
  {
   "cell_type": "markdown",
   "metadata": {},
   "source": [
    "## Item Category"
   ]
  },
  {
   "cell_type": "markdown",
   "metadata": {},
   "source": [
    "There are about **1,287** unique categories but among each of them, we will always see a main category firstly, followed by two more particular subcategories (e.g. Beauty/Makeup/Face or Lips). In adidition, there are about 6,327 items that do not have a category labels. Let's split the categories into three different columns. We will see later that this information is actually quite important from the seller's point of view and how we handle the missing information in the `brand_name` column will impact the model's prediction. "
   ]
  },
  {
   "cell_type": "code",
   "execution_count": null,
   "metadata": {
    "ExecuteTime": {
     "end_time": "2019-12-14T20:24:46.435789Z",
     "start_time": "2019-12-14T20:24:07.967954Z"
    }
   },
   "outputs": [],
   "source": [
    "train_df['category_name'].fillna(value='missing/missing/missing', inplace=True)\n",
    "train_df['main_cat'],train_df['sub_cat1'],train_df['sub_cat2'] = zip(*train_df['category_name'].apply(lambda text: text.split('/')))\n",
    "\n",
    "test_df['category_name'].fillna(value='missing/missing/missing', inplace=True)\n",
    "test_df['main_cat'],test_df['sub_cat1'],test_df['sub_cat2'] = zip(*test_df['category_name'].apply(lambda text: text.split('/')))\n",
    "\n",
    "test2_df['category_name'].fillna(value='missing/missing/missing', inplace=True)\n",
    "test2_df['main_cat'],test2_df['sub_cat1'],test2_df['sub_cat2'] = zip(*test2_df['category_name'].apply(lambda text: text.split('/')))\n",
    "\n",
    "all_df['category_name'].fillna(value='missing/missing/missing', inplace=True)\n",
    "all_df['main_cat'],all_df['sub_cat1'],all_df['sub_cat2'] = zip(*all_df['category_name'].apply(lambda text: text.split('/')))"
   ]
  },
  {
   "cell_type": "code",
   "execution_count": null,
   "metadata": {
    "ExecuteTime": {
     "end_time": "2019-12-14T20:24:53.245365Z",
     "start_time": "2019-12-14T20:24:46.437408Z"
    }
   },
   "outputs": [],
   "source": [
    "print(\"Full Dataset\")\n",
    "print(f\"There are {all_df['category_name'].nunique()} unique values in the category column.\")\n",
    "print(f\"There are {len(all_df[all_df['main_cat'] == 'missing'])} items that do not have a label.\")\n",
    "print(f\"There are {all_df['main_cat'].nunique()} unique main categories.\")\n",
    "print(f\"There are {all_df['sub_cat1'].nunique()} unique first sub-categories.\")\n",
    "print(f\"There are {all_df['sub_cat2'].nunique()} unique second sub-categories.\")"
   ]
  },
  {
   "cell_type": "code",
   "execution_count": null,
   "metadata": {
    "ExecuteTime": {
     "end_time": "2019-12-14T20:24:54.744959Z",
     "start_time": "2019-12-14T20:24:53.247249Z"
    }
   },
   "outputs": [],
   "source": [
    "print(\"Training Dataset\")\n",
    "print(f\"There are {train_df['category_name'].nunique()} unique values in the category column.\")\n",
    "print(f\"There are {len(train_df[train_df['main_cat'] == 'missing_cat'])} items that do not have a label.\")\n",
    "print(f\"There are {train_df['main_cat'].nunique()} unique main categories.\")\n",
    "print(f\"There are {train_df['sub_cat1'].nunique()} unique first sub-categories.\")\n",
    "print(f\"There are {train_df['sub_cat2'].nunique()} unique second sub-categories.\")"
   ]
  },
  {
   "cell_type": "code",
   "execution_count": null,
   "metadata": {
    "ExecuteTime": {
     "end_time": "2019-12-14T20:24:55.307684Z",
     "start_time": "2019-12-14T20:24:54.746424Z"
    }
   },
   "outputs": [],
   "source": [
    "# TOP 5 RAW CATEGORIES\n",
    "all_df['category_name'].value_counts()[:5]"
   ]
  },
  {
   "cell_type": "code",
   "execution_count": null,
   "metadata": {
    "ExecuteTime": {
     "end_time": "2019-12-14T20:24:55.527040Z",
     "start_time": "2019-12-14T20:24:55.310463Z"
    }
   },
   "outputs": [],
   "source": [
    "# TOP 5 RAW CATEGORIES\n",
    "train_df['category_name'].value_counts()[:5]"
   ]
  },
  {
   "cell_type": "code",
   "execution_count": null,
   "metadata": {
    "ExecuteTime": {
     "end_time": "2019-12-14T20:24:58.363423Z",
     "start_time": "2019-12-14T20:24:55.528179Z"
    }
   },
   "outputs": [],
   "source": [
    "x = all_df['main_cat'].value_counts().index.values.astype('str')\n",
    "y = all_df['main_cat'].value_counts().values\n",
    "pct = [f\"{(v * 100):0.2f}%\" for v in (y/len(all_df))]\n",
    "\n",
    "trace1 = go.Bar(x=x, y=y, text=pct)\n",
    "layout = dict(yaxis = dict(title='Count'), xaxis = dict(title='Main Category'))\n",
    "fig=dict(data=[trace1], layout=layout)\n",
    "py.iplot(fig)"
   ]
  },
  {
   "cell_type": "code",
   "execution_count": null,
   "metadata": {
    "ExecuteTime": {
     "end_time": "2019-12-14T20:25:00.352805Z",
     "start_time": "2019-12-14T20:24:58.364785Z"
    }
   },
   "outputs": [],
   "source": [
    "x = all_df['sub_cat1'].value_counts().index.values.astype('str')[:15]\n",
    "y = all_df['sub_cat1'].value_counts().values[:15]\n",
    "pct = [f\"{(v * 100):0.2f}%\" for v in (y/len(all_df))][:15]\n",
    "\n",
    "trace1 = go.Bar(x=x, y=y, text=pct,\n",
    "                marker=dict(\n",
    "                color = y,colorscale='Portland',showscale=True,\n",
    "                reversescale = False\n",
    "                ))\n",
    "layout = dict(yaxis = dict(title='Count'), xaxis = dict(title='SubCategory 1'))\n",
    "fig=dict(data=[trace1], layout=layout)\n",
    "py.iplot(fig)"
   ]
  },
  {
   "cell_type": "code",
   "execution_count": null,
   "metadata": {
    "ExecuteTime": {
     "end_time": "2019-12-14T20:25:02.318531Z",
     "start_time": "2019-12-14T20:25:00.354984Z"
    }
   },
   "outputs": [],
   "source": [
    "x = all_df['sub_cat2'].value_counts().index.values.astype('str')[:15]\n",
    "y = all_df['sub_cat2'].value_counts().values[:15]\n",
    "pct = [f\"{(v * 100):0.2f}%\" for v in (y/len(all_df))][:15]\n",
    "\n",
    "trace1 = go.Bar(x=x, y=y, text=pct,\n",
    "                marker=dict(\n",
    "                color = y,colorscale='Portland',showscale=True,\n",
    "                reversescale = False\n",
    "                ))\n",
    "layout = dict(yaxis = dict(title='Count'), xaxis = dict(title='SubCategory 2'))\n",
    "fig=dict(data=[trace1], layout=layout)\n",
    "py.iplot(fig)"
   ]
  },
  {
   "cell_type": "markdown",
   "metadata": {},
   "source": [
    "## Brand Name"
   ]
  },
  {
   "cell_type": "code",
   "execution_count": null,
   "metadata": {
    "ExecuteTime": {
     "end_time": "2019-12-14T20:25:03.068334Z",
     "start_time": "2019-12-14T20:25:02.319911Z"
    }
   },
   "outputs": [],
   "source": [
    "train_df['brand_name'].fillna('missing', inplace=True)\n",
    "test_df['brand_name'].fillna('missing', inplace=True)\n",
    "test2_df['brand_name'].fillna('missing', inplace=True)\n",
    "all_df['brand_name'].fillna('missing', inplace=True)"
   ]
  },
  {
   "cell_type": "code",
   "execution_count": null,
   "metadata": {
    "ExecuteTime": {
     "end_time": "2019-12-14T20:25:03.389359Z",
     "start_time": "2019-12-14T20:25:03.069745Z"
    }
   },
   "outputs": [],
   "source": [
    "print(f\"There are {all_df['brand_name'].nunique()} unique brand names in the full dataset.\")\n",
    "print(f\"There are {train_df['brand_name'].nunique()} unique brand names in the training dataset.\")"
   ]
  },
  {
   "cell_type": "code",
   "execution_count": null,
   "metadata": {
    "ExecuteTime": {
     "end_time": "2019-12-14T20:25:04.273209Z",
     "start_time": "2019-12-14T20:25:03.390823Z"
    }
   },
   "outputs": [],
   "source": [
    "x = all_df['brand_name'].value_counts().index.values.astype('str')[:15]\n",
    "y = all_df['brand_name'].value_counts().values[:15]"
   ]
  },
  {
   "cell_type": "code",
   "execution_count": null,
   "metadata": {
    "ExecuteTime": {
     "end_time": "2019-12-14T20:25:04.548180Z",
     "start_time": "2019-12-14T20:25:04.274947Z"
    }
   },
   "outputs": [],
   "source": [
    "trace1 = go.Bar(x=x, y=y, \n",
    "                marker=dict(\n",
    "                color = y,colorscale='Portland',showscale=True,\n",
    "                reversescale = False\n",
    "                ))\n",
    "layout = dict(xaxis = dict(title='Brand Name'), yaxis = dict(title='Count'))\n",
    "fig=dict(data=[trace1], layout=layout)\n",
    "py.iplot(fig)"
   ]
  },
  {
   "cell_type": "markdown",
   "metadata": {},
   "source": [
    "## Item Description"
   ]
  },
  {
   "cell_type": "markdown",
   "metadata": {},
   "source": [
    "- Replace `NaN`s and \"No description yet\" with empty strings\n",
    "- Merge `name` and `item_description`"
   ]
  },
  {
   "cell_type": "code",
   "execution_count": null,
   "metadata": {
    "ExecuteTime": {
     "end_time": "2019-12-14T20:25:15.609584Z",
     "start_time": "2019-12-14T20:25:04.549336Z"
    }
   },
   "outputs": [],
   "source": [
    "train_df['item_description'].replace('No description yet', '', inplace=True)\n",
    "train_df['text'] = train_df['name'] + '\\n' + train_df['item_description']\n",
    "train_df['text'].fillna('', inplace=True)\n",
    "\n",
    "test_df['item_description'].replace('No description yet', '', inplace=True)\n",
    "test_df['text'] = test_df['name'] + '\\n' + test_df['item_description']\n",
    "test_df['text'].fillna('', inplace=True)\n",
    "\n",
    "test2_df['item_description'].replace('No description yet', '', inplace=True)\n",
    "test2_df['text'] = test2_df['name'] + '\\n' + test2_df['item_description']\n",
    "test2_df['text'].fillna('', inplace=True)\n",
    "\n",
    "all_df['item_description'].replace('No description yet', '', inplace=True)\n",
    "all_df['text'] = test2_df['name'] + '\\n' + test2_df['item_description']\n",
    "all_df['text'].fillna('', inplace=True)"
   ]
  },
  {
   "cell_type": "code",
   "execution_count": null,
   "metadata": {
    "ExecuteTime": {
     "end_time": "2019-12-14T20:25:18.177403Z",
     "start_time": "2019-12-14T20:25:15.610908Z"
    }
   },
   "outputs": [],
   "source": [
    "def millions(x, pos):\n",
    "  return f'{(x*1e-6):1.1f}M'\n",
    "\n",
    "formatter = FuncFormatter(millions)\n",
    "\n",
    "fig, ax = plt.subplots(1, 1, figsize=(20, 10))\n",
    "all_df['text'].apply(len).plot.hist(bins=50, ax=ax, edgecolor='white')\n",
    "ax.set_xlabel('Item Description Length (characters)', fontsize=17)\n",
    "ax.set_ylabel('# Item Descriptions', fontsize=17)\n",
    "ax.set_xlim(0, 700)\n",
    "ax.yaxis.set_major_formatter(formatter)\n",
    "ax.tick_params(labelsize=15)\n",
    "\n",
    "if save:\n",
    "  fig.savefig(args.figdir/'desc_len_dist.pdf', dpi=300, bbox_inches='tight', pad_inches=0) "
   ]
  },
  {
   "cell_type": "markdown",
   "metadata": {},
   "source": [
    "## Write to disk"
   ]
  },
  {
   "cell_type": "code",
   "execution_count": null,
   "metadata": {
    "ExecuteTime": {
     "end_time": "2019-12-14T20:26:18.483694Z",
     "start_time": "2019-12-14T20:25:18.178743Z"
    }
   },
   "outputs": [],
   "source": [
    "train_df.to_csv(args.path/'train_df.csv', index=False)\n",
    "test_df.to_csv(args.path/'test_df.csv', index=False)\n",
    "test2_df.to_csv(args.path/'test2_df.csv', index=False)"
   ]
  }
 ],
 "metadata": {
  "kernelspec": {
   "display_name": "Python 3",
   "language": "python",
   "name": "python3"
  },
  "language_info": {
   "codemirror_mode": {
    "name": "ipython",
    "version": 3
   },
   "file_extension": ".py",
   "mimetype": "text/x-python",
   "name": "python",
   "nbconvert_exporter": "python",
   "pygments_lexer": "ipython3",
   "version": "3.7.5"
  },
  "toc": {
   "base_numbering": 1,
   "nav_menu": {},
   "number_sections": true,
   "sideBar": true,
   "skip_h1_title": true,
   "title_cell": "Table of Contents",
   "title_sidebar": "Contents",
   "toc_cell": false,
   "toc_position": {
    "height": "calc(100% - 180px)",
    "left": "10px",
    "top": "150px",
    "width": "165px"
   },
   "toc_section_display": true,
   "toc_window_display": false
  }
 },
 "nbformat": 4,
 "nbformat_minor": 2
}
