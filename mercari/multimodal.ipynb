{
 "cells": [
  {
   "cell_type": "markdown",
   "metadata": {},
   "source": [
    "# Mercari Price Suggestion Challenge GBM Classifier using full data"
   ]
  },
  {
   "cell_type": "markdown",
   "metadata": {},
   "source": [
    "## Imports & Inits"
   ]
  },
  {
   "cell_type": "code",
   "execution_count": 1,
   "metadata": {
    "ExecuteTime": {
     "end_time": "2019-11-30T22:42:52.809644Z",
     "start_time": "2019-11-30T22:42:52.775350Z"
    }
   },
   "outputs": [],
   "source": [
    "%load_ext autoreload\n",
    "%autoreload 2"
   ]
  },
  {
   "cell_type": "code",
   "execution_count": 2,
   "metadata": {
    "ExecuteTime": {
     "end_time": "2019-11-30T22:42:54.643668Z",
     "start_time": "2019-11-30T22:42:52.812684Z"
    }
   },
   "outputs": [],
   "source": [
    "import warnings\n",
    "warnings.filterwarnings(\"ignore\", category=UserWarning)\n",
    "\n",
    "import pdb\n",
    "import re\n",
    "import pickle\n",
    "import string\n",
    "import pandas as pd\n",
    "import numpy as np\n",
    "import scipy\n",
    "import lightgbm as lgb\n",
    "np.set_printoptions(precision=4)\n",
    "\n",
    "from wordcloud import WordCloud\n",
    "from sklearn.feature_extraction.text import TfidfVectorizer\n",
    "from sklearn.model_selection import train_test_split\n",
    "from sklearn.metrics import mean_squared_error\n",
    "\n",
    "from pathlib import Path\n",
    "\n",
    "import matplotlib.pyplot as plt\n",
    "from matplotlib.ticker import FuncFormatter\n",
    "import seaborn as sns\n",
    "sns.set_style(\"darkgrid\")\n",
    "%matplotlib inline"
   ]
  },
  {
   "cell_type": "code",
   "execution_count": 3,
   "metadata": {
    "ExecuteTime": {
     "end_time": "2019-11-30T22:42:54.666430Z",
     "start_time": "2019-11-30T22:42:54.645646Z"
    },
    "scrolled": true
   },
   "outputs": [
    {
     "data": {
      "text/plain": [
       "{'path': PosixPath('data'),\n",
       " 'workdir': PosixPath('data/workdir'),\n",
       " 'train_tsv': PosixPath('data/train.tsv'),\n",
       " 'test_tsv': PosixPath('data/test.tsv'),\n",
       " 'test2_tsv': PosixPath('data/test_stg2.tsv'),\n",
       " 'modeldir': PosixPath('data/workdir/models'),\n",
       " 'vectordir': PosixPath('data/workdir/vectordir'),\n",
       " 'figdir': PosixPath('data/figures')}"
      ]
     },
     "execution_count": 3,
     "metadata": {},
     "output_type": "execute_result"
    }
   ],
   "source": [
    "from args import args\n",
    "vars(args)"
   ]
  },
  {
   "cell_type": "markdown",
   "metadata": {},
   "source": [
    "## Functions"
   ]
  },
  {
   "cell_type": "code",
   "execution_count": null,
   "metadata": {
    "ExecuteTime": {
     "end_time": "2019-10-28T17:53:30.790452Z",
     "start_time": "2019-10-28T17:53:30.739716Z"
    }
   },
   "outputs": [],
   "source": [
    "def test(a,b,cmp,cname=None):\n",
    "  if cname is None: cname=cmp.__name__\n",
    "  assert cmp(a,b),f\"{cname}:\\n{a}\\n{b}\"\n",
    "\n",
    "def near(a,b): return np.allclose(a, b, rtol=1e-1, atol=1e-1)\n",
    "def test_near(a,b): test(a,b,near)\n",
    "  \n",
    "def set_two_splits(df, name, pct=0.15, seed=None):\n",
    "  df['split'] = 'train'\n",
    "  _, val_idxs = train_test_split(np.arange(len(df)), test_size=pct, random_state=seed)\n",
    "  df.loc[val_idxs, 'split'] = name\n",
    "\n",
    "  test_near(round(len(df[df['split'] == 'train'])/len(df), 2), 1-pct)\n",
    "  test_near(round(len(df[df['split'] == name])/len(df), 2), pct)\n",
    "\n",
    "  return df"
   ]
  },
  {
   "cell_type": "markdown",
   "metadata": {},
   "source": [
    "## Train and Validation"
   ]
  },
  {
   "cell_type": "code",
   "execution_count": null,
   "metadata": {
    "ExecuteTime": {
     "end_time": "2019-10-28T16:50:18.734038Z",
     "start_time": "2019-10-28T16:50:13.780692Z"
    }
   },
   "outputs": [],
   "source": [
    "data_df = pd.read_csv(args.path/'train_df.csv', usecols=['item_condition_id', 'brand_name', 'shipping', 'main_cat', 'sub_cat1', 'sub_cat2', 'text', 'price'])\n",
    "data_df.head()"
   ]
  },
  {
   "cell_type": "code",
   "execution_count": null,
   "metadata": {
    "ExecuteTime": {
     "end_time": "2019-10-28T16:50:20.494687Z",
     "start_time": "2019-10-28T16:50:18.737400Z"
    }
   },
   "outputs": [],
   "source": [
    "seed = 643\n",
    "df = set_two_splits(data_df.copy(), 'valid', seed=seed)\n",
    "train_df = df.loc[df['split'] == 'train'].copy()\n",
    "valid_df = df.loc[df['split'] == 'valid'].copy()\n",
    "y_train = train_df['price']\n",
    "y_valid = valid_df['price']\n",
    "\n",
    "df.shape, train_df.shape, valid_df.shape, y_train.shape, y_valid.shape"
   ]
  },
  {
   "cell_type": "markdown",
   "metadata": {},
   "source": [
    "### Preprocessing"
   ]
  },
  {
   "cell_type": "markdown",
   "metadata": {},
   "source": [
    "`item_condition_id` has no `NaN` in all the datasets, so I'm just going to leave it alone."
   ]
  },
  {
   "cell_type": "markdown",
   "metadata": {},
   "source": [
    "Brands and categories are encoded as a function of mean price. Basically, we group the brands by price, compute the mean, assign ids to it with lowest id going to the brand with the highest mean price. Then ids are normalized by dividing them with the number of brands and these values are assigned as the brand value."
   ]
  },
  {
   "cell_type": "code",
   "execution_count": null,
   "metadata": {
    "ExecuteTime": {
     "end_time": "2019-10-28T16:50:21.002642Z",
     "start_time": "2019-10-28T16:50:20.497415Z"
    }
   },
   "outputs": [],
   "source": [
    "brands = train_df.groupby('brand_name')['price'].mean().sort_values(ascending=False).to_frame()\n",
    "brands['id'] = brands.reset_index().index.values\n",
    "brand_names = brands.index.values\n",
    "\n",
    "train_brand_data = brands.loc[train_df['brand_name']]\n",
    "train_df.loc[:, 'brand_val'] = train_brand_data['id'].values/len(brand_names)\n",
    "\n",
    "valid_brand_data = brands.loc[valid_df['brand_name']]\n",
    "valid_df.loc[:, 'brand_val'] = valid_brand_data['id'].values/len(brand_names)\n",
    "\n",
    "maincats = train_df.groupby('main_cat')['price'].mean().sort_values(ascending=False).to_frame()\n",
    "maincats['id'] = maincats.reset_index().index.values\n",
    "maincat_names = maincats.index.values\n",
    "\n",
    "train_maincats = maincats.loc[train_df['main_cat']]\n",
    "train_df.loc[:, 'maincat_val'] = train_maincats['id'].values/len(maincat_names)\n",
    "\n",
    "valid_maincats = maincats.loc[valid_df['main_cat']]\n",
    "valid_df.loc[:, 'maincat_val'] = valid_maincats['id'].values/len(maincat_names)\n",
    "\n",
    "subcat1s = train_df.groupby('sub_cat1')['price'].mean().sort_values(ascending=False).to_frame()\n",
    "subcat1s['id'] = subcat1s.reset_index().index.values\n",
    "subcat1_names = subcat1s.index.values\n",
    "\n",
    "train_subcat1s = subcat1s.loc[train_df['sub_cat1']]\n",
    "train_df.loc[:, 'subcat1_val'] = train_subcat1s['id'].values/len(subcat1_names)\n",
    "\n",
    "valid_subcat1s = subcat1s.loc[valid_df['sub_cat1']]\n",
    "valid_df.loc[:, 'subcat1_val'] = valid_subcat1s['id'].values/len(subcat1_names)\n",
    "\n",
    "subcat2s = train_df.groupby('sub_cat2')['price'].mean().sort_values(ascending=False).to_frame()\n",
    "subcat2s['id'] = subcat2s.reset_index().index.values\n",
    "subcat2_names = subcat2s.index.values\n",
    "\n",
    "train_subcat2s = subcat2s.loc[train_df['sub_cat2']]\n",
    "train_df.loc[:, 'subcat2_val'] = train_subcat2s['id'].values/len(subcat2_names)\n",
    "\n",
    "valid_subcat2s = subcat2s.loc[valid_df['sub_cat2']]\n",
    "valid_df.loc[:, 'subcat2_val'] = valid_subcat2s['id'].values/len(subcat2_names)"
   ]
  },
  {
   "cell_type": "markdown",
   "metadata": {},
   "source": [
    "Now we have to extract all the `_val`s as a separate matrix so that it can be combined with the tfidf vector"
   ]
  },
  {
   "cell_type": "code",
   "execution_count": null,
   "metadata": {
    "ExecuteTime": {
     "end_time": "2019-10-28T16:50:22.515331Z",
     "start_time": "2019-10-28T16:50:22.455284Z"
    }
   },
   "outputs": [],
   "source": [
    "train_str_val = train_df[['item_condition_id', 'shipping', 'brand_val', 'maincat_val', 'subcat1_val', 'subcat2_val']].values\n",
    "\n",
    "valid_str_val = valid_df[['item_condition_id', 'shipping', 'brand_val', 'maincat_val', 'subcat1_val', 'subcat2_val']].values"
   ]
  },
  {
   "cell_type": "code",
   "execution_count": null,
   "metadata": {
    "ExecuteTime": {
     "end_time": "2019-10-28T16:51:56.038694Z",
     "start_time": "2019-10-28T16:50:22.517004Z"
    }
   },
   "outputs": [],
   "source": [
    "vectorizer = TfidfVectorizer(ngram_range=(1,2), max_features=60_000)\n",
    "train_desc_val = vectorizer.fit_transform(train_df['text'].values.astype('U'))\n",
    "valid_desc_val = vectorizer.transform(valid_df['text'].values.astype('U'))\n",
    "\n",
    "x_train = scipy.sparse.hstack((train_str_val, train_desc_val)).tocsr()\n",
    "y_train = train_df['price']\n",
    "\n",
    "x_valid = scipy.sparse.hstack((valid_str_val, valid_desc_val)).tocsr()\n",
    "y_valid = valid_df['price']\n",
    "\n",
    "idx2tok = {v: k for k, v in vectorizer.vocabulary_.items()}"
   ]
  },
  {
   "cell_type": "markdown",
   "metadata": {},
   "source": [
    "Make sure all the values are correctly reprsented where they need to be"
   ]
  },
  {
   "cell_type": "code",
   "execution_count": null,
   "metadata": {
    "ExecuteTime": {
     "end_time": "2019-10-28T16:51:56.259328Z",
     "start_time": "2019-10-28T16:51:56.040442Z"
    }
   },
   "outputs": [],
   "source": [
    "train_df.head()"
   ]
  },
  {
   "cell_type": "code",
   "execution_count": null,
   "metadata": {
    "ExecuteTime": {
     "end_time": "2019-10-28T16:51:56.280104Z",
     "start_time": "2019-10-28T16:51:56.260723Z"
    }
   },
   "outputs": [],
   "source": [
    "train_str_val[:10]"
   ]
  },
  {
   "cell_type": "code",
   "execution_count": null,
   "metadata": {
    "ExecuteTime": {
     "end_time": "2019-10-28T16:51:56.299968Z",
     "start_time": "2019-10-28T16:51:56.281176Z"
    }
   },
   "outputs": [],
   "source": [
    "scipy.sparse.csr_matrix.todense(x_train[:10, :6])"
   ]
  },
  {
   "cell_type": "code",
   "execution_count": null,
   "metadata": {
    "ExecuteTime": {
     "end_time": "2019-10-28T16:51:56.327670Z",
     "start_time": "2019-10-28T16:51:56.300942Z"
    }
   },
   "outputs": [],
   "source": [
    "valid_df.head()"
   ]
  },
  {
   "cell_type": "code",
   "execution_count": null,
   "metadata": {
    "ExecuteTime": {
     "end_time": "2019-10-28T16:51:56.345621Z",
     "start_time": "2019-10-28T16:51:56.328948Z"
    }
   },
   "outputs": [],
   "source": [
    "valid_str_val[:10]"
   ]
  },
  {
   "cell_type": "code",
   "execution_count": null,
   "metadata": {
    "ExecuteTime": {
     "end_time": "2019-10-28T16:51:56.364165Z",
     "start_time": "2019-10-28T16:51:56.346897Z"
    }
   },
   "outputs": [],
   "source": [
    "scipy.sparse.csr_matrix.todense(x_valid[:10, :6])"
   ]
  },
  {
   "cell_type": "markdown",
   "metadata": {},
   "source": [
    "### Training"
   ]
  },
  {
   "cell_type": "code",
   "execution_count": null,
   "metadata": {
    "ExecuteTime": {
     "end_time": "2019-10-28T16:51:56.381775Z",
     "start_time": "2019-10-28T16:51:56.365114Z"
    }
   },
   "outputs": [],
   "source": [
    "lgb_train = lgb.Dataset(x_train, y_train)\n",
    "lgb_valid = lgb.Dataset(x_valid, y_valid, reference=lgb_train)\n",
    "\n",
    "lgb_params = {\n",
    "  'num_leaves': 400,\n",
    "  'learning_rate': 0.05,\n",
    "  'feature_fraction': 0.9,\n",
    "  'bagging_fraction': 0.7,\n",
    "  'bagging_freq': 5,\n",
    "  'metric': 'rmse',\n",
    "  'num_threads': 32,\n",
    "  'max_bin': 32,\n",
    "  'objective': 'regression',\n",
    "}"
   ]
  },
  {
   "cell_type": "code",
   "execution_count": null,
   "metadata": {
    "ExecuteTime": {
     "end_time": "2019-10-28T16:51:56.406135Z",
     "start_time": "2019-10-28T16:51:56.382771Z"
    }
   },
   "outputs": [],
   "source": [
    "fn = ['item_condition_id', 'shipping', 'brand_name', 'main_cat', 'sub_cat1', 'sub_cat2'] + [f'token_{i}' for i in range(len(vectorizer.vocabulary_))]"
   ]
  },
  {
   "cell_type": "code",
   "execution_count": null,
   "metadata": {
    "ExecuteTime": {
     "end_time": "2019-10-28T16:52:11.632292Z",
     "start_time": "2019-10-28T16:51:56.407092Z"
    }
   },
   "outputs": [],
   "source": [
    "evals_result = {} \n",
    "\n",
    "gbm = lgb.train(lgb_params, lgb_train, num_boost_round=10, feature_name=fn, valid_sets=[lgb_train, lgb_valid], evals_result=evals_result, early_stopping_rounds=10, verbose_eval=True)\n",
    "\n",
    "fig, ax = plt.subplots(figsize=(11, 8))\n",
    "lgb.plot_metric(evals_result, ax=ax, metric='rmse')"
   ]
  },
  {
   "cell_type": "code",
   "execution_count": null,
   "metadata": {
    "ExecuteTime": {
     "end_time": "2019-10-27T18:41:21.062739Z",
     "start_time": "2019-10-27T18:41:18.496612Z"
    }
   },
   "outputs": [],
   "source": [
    "# fig, ax = plt.subplots(figsize=(20, 20))\n",
    "# d, wc = wordcloud(gbm.feature_importance(importance_type='gain'), idx2tok, min_len=5, n_tokens=500)\n",
    "# ax.imshow(wc)\n",
    "# ax.axis('off')\n",
    "# fig.savefig(args.figdir/'desc_wc.pdf', dpi=300)"
   ]
  },
  {
   "cell_type": "code",
   "execution_count": null,
   "metadata": {
    "ExecuteTime": {
     "end_time": "2019-10-28T17:08:37.248911Z",
     "start_time": "2019-10-28T17:08:36.931055Z"
    }
   },
   "outputs": [],
   "source": [
    "preds = gbm.predict(x_valid)\n",
    "np.round(np.sqrt(mean_squared_error(y_valid, preds)), 3)"
   ]
  },
  {
   "cell_type": "code",
   "execution_count": null,
   "metadata": {
    "ExecuteTime": {
     "end_time": "2019-10-28T17:10:12.633000Z",
     "start_time": "2019-10-28T17:10:12.413910Z"
    }
   },
   "outputs": [],
   "source": [
    "fi = gbm.feature_importance(importance_type='gain')\n",
    "\n",
    "idxs = np.argsort(fi)[-15:]\n",
    "\n",
    "features = []\n",
    "for i in idxs:\n",
    "  feature = fn[i]\n",
    "  if 'token_' not in feature:\n",
    "    features.append(fn[i])\n",
    "  else:\n",
    "    features.append(idx2tok[int(feature[6:])])"
   ]
  },
  {
   "cell_type": "code",
   "execution_count": null,
   "metadata": {
    "ExecuteTime": {
     "end_time": "2019-10-28T17:31:21.065059Z",
     "start_time": "2019-10-28T17:31:20.010013Z"
    },
    "scrolled": false
   },
   "outputs": [],
   "source": [
    "fig, ax = plt.subplots(figsize=(15, 10))\n",
    "lgb.plot_importance(gbm, max_num_features=15, ax=ax, importance_type='gain', precision=2)\n",
    "ax.set_yticklabels(features);"
   ]
  },
  {
   "cell_type": "markdown",
   "metadata": {
    "heading_collapsed": true
   },
   "source": [
    "## Full Model Training"
   ]
  },
  {
   "cell_type": "code",
   "execution_count": null,
   "metadata": {
    "ExecuteTime": {
     "end_time": "2019-10-29T12:20:50.322687Z",
     "start_time": "2019-10-29T12:20:45.324046Z"
    },
    "hidden": true
   },
   "outputs": [],
   "source": [
    "train_df = pd.read_csv(args.path/'train_df.csv', usecols=['item_condition_id', 'brand_name', 'shipping', 'main_cat', 'sub_cat1', 'sub_cat2', 'text', 'price'])\n",
    "train_df.head()"
   ]
  },
  {
   "cell_type": "code",
   "execution_count": null,
   "metadata": {
    "ExecuteTime": {
     "end_time": "2019-10-29T12:20:52.103205Z",
     "start_time": "2019-10-29T12:20:50.325018Z"
    },
    "hidden": true
   },
   "outputs": [],
   "source": [
    "brands = train_df.groupby('brand_name')['price'].mean().sort_values(ascending=False).to_frame()\n",
    "brands['id'] = brands.reset_index().index.values\n",
    "brand_names = brands.index.values\n",
    "\n",
    "train_brand_data = brands.loc[train_df['brand_name']]\n",
    "train_df.loc[:, 'brand_val'] = train_brand_data['id'].values/len(brand_names)\n",
    "\n",
    "maincats = train_df.groupby('main_cat')['price'].mean().sort_values(ascending=False).to_frame()\n",
    "maincats['id'] = maincats.reset_index().index.values\n",
    "maincat_names = maincats.index.values\n",
    "\n",
    "train_maincats = maincats.loc[train_df['main_cat']]\n",
    "train_df.loc[:, 'maincat_val'] = train_maincats['id'].values/len(maincat_names)\n",
    "\n",
    "subcat1s = train_df.groupby('sub_cat1')['price'].mean().sort_values(ascending=False).to_frame()\n",
    "subcat1s['id'] = subcat1s.reset_index().index.values\n",
    "subcat1_names = subcat1s.index.values\n",
    "\n",
    "train_subcat1s = subcat1s.loc[train_df['sub_cat1']]\n",
    "train_df.loc[:, 'subcat1_val'] = train_subcat1s['id'].values/len(subcat1_names)\n",
    "\n",
    "subcat2s = train_df.groupby('sub_cat2')['price'].mean().sort_values(ascending=False).to_frame()\n",
    "subcat2s['id'] = subcat2s.reset_index().index.values\n",
    "subcat2_names = subcat2s.index.values\n",
    "\n",
    "train_subcat2s = subcat2s.loc[train_df['sub_cat2']]\n",
    "train_df.loc[:, 'subcat2_val'] = train_subcat2s['id'].values/len(subcat2_names)"
   ]
  },
  {
   "cell_type": "code",
   "execution_count": null,
   "metadata": {
    "ExecuteTime": {
     "end_time": "2019-10-29T11:15:12.935893Z",
     "start_time": "2019-10-29T11:15:12.869273Z"
    },
    "hidden": true
   },
   "outputs": [],
   "source": [
    "train_str_val = train_df[['item_condition_id', 'shipping', 'brand_val', 'maincat_val', 'subcat1_val', 'subcat2_val']].values"
   ]
  },
  {
   "cell_type": "code",
   "execution_count": null,
   "metadata": {
    "ExecuteTime": {
     "end_time": "2019-10-29T11:16:48.231686Z",
     "start_time": "2019-10-29T11:15:12.938501Z"
    },
    "hidden": true
   },
   "outputs": [],
   "source": [
    "vectorizer = TfidfVectorizer(ngram_range=(1,2), max_features=60_000)\n",
    "train_desc_val = vectorizer.fit_transform(train_df['text'].values.astype('U'))\n",
    "\n",
    "x_train = scipy.sparse.hstack((train_str_val, train_desc_val)).tocsr()\n",
    "y_train = train_df['price']\n",
    "\n",
    "idx2tok = {v: k for k, v in vectorizer.vocabulary_.items()}"
   ]
  },
  {
   "cell_type": "code",
   "execution_count": null,
   "metadata": {
    "ExecuteTime": {
     "end_time": "2019-10-29T11:16:48.422294Z",
     "start_time": "2019-10-29T11:16:48.233835Z"
    },
    "hidden": true
   },
   "outputs": [],
   "source": [
    "lgb_train = lgb.Dataset(x_train, y_train)\n",
    "lgb_params = {\n",
    "  'num_leaves': 400,\n",
    "  'learning_rate': 0.05,\n",
    "  'feature_fraction': 0.9,\n",
    "  'bagging_fraction': 0.7,\n",
    "  'bagging_freq': 5,\n",
    "  'metric': 'rmse',\n",
    "  'num_threads': 32,\n",
    "  'max_bin': 32,\n",
    "  'objective': 'regression',\n",
    "}"
   ]
  },
  {
   "cell_type": "code",
   "execution_count": null,
   "metadata": {
    "ExecuteTime": {
     "end_time": "2019-10-29T11:39:45.722323Z",
     "start_time": "2019-10-29T11:16:48.424865Z"
    },
    "hidden": true,
    "scrolled": true
   },
   "outputs": [],
   "source": [
    "fn = ['item_condition_id', 'shipping', 'brand_name', 'main_cat', 'sub_cat1', 'sub_cat2'] + [f'token_{i}' for i in range(len(vectorizer.vocabulary_))]\n",
    "evals_result = {} \n",
    "gbm = lgb.train(lgb_params, lgb_train, num_boost_round=1000, feature_name=fn, valid_sets=[lgb_train], evals_result=evals_result, early_stopping_rounds=10, verbose_eval=True)\n",
    "pickle.dump(gbm, (args.modeldir/f'gbm_full_all.pkl').open('wb'))"
   ]
  },
  {
   "cell_type": "code",
   "execution_count": null,
   "metadata": {
    "ExecuteTime": {
     "end_time": "2019-10-29T11:39:46.254877Z",
     "start_time": "2019-10-29T11:39:45.724109Z"
    },
    "hidden": true
   },
   "outputs": [],
   "source": [
    "fig, ax = plt.subplots(figsize=(11, 8))\n",
    "lgb.plot_metric(evals_result, ax=ax, metric='rmse')\n",
    "ax.set_xlabel('# Iterations')\n",
    "ax.set_ylabel('Root Mean Square Log Error')\n",
    "ax.set_title('')\n",
    "ax.legend('')\n",
    "fig.savefig(args.figdir/'train_loss.pdf', dpi=300)"
   ]
  },
  {
   "cell_type": "markdown",
   "metadata": {},
   "source": [
    "## Feature Importance"
   ]
  },
  {
   "cell_type": "code",
   "execution_count": 25,
   "metadata": {
    "ExecuteTime": {
     "end_time": "2019-11-30T22:47:03.686626Z",
     "start_time": "2019-11-30T22:47:00.653211Z"
    }
   },
   "outputs": [],
   "source": [
    "gbm = pickle.load((args.modeldir/'gbm_full_all.pkl').open('rb'))\n",
    "\n",
    "with open(args.vectordir/'default_bi_all.pkl', 'rb') as f:\n",
    "  vectorizer = pickle.load(f)\n",
    "  _ = pickle.load(f)\n",
    "\n",
    "idx2tok = {v: k for k, v in vectorizer.vocabulary_.items()}\n",
    "\n",
    "fn = ['item_condition_id', 'shipping', 'brand_name', 'main_cat', 'sub_cat1', 'sub_cat2'] + [f'token_{i}' for i in range(len(vectorizer.vocabulary_))]"
   ]
  },
  {
   "cell_type": "code",
   "execution_count": 34,
   "metadata": {
    "ExecuteTime": {
     "end_time": "2019-11-30T22:50:27.098692Z",
     "start_time": "2019-11-30T22:50:26.856137Z"
    }
   },
   "outputs": [],
   "source": [
    "n_features=20\n",
    "\n",
    "fi = gbm.feature_importance(importance_type='gain')\n",
    "idxs = np.argsort(fi)\n",
    "\n",
    "p = re.compile('^[a-z\\s]+$')\n",
    "features = []\n",
    "fidxs = []\n",
    "for i in idxs:\n",
    "  feature = fn[i]\n",
    "  if 'token_' not in feature:\n",
    "    features.append(fn[i])\n",
    "    fidxs.append(i)\n",
    "#   else:    \n",
    "#       token = idx2tok[int(feature[6:])]\n",
    "#       tokens = token.split()\n",
    "#       re_token = []\n",
    "#       for t in tokens:\n",
    "#         if len(t) > 5 and p.match(t):\n",
    "#           re_token.append(t)\n",
    "          \n",
    "#       if len(re_token) > 0:\n",
    "#         features.append(' '.join(re_token))\n",
    "#         fidxs.append(i)\n",
    "\n",
    "fidxs = np.array(fidxs)        \n",
    "fi = fi[fidxs]\n",
    "fi = fi/fi.max()"
   ]
  },
  {
   "cell_type": "code",
   "execution_count": 35,
   "metadata": {
    "ExecuteTime": {
     "end_time": "2019-11-30T22:50:28.072631Z",
     "start_time": "2019-11-30T22:50:28.024208Z"
    }
   },
   "outputs": [],
   "source": [
    "fi_df = pd.DataFrame({'feature': features, 'importance': fi}).sort_values('importance', ascending=False).reset_index(drop=True)\n",
    "plot_df = fi_df.head(n_features)"
   ]
  },
  {
   "cell_type": "code",
   "execution_count": 31,
   "metadata": {
    "ExecuteTime": {
     "end_time": "2019-11-30T22:47:10.569175Z",
     "start_time": "2019-11-30T22:47:10.523315Z"
    }
   },
   "outputs": [],
   "source": [
    "plot_df.loc[:, 'feature'] = plot_df['feature'].copy().apply(lambda x: x + '*' if '_' not in x else x)"
   ]
  },
  {
   "cell_type": "code",
   "execution_count": 36,
   "metadata": {
    "ExecuteTime": {
     "end_time": "2019-11-30T22:50:30.023399Z",
     "start_time": "2019-11-30T22:50:29.972616Z"
    }
   },
   "outputs": [
    {
     "data": {
      "text/html": [
       "<div>\n",
       "<style scoped>\n",
       "    .dataframe tbody tr th:only-of-type {\n",
       "        vertical-align: middle;\n",
       "    }\n",
       "\n",
       "    .dataframe tbody tr th {\n",
       "        vertical-align: top;\n",
       "    }\n",
       "\n",
       "    .dataframe thead th {\n",
       "        text-align: right;\n",
       "    }\n",
       "</style>\n",
       "<table border=\"1\" class=\"dataframe\">\n",
       "  <thead>\n",
       "    <tr style=\"text-align: right;\">\n",
       "      <th></th>\n",
       "      <th>feature</th>\n",
       "      <th>importance</th>\n",
       "    </tr>\n",
       "  </thead>\n",
       "  <tbody>\n",
       "    <tr>\n",
       "      <th>0</th>\n",
       "      <td>brand_name</td>\n",
       "      <td>1.000000</td>\n",
       "    </tr>\n",
       "    <tr>\n",
       "      <th>1</th>\n",
       "      <td>sub_cat2</td>\n",
       "      <td>0.568891</td>\n",
       "    </tr>\n",
       "    <tr>\n",
       "      <th>2</th>\n",
       "      <td>shipping</td>\n",
       "      <td>0.123259</td>\n",
       "    </tr>\n",
       "    <tr>\n",
       "      <th>3</th>\n",
       "      <td>item_condition_id</td>\n",
       "      <td>0.093820</td>\n",
       "    </tr>\n",
       "    <tr>\n",
       "      <th>4</th>\n",
       "      <td>sub_cat1</td>\n",
       "      <td>0.066798</td>\n",
       "    </tr>\n",
       "    <tr>\n",
       "      <th>5</th>\n",
       "      <td>main_cat</td>\n",
       "      <td>0.031748</td>\n",
       "    </tr>\n",
       "  </tbody>\n",
       "</table>\n",
       "</div>"
      ],
      "text/plain": [
       "             feature  importance\n",
       "0         brand_name    1.000000\n",
       "1           sub_cat2    0.568891\n",
       "2           shipping    0.123259\n",
       "3  item_condition_id    0.093820\n",
       "4           sub_cat1    0.066798\n",
       "5           main_cat    0.031748"
      ]
     },
     "execution_count": 36,
     "metadata": {},
     "output_type": "execute_result"
    }
   ],
   "source": [
    "plot_df.tail(10)"
   ]
  },
  {
   "cell_type": "code",
   "execution_count": 38,
   "metadata": {
    "ExecuteTime": {
     "end_time": "2019-11-30T22:58:27.395283Z",
     "start_time": "2019-11-30T22:58:26.555236Z"
    }
   },
   "outputs": [
    {
     "data": {
      "image/png": "[encoded data removed]",
      "text/plain": [
       "<Figure size 720x720 with 1 Axes>"
      ]
     },
     "metadata": {
      "needs_background": "light"
     },
     "output_type": "display_data"
    }
   ],
   "source": [
    "fig, ax = plt.subplots(figsize=(10, 10))\n",
    "sns.barplot(x='importance', y='feature', data=plot_df, ci=None)\n",
    "fig.savefig(args.figdir/'fi_full.pdf', dpi=300)"
   ]
  },
  {
   "cell_type": "markdown",
   "metadata": {},
   "source": [
    "## Testing on test sets"
   ]
  },
  {
   "cell_type": "code",
   "execution_count": 10,
   "metadata": {
    "ExecuteTime": {
     "end_time": "2019-10-29T13:16:13.005503Z",
     "start_time": "2019-10-29T13:16:09.812271Z"
    }
   },
   "outputs": [],
   "source": [
    "gbm = pickle.load((args.modeldir/'gbm_full_all.pkl').open('rb'))\n",
    "\n",
    "with open(args.vectordir/'default_bi_all.pkl', 'rb') as f:\n",
    "  vectorizer = pickle.load(f)\n",
    "  _ = pickle.load(f)\n",
    "\n",
    "idx2tok = {v: k for k, v in vectorizer.vocabulary_.items()}"
   ]
  },
  {
   "cell_type": "code",
   "execution_count": 11,
   "metadata": {
    "ExecuteTime": {
     "end_time": "2019-10-29T13:16:13.030744Z",
     "start_time": "2019-10-29T13:16:13.007259Z"
    }
   },
   "outputs": [],
   "source": [
    "with open(args.path/'cat_vars.pkl', 'rb') as f:\n",
    "  brands = pickle.load(f)\n",
    "  maincats = pickle.load(f)\n",
    "  subcat1s = pickle.load(f)\n",
    "  subcat2s = pickle.load(f)\n",
    "  \n",
    "brand_names = brands.index.values\n",
    "maincat_names = maincats.index.values\n",
    "subcat1_names = subcat1s.index.values\n",
    "subcat2_names = subcat2s.index.values"
   ]
  },
  {
   "cell_type": "markdown",
   "metadata": {},
   "source": [
    "### Test Dataset"
   ]
  },
  {
   "cell_type": "code",
   "execution_count": 12,
   "metadata": {
    "ExecuteTime": {
     "end_time": "2019-10-29T13:17:12.328312Z",
     "start_time": "2019-10-29T13:16:13.032176Z"
    }
   },
   "outputs": [],
   "source": [
    "test_df = pd.read_csv(args.path/'test_df.csv', usecols=['test_id', 'item_condition_id', 'brand_name', 'shipping', 'main_cat', 'sub_cat1', 'sub_cat2', 'text'])\n",
    "\n",
    "test_df['brand_name'] = test_df['brand_name'].apply(lambda name: name if name in brand_names else 'missing')\n",
    "test_brand_data = brands.loc[test_df['brand_name']]\n",
    "test_df.loc[:, 'brand_val'] = test_brand_data['id'].values/len(brand_names)\n",
    "\n",
    "test_df['main_cat'] = test_df['main_cat'].apply(lambda name: name if name in maincat_names else 'missing')\n",
    "test_maincats = maincats.loc[test_df['main_cat']]\n",
    "test_df.loc[:, 'maincat_val'] = test_maincats['id'].values/len(maincat_names)\n",
    "\n",
    "test_df['sub_cat1'] = test_df['sub_cat1'].apply(lambda name: name if name in subcat1_names else 'missing')\n",
    "test_subcat1s = subcat1s.loc[test_df['sub_cat1']]\n",
    "test_df.loc[:, 'subcat1_val'] = test_subcat1s['id'].values/len(subcat1_names)\n",
    "\n",
    "test_df['sub_cat2'] = test_df['sub_cat2'].apply(lambda name: name if name in subcat2_names else 'missing')\n",
    "test_subcat2s = subcat2s.loc[test_df['sub_cat2']]\n",
    "test_df.loc[:, 'subcat2_val'] = test_subcat2s['id'].values/len(subcat2_names)"
   ]
  },
  {
   "cell_type": "code",
   "execution_count": 13,
   "metadata": {
    "ExecuteTime": {
     "end_time": "2019-10-29T13:17:43.992116Z",
     "start_time": "2019-10-29T13:17:12.334985Z"
    }
   },
   "outputs": [],
   "source": [
    "test_str_val = test_df[['item_condition_id', 'shipping', 'brand_val', 'maincat_val', 'subcat1_val', 'subcat2_val']].values\n",
    "test_desc_val = vectorizer.transform(test_df['text'].values.astype('U'))\n",
    "x_test = scipy.sparse.hstack((test_str_val, test_desc_val)).tocsr()"
   ]
  },
  {
   "cell_type": "code",
   "execution_count": 14,
   "metadata": {
    "ExecuteTime": {
     "end_time": "2019-10-29T13:18:00.977956Z",
     "start_time": "2019-10-29T13:17:43.993777Z"
    }
   },
   "outputs": [],
   "source": [
    "preds = pd.DataFrame({'test_id': test_df['test_id'], 'price': np.expm1(gbm.predict(x_test))})\n",
    "preds.to_csv(args.path/'gbm_full_submission.csv', index=False)"
   ]
  },
  {
   "cell_type": "markdown",
   "metadata": {},
   "source": [
    "### Test_stg2 Dataset"
   ]
  },
  {
   "cell_type": "code",
   "execution_count": 15,
   "metadata": {
    "ExecuteTime": {
     "end_time": "2019-10-29T13:22:55.813588Z",
     "start_time": "2019-10-29T13:18:00.980269Z"
    }
   },
   "outputs": [],
   "source": [
    "test2_df = pd.read_csv(args.path/'test2_df.csv', usecols=['test_id', 'item_condition_id', 'brand_name', 'shipping', 'main_cat', 'sub_cat1', 'sub_cat2', 'text'])\n",
    "\n",
    "test2_df['brand_name'] = test2_df['brand_name'].apply(lambda name: name if name in brand_names else 'missing')\n",
    "test2_brand_data = brands.loc[test2_df['brand_name']]\n",
    "test2_df.loc[:, 'brand_val'] = test2_brand_data['id'].values/len(brand_names)\n",
    "\n",
    "test2_df['main_cat'] = test2_df['main_cat'].apply(lambda name: name if name in maincat_names else 'missing')\n",
    "test2_maincats = maincats.loc[test2_df['main_cat']]\n",
    "test2_df.loc[:, 'maincat_val'] = test2_maincats['id'].values/len(maincat_names)\n",
    "\n",
    "test2_df['sub_cat1'] = test2_df['sub_cat1'].apply(lambda name: name if name in subcat1_names else 'missing')\n",
    "test2_subcat1s = subcat1s.loc[test2_df['sub_cat1']]\n",
    "test2_df.loc[:, 'subcat1_val'] = test2_subcat1s['id'].values/len(subcat1_names)\n",
    "\n",
    "test2_df['sub_cat2'] = test2_df['sub_cat2'].apply(lambda name: name if name in subcat2_names else 'missing')\n",
    "test2_subcat2s = subcat2s.loc[test2_df['sub_cat2']]\n",
    "test2_df.loc[:, 'subcat2_val'] = test2_subcat2s['id'].values/len(subcat2_names)"
   ]
  },
  {
   "cell_type": "code",
   "execution_count": 16,
   "metadata": {
    "ExecuteTime": {
     "end_time": "2019-10-29T13:25:34.163135Z",
     "start_time": "2019-10-29T13:22:55.816001Z"
    }
   },
   "outputs": [],
   "source": [
    "test2_str_val = test2_df[['item_condition_id', 'shipping', 'brand_val', 'maincat_val', 'subcat1_val', 'subcat2_val']].values\n",
    "test2_desc_val = vectorizer.transform(test2_df['text'].values.astype('U'))\n",
    "x_test = scipy.sparse.hstack((test2_str_val, test2_desc_val)).tocsr()"
   ]
  },
  {
   "cell_type": "code",
   "execution_count": 17,
   "metadata": {
    "ExecuteTime": {
     "end_time": "2019-10-29T13:26:58.981988Z",
     "start_time": "2019-10-29T13:25:34.166355Z"
    }
   },
   "outputs": [],
   "source": [
    "preds = pd.DataFrame({'test_id': test2_df['test_id'], 'price': np.expm1(gbm.predict(x_test))})\n",
    "preds.to_csv(args.path/'gbm_full_submission_stg2.csv', index=False)"
   ]
  }
 ],
 "metadata": {
  "kernelspec": {
   "display_name": "Python 3",
   "language": "python",
   "name": "python3"
  },
  "language_info": {
   "codemirror_mode": {
    "name": "ipython",
    "version": 3
   },
   "file_extension": ".py",
   "mimetype": "text/x-python",
   "name": "python",
   "nbconvert_exporter": "python",
   "pygments_lexer": "ipython3",
   "version": "3.7.5"
  },
  "toc": {
   "base_numbering": 1,
   "nav_menu": {},
   "number_sections": true,
   "sideBar": true,
   "skip_h1_title": true,
   "title_cell": "Table of Contents",
   "title_sidebar": "Contents",
   "toc_cell": false,
   "toc_position": {},
   "toc_section_display": true,
   "toc_window_display": false
  }
 },
 "nbformat": 4,
 "nbformat_minor": 2
}
