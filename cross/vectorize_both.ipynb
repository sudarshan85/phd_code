{
 "cells": [
  {
   "cell_type": "markdown",
   "metadata": {},
   "source": [
    "# Cross Training with MIMIC and MLH"
   ]
  },
  {
   "cell_type": "markdown",
   "metadata": {},
   "source": [
    "## Imports & Inits"
   ]
  },
  {
   "cell_type": "code",
   "execution_count": 1,
   "metadata": {
    "ExecuteTime": {
     "end_time": "2019-11-24T19:18:20.310158Z",
     "start_time": "2019-11-24T19:18:20.274841Z"
    }
   },
   "outputs": [],
   "source": [
    "%load_ext autoreload\n",
    "%autoreload 2"
   ]
  },
  {
   "cell_type": "code",
   "execution_count": 2,
   "metadata": {
    "ExecuteTime": {
     "end_time": "2019-11-24T19:18:21.731804Z",
     "start_time": "2019-11-24T19:18:20.313331Z"
    }
   },
   "outputs": [],
   "source": [
    "import pdb\n",
    "import pandas as pd\n",
    "import pickle\n",
    "import numpy as np\n",
    "np.set_printoptions(precision=4)\n",
    "\n",
    "from tqdm import tqdm_notebook as tqdm\n",
    "from ast import literal_eval\n",
    "from pathlib import Path\n",
    "from scipy import stats\n",
    "\n",
    "from sklearn.feature_extraction.text import TfidfVectorizer\n",
    "\n",
    "import matplotlib.pyplot as plt\n",
    "import seaborn as sns\n",
    "sns.set_style(\"darkgrid\")\n",
    "%matplotlib inline"
   ]
  },
  {
   "cell_type": "code",
   "execution_count": 3,
   "metadata": {
    "ExecuteTime": {
     "end_time": "2019-11-24T19:18:21.753430Z",
     "start_time": "2019-11-24T19:18:21.733525Z"
    }
   },
   "outputs": [],
   "source": [
    "mimic_path = Path('mimic_data')\n",
    "mlh_path = Path('mlh_data')\n",
    "path = Path('data')\n",
    "workdir = path/'workdir'\n",
    "vectordir = workdir/'vectordir'"
   ]
  },
  {
   "cell_type": "code",
   "execution_count": 4,
   "metadata": {
    "ExecuteTime": {
     "end_time": "2019-11-24T19:18:27.932926Z",
     "start_time": "2019-11-24T19:18:22.714676Z"
    }
   },
   "outputs": [
    {
     "data": {
      "text/plain": [
       "((38112, 3), (116400, 3))"
      ]
     },
     "execution_count": 4,
     "metadata": {},
     "output_type": "execute_result"
    }
   ],
   "source": [
    "mimic_notes_df = pd.read_csv(mimic_path/'notes_all_proc.csv', usecols=['hadm_id', 'note', 'imi_adm_label'])\n",
    "mimic_notes_df = mimic_notes_df[mimic_notes_df['imi_adm_label'] != -1].reset_index(drop=True)\n",
    "\n",
    "mlh_notes_df = pd.read_csv(mlh_path/'notes_all_proc.csv', usecols=['hadm_id', 'note', 'imi_adm_label'])\n",
    "mlh_notes_df = mlh_notes_df[mlh_notes_df['imi_adm_label'] != -1].reset_index(drop=True)\n",
    "\n",
    "mimic_notes_df.shape, mlh_notes_df.shape"
   ]
  },
  {
   "cell_type": "code",
   "execution_count": 5,
   "metadata": {
    "ExecuteTime": {
     "end_time": "2019-11-24T19:22:25.617203Z",
     "start_time": "2019-11-24T19:18:54.611674Z"
    }
   },
   "outputs": [],
   "source": [
    "mimic2mlh_vec = TfidfVectorizer(ngram_range=(1,2), max_features=60_000)\n",
    "\n",
    "x_train_mimic = mimic2mlh_vec.fit_transform(mimic_notes_df['note'])\n",
    "x_test_mlh = mimic2mlh_vec.transform(mlh_notes_df['note'])\n",
    "\n",
    "y_train_mimic = mimic_notes_df['imi_adm_label']\n",
    "y_test_mlh = mlh_notes_df['imi_adm_label']\n",
    "\n",
    "with open(vectordir/'mimic2mlh.pkl', 'wb') as f:\n",
    "  pickle.dump(mimic2mlh_vec, f)\n",
    "  pickle.dump(x_train_mimic, f)\n",
    "  pickle.dump(x_test_mlh, f)\n",
    "  pickle.dump(y_train_mimic, f)\n",
    "  pickle.dump(y_test_mlh, f)"
   ]
  },
  {
   "cell_type": "code",
   "execution_count": 6,
   "metadata": {
    "ExecuteTime": {
     "end_time": "2019-11-24T19:24:54.532432Z",
     "start_time": "2019-11-24T19:22:25.622614Z"
    }
   },
   "outputs": [],
   "source": [
    "mlh2mimic_vec = TfidfVectorizer(ngram_range=(1,2), max_features=60_000)\n",
    "\n",
    "x_train_mlh = mlh2mimic_vec.fit_transform(mlh_notes_df['note'])\n",
    "x_test_mimic = mlh2mimic_vec.transform(mimic_notes_df['note'])\n",
    "\n",
    "y_train_mlh = mlh_notes_df['imi_adm_label']\n",
    "y_test_mimic = mimic_notes_df['imi_adm_label']\n",
    "\n",
    "with open(vectordir/'mlh2mimic.pkl', 'wb') as f:\n",
    "  pickle.dump(mlh2mimic_vec, f)\n",
    "  pickle.dump(x_train_mlh, f)\n",
    "  pickle.dump(x_test_mimic, f)\n",
    "  pickle.dump(y_train_mlh, f)\n",
    "  pickle.dump(y_test_mimic, f)"
   ]
  }
 ],
 "metadata": {
  "kernelspec": {
   "display_name": "Python 3",
   "language": "python",
   "name": "python3"
  },
  "language_info": {
   "codemirror_mode": {
    "name": "ipython",
    "version": 3
   },
   "file_extension": ".py",
   "mimetype": "text/x-python",
   "name": "python",
   "nbconvert_exporter": "python",
   "pygments_lexer": "ipython3",
   "version": "3.7.5"
  },
  "toc": {
   "base_numbering": 1,
   "nav_menu": {},
   "number_sections": true,
   "sideBar": true,
   "skip_h1_title": true,
   "title_cell": "Table of Contents",
   "title_sidebar": "Contents",
   "toc_cell": false,
   "toc_position": {},
   "toc_section_display": true,
   "toc_window_display": false
  }
 },
 "nbformat": 4,
 "nbformat_minor": 4
}
