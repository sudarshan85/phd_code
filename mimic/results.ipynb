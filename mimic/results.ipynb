{
 "cells": [
  {
   "cell_type": "markdown",
   "metadata": {},
   "source": [
    "# Analysis of Models using only MIMIC Notes"
   ]
  },
  {
   "cell_type": "markdown",
   "metadata": {},
   "source": [
    "## Imports & Inits"
   ]
  },
  {
   "cell_type": "code",
   "execution_count": 1,
   "metadata": {
    "ExecuteTime": {
     "end_time": "2019-12-19T20:59:38.853487Z",
     "start_time": "2019-12-19T20:59:37.747118Z"
    }
   },
   "outputs": [],
   "source": [
    "%load_ext autoreload\n",
    "%autoreload 2\n",
    "\n",
    "import sys\n",
    "sys.path.append('../')\n",
    "\n",
    "import matplotlib.pyplot as plt\n",
    "import seaborn as sns\n",
    "sns.set_style(\"darkgrid\")\n",
    "%matplotlib inline\n",
    "\n",
    "import pickle\n",
    "import numpy as np\n",
    "import pandas as pd\n",
    "\n",
    "from pathlib import Path\n",
    "from scipy import stats\n",
    "from itertools import combinations\n",
    "from tqdm import tqdm_notebook as tqdm\n",
    "\n",
    "from utils.metrics import BinaryAvgMetrics\n",
    "from utils.plots import *"
   ]
  },
  {
   "cell_type": "code",
   "execution_count": 2,
   "metadata": {
    "ExecuteTime": {
     "end_time": "2019-12-19T20:59:38.877609Z",
     "start_time": "2019-12-19T20:59:38.855227Z"
    }
   },
   "outputs": [],
   "source": [
    "from lr.args import args as lr_args\n",
    "from rf.args import args as rf_args\n",
    "from gbm.args import args as gbm_args"
   ]
  },
  {
   "cell_type": "code",
   "execution_count": 3,
   "metadata": {
    "ExecuteTime": {
     "end_time": "2019-12-19T20:59:38.926897Z",
     "start_time": "2019-12-19T20:59:38.881204Z"
    }
   },
   "outputs": [],
   "source": [
    "s_thresh = {\n",
    "  'LR': lr_args.structured_threshold,\n",
    "  'RF': rf_args.structured_threshold,\n",
    "  'GBM': gbm_args.structured_threshold,\n",
    "}\n",
    "\n",
    "u_thresh = {\n",
    "  'LR': lr_args.unstructured_threshold,\n",
    "  'RF': rf_args.unstructured_threshold,\n",
    "  'GBM': gbm_args.unstructured_threshold,\n",
    "}\n",
    "\n",
    "mm_thresh = {\n",
    "  'LR': lr_args.mm_threshold,\n",
    "  'RF': rf_args.mm_threshold,\n",
    "  'GBM': gbm_args.mm_threshold,\n",
    "}"
   ]
  },
  {
   "cell_type": "code",
   "execution_count": 4,
   "metadata": {
    "ExecuteTime": {
     "end_time": "2019-12-19T20:59:38.962545Z",
     "start_time": "2019-12-19T20:59:38.929361Z"
    }
   },
   "outputs": [],
   "source": [
    "path = Path('data')\n",
    "workdir = path/'workdir/'\n",
    "figdir = workdir/'figures'"
   ]
  },
  {
   "cell_type": "markdown",
   "metadata": {
    "heading_collapsed": true
   },
   "source": [
    "## Functions"
   ]
  },
  {
   "cell_type": "code",
   "execution_count": 12,
   "metadata": {
    "ExecuteTime": {
     "end_time": "2019-12-19T21:00:56.839138Z",
     "start_time": "2019-12-19T21:00:56.787582Z"
    },
    "hidden": true
   },
   "outputs": [],
   "source": [
    "def get_mean_tprs(bams, base_fpr):\n",
    "  mean_tprs = {}  \n",
    "  for model, bam in bams.items():\n",
    "    tprs = []  \n",
    "    for i, (targs, probs) in enumerate(zip(bam.targs, bam.pos_probs)):\n",
    "      fpr, tpr, _ = roc_curve(targs, probs)\n",
    "      tpr = interp(base_fpr, fpr, tpr)\n",
    "      tpr[0] = 0.0\n",
    "      tprs.append(tpr)\n",
    "\n",
    "    tprs = np.array(tprs)\n",
    "    mean_tprs[model] = tprs.mean(axis=0)\n",
    "    \n",
    "  return mean_tprs"
   ]
  },
  {
   "cell_type": "code",
   "execution_count": null,
   "metadata": {
    "ExecuteTime": {
     "end_time": "2019-12-19T19:39:42.883166Z",
     "start_time": "2019-12-19T19:39:42.862187Z"
    },
    "hidden": true
   },
   "outputs": [],
   "source": [
    "def get_ensemble(ensembles, thresh, bams):  \n",
    "  outputs = {}\n",
    "  for ens_model in ensembles:\n",
    "    key = '-'.join(ens_model)\n",
    "    targs = bams[ens_model[0]].targs\n",
    "    avg_thresh = np.array([thresh[model] for model in ens_model]).mean()\n",
    "    max_thresh = max([thresh[model] for model in ens_model])\n",
    "    probs = []\n",
    "    for i in range(len(targs)):\n",
    "      prob = []\n",
    "      for model in ens_model:\n",
    "        prob.append(bams[model].pos_probs[i])\n",
    "      probs.append(np.stack(prob))\n",
    "\n",
    "    avg_probs = [probs.mean(axis=0) for probs in probs]\n",
    "    max_probs = [probs.max(axis=0) for probs in probs]\n",
    "\n",
    "    avg_preds = [(probs > avg_thresh).astype(np.int64) for probs in avg_probs]\n",
    "    max_preds = [(probs > max_thresh).astype(np.int64) for probs in max_probs]\n",
    "    outputs[f'AVG-{key}'] = (targs, avg_preds, avg_probs, avg_thresh)\n",
    "    outputs[f'MAX-{key}'] = (targs, max_preds, max_probs, max_thresh)\n",
    "    \n",
    "  return outputs"
   ]
  },
  {
   "cell_type": "code",
   "execution_count": null,
   "metadata": {
    "ExecuteTime": {
     "end_time": "2019-12-19T19:39:42.904599Z",
     "start_time": "2019-12-19T19:39:42.884234Z"
    },
    "hidden": true
   },
   "outputs": [],
   "source": [
    "def do_ttest(bams, model1, model2, metric):  \n",
    "  if metric == 'sensitivity':\n",
    "    x1 = bams[model1].sensitivities()\n",
    "    x2 = bams[model2].sensitivities()\n",
    "  elif metric == 'specificity':\n",
    "    x1 = bams[model1].specificities()\n",
    "    x2 = bams[model2].specificities()\n",
    "  elif metric == 'ppv':\n",
    "    x1 = bams[model1].ppvs()\n",
    "    x2 = bams[model2].ppvs()\n",
    "  elif metric == 'auroc':\n",
    "    x1 = bams[model1].aurocs()\n",
    "    x2 = bams[model2].aurocs()\n",
    "  elif metric == 'npv':\n",
    "    x1 = bams[model1].npvs()\n",
    "    x2 = bams[model2].npvs()\n",
    "  elif metric == 'f1':    \n",
    "    x1 = bams[model1].f1s()\n",
    "    x2 = bams[model2].f1s()\n",
    "\n",
    "  t, p = stats.ttest_ind(x1, x2)\n",
    "  return np.round(t, 2), max(np.round(p, 2), 0.001)"
   ]
  },
  {
   "cell_type": "markdown",
   "metadata": {
    "heading_collapsed": true
   },
   "source": [
    "## Ensembles"
   ]
  },
  {
   "cell_type": "code",
   "execution_count": null,
   "metadata": {
    "ExecuteTime": {
     "end_time": "2019-12-19T19:41:47.749463Z",
     "start_time": "2019-12-19T19:41:47.701419Z"
    },
    "hidden": true
   },
   "outputs": [],
   "source": [
    "subset = 'u+s'"
   ]
  },
  {
   "cell_type": "code",
   "execution_count": null,
   "metadata": {
    "ExecuteTime": {
     "end_time": "2019-12-19T19:41:48.831865Z",
     "start_time": "2019-12-19T19:41:47.752326Z"
    },
    "hidden": true
   },
   "outputs": [],
   "source": [
    "if subset == 's':\n",
    "  thresh = s_thresh\n",
    "elif subset == 'u':\n",
    "  thresh = u_thresh\n",
    "elif subset == 'u+s':\n",
    "  thresh = mm_thresh\n",
    "\n",
    "models = ['LR', 'RF', 'GBM']\n",
    "bams = {}\n",
    "\n",
    "for model in models:\n",
    "  with open(workdir/model.lower()/f'{subset}_preds.pkl', 'rb') as f:\n",
    "    targs = pickle.load(f)\n",
    "    probs = pickle.load(f)\n",
    "    preds = pickle.load(f)\n",
    "  bams[model] = BinaryAvgMetrics(targs, preds, [prob[:, 1] for prob in probs])"
   ]
  },
  {
   "cell_type": "code",
   "execution_count": null,
   "metadata": {
    "ExecuteTime": {
     "end_time": "2019-12-19T19:41:48.853801Z",
     "start_time": "2019-12-19T19:41:48.833688Z"
    },
    "hidden": true
   },
   "outputs": [],
   "source": [
    "# ens_models = [\n",
    "#   ['lr', 'rf'],\n",
    "#   ['lr', 'gbm'],\n",
    "#   ['rf', 'gbm'],  \n",
    "#   ['lr', 'rf', 'gbm'],\n",
    "# ]\n",
    "\n",
    "ens_models = [m for m in sum([list(map(list, combinations(models, i))) for i in range(len(models) + 1)], []) if len(m) > 1]"
   ]
  },
  {
   "cell_type": "code",
   "execution_count": null,
   "metadata": {
    "ExecuteTime": {
     "end_time": "2019-12-19T19:41:51.486772Z",
     "start_time": "2019-12-19T19:41:48.855192Z"
    },
    "hidden": true
   },
   "outputs": [],
   "source": [
    "ensembles = get_ensemble(ens_models, thresh, bams)\n",
    "\n",
    "for model, vals in ensembles.items():\n",
    "  bams[model] = BinaryAvgMetrics(*vals[:-1])  \n",
    "\n",
    "# remove the pair maxes\n",
    "bams.pop('MAX-LR-RF')\n",
    "bams.pop('MAX-LR-GBM')\n",
    "bams.pop('MAX-RF-GBM')\n",
    "bams['AVG-ALL'] = bams.pop('AVG-LR-RF-GBM')\n",
    "bams['MAX-ALL'] = bams.pop('MAX-LR-RF-GBM')"
   ]
  },
  {
   "cell_type": "code",
   "execution_count": null,
   "metadata": {
    "ExecuteTime": {
     "end_time": "2019-12-19T19:41:57.924925Z",
     "start_time": "2019-12-19T19:41:51.488602Z"
    },
    "hidden": true
   },
   "outputs": [],
   "source": [
    "final_metrics = {}\n",
    "\n",
    "for key in bams.keys():\n",
    "  final_metrics[key] = []\n",
    "  for i in range(len(bams[key].get_main_avg_metrics())):\n",
    "    final_metrics[key].append(bams[key].get_main_avg_metrics().iloc[i]['Value'])"
   ]
  },
  {
   "cell_type": "code",
   "execution_count": null,
   "metadata": {
    "ExecuteTime": {
     "end_time": "2019-12-19T19:41:57.948628Z",
     "start_time": "2019-12-19T19:41:57.926411Z"
    },
    "hidden": true
   },
   "outputs": [],
   "source": [
    "final_metrics = pd.DataFrame(final_metrics, index=['sensitivity', 'specificity', 'ppv', 'auroc']).transpose()\n",
    "\n",
    "best_models = pd.DataFrame([(final_metrics[metric].idxmax(), final_metrics[metric].max()) for metric in final_metrics], columns=['model', 'value'], index=['sensitivity', 'specificity', 'ppv', 'auroc'])"
   ]
  },
  {
   "cell_type": "code",
   "execution_count": null,
   "metadata": {
    "ExecuteTime": {
     "end_time": "2019-12-19T19:41:57.967915Z",
     "start_time": "2019-12-19T19:41:57.949705Z"
    },
    "hidden": true
   },
   "outputs": [],
   "source": [
    "models = list(final_metrics.index)\n",
    "metrics = list(final_metrics.columns)"
   ]
  },
  {
   "cell_type": "code",
   "execution_count": null,
   "metadata": {
    "ExecuteTime": {
     "end_time": "2019-12-19T19:42:06.931967Z",
     "start_time": "2019-12-19T19:41:57.969776Z"
    },
    "hidden": true
   },
   "outputs": [],
   "source": [
    "ttests = {}\n",
    "\n",
    "for m1, m2 in combinations(models, 2):  \n",
    "  ttests[f'{m1}:{m2}'] = {}\n",
    "  for metric in metrics:\n",
    "    ttests[f'{m1}:{m2}'][metric] = do_ttest(bams, m1, m2, metric)\n",
    "\n",
    "ttests = pd.DataFrame(ttests).transpose()"
   ]
  },
  {
   "cell_type": "code",
   "execution_count": null,
   "metadata": {
    "ExecuteTime": {
     "end_time": "2019-12-19T19:42:07.359182Z",
     "start_time": "2019-12-19T19:42:06.933616Z"
    },
    "hidden": true
   },
   "outputs": [],
   "source": [
    "pickle.dump(bams, open(workdir/f'{subset}_bams.pkl', 'wb'))\n",
    "final_metrics.to_csv(workdir/f'{subset}_metrics.csv', float_format='%.3f')\n",
    "best_models.to_csv(workdir/f'{subset}_best_models.csv', float_format='%.3f')\n",
    "ttests.to_csv(workdir/f'{subset}_ttests.csv')"
   ]
  },
  {
   "cell_type": "markdown",
   "metadata": {
    "heading_collapsed": true
   },
   "source": [
    "## Results"
   ]
  },
  {
   "cell_type": "code",
   "execution_count": null,
   "metadata": {
    "ExecuteTime": {
     "end_time": "2019-12-19T19:42:26.522903Z",
     "start_time": "2019-12-19T19:42:26.298528Z"
    },
    "hidden": true
   },
   "outputs": [],
   "source": [
    "subsets = ['s', 'u', 'u+s']\n",
    "ptr = iter(subsets)\n",
    "\n",
    "best_all = {}"
   ]
  },
  {
   "cell_type": "markdown",
   "metadata": {
    "hidden": true
   },
   "source": [
    "### Best Models"
   ]
  },
  {
   "cell_type": "code",
   "execution_count": null,
   "metadata": {
    "ExecuteTime": {
     "end_time": "2019-12-19T19:43:31.073776Z",
     "start_time": "2019-12-19T19:43:31.026234Z"
    },
    "hidden": true
   },
   "outputs": [],
   "source": [
    "subset = next(ptr)\n",
    "best_all[subset] = {}\n",
    "print(subset)"
   ]
  },
  {
   "cell_type": "code",
   "execution_count": null,
   "metadata": {
    "ExecuteTime": {
     "end_time": "2019-12-19T19:43:31.239947Z",
     "start_time": "2019-12-19T19:43:31.076635Z"
    },
    "hidden": true
   },
   "outputs": [],
   "source": [
    "bams = pickle.load(open(workdir/f'{subset}_bams.pkl', 'rb'))\n",
    "final_metrics = pd.read_csv(workdir/f'{subset}_metrics.csv', index_col=0)\n",
    "best_models = pd.read_csv(workdir/f'{subset}_best_models.csv', index_col=0)\n",
    "ttests = pd.read_csv(workdir/f'{subset}_ttests.csv', index_col=0)\n",
    "\n",
    "best_models.reset_index(inplace=True)\n",
    "best_models"
   ]
  },
  {
   "cell_type": "code",
   "execution_count": null,
   "metadata": {
    "ExecuteTime": {
     "end_time": "2019-12-19T19:43:31.290985Z",
     "start_time": "2019-12-19T19:43:31.269666Z"
    },
    "hidden": true
   },
   "outputs": [],
   "source": [
    "for i, row in best_models.iterrows():\n",
    "  if i > 3: break\n",
    "  best_all[subset][row['index']] = (row['model'], row['value'])"
   ]
  },
  {
   "cell_type": "markdown",
   "metadata": {
    "hidden": true
   },
   "source": [
    "### Best ttests"
   ]
  },
  {
   "cell_type": "code",
   "execution_count": null,
   "metadata": {
    "ExecuteTime": {
     "end_time": "2019-12-19T20:05:12.848649Z",
     "start_time": "2019-12-19T20:05:12.245579Z"
    },
    "hidden": true
   },
   "outputs": [],
   "source": [
    "s_bams = pickle.load(open(workdir/f's_bams.pkl', 'rb'))\n",
    "u_bams = pickle.load(open(workdir/f'u_bams.pkl', 'rb'))\n",
    "us_bams = pickle.load(open(workdir/f'u+s_bams.pkl', 'rb'))\n",
    "\n",
    "mets = ['sensitivity', 'specificity', 'ppv', 'auroc']\n",
    "itr = iter(mets)"
   ]
  },
  {
   "cell_type": "code",
   "execution_count": null,
   "metadata": {
    "ExecuteTime": {
     "end_time": "2019-12-19T20:12:18.411392Z",
     "start_time": "2019-12-19T20:12:17.829728Z"
    },
    "hidden": true
   },
   "outputs": [],
   "source": [
    "met = next(itr)\n",
    "print(met)\n",
    "\n",
    "if met == 'sensitivity':\n",
    "  s_met = s_bams[best_all['s'][met][0]].sensitivities()\n",
    "  u_met = u_bams[best_all['u'][met][0]].sensitivities()\n",
    "  us_met = us_bams[best_all['u+s'][met][0]].sensitivities()\n",
    "elif met == 'specificity':\n",
    "  s_met = s_bams[best_all['s'][met][0]].specificities()\n",
    "  u_met = u_bams[best_all['u'][met][0]].specificities()\n",
    "  us_met = us_bams[best_all['u+s'][met][0]].specificities()\n",
    "if met == 'ppv':\n",
    "  s_met = s_bams[best_all['s'][met][0]].ppvs()\n",
    "  u_met = u_bams[best_all['u'][met][0]].ppvs()\n",
    "  us_met = us_bams[best_all['u+s'][met][0]].ppvs()\n",
    "if met == 'auroc':\n",
    "  s_met = s_bams[best_all['s'][met][0]].aurocs()\n",
    "  u_met = u_bams[best_all['u'][met][0]].aurocs()\n",
    "  us_met = us_bams[best_all['u+s'][met][0]].aurocs()\n",
    "\n",
    "_, p_s_u = stats.ttest_ind(s_met, u_met)\n",
    "_, p_u_us = stats.ttest_ind(u_met, us_met)\n",
    "_, p_s_us = stats.ttest_ind(s_met, us_met)\n",
    "\n",
    "print(f\"p (structured - unstructured): {max(p_s_u, 0.001)}\")\n",
    "print(f\"p (unstructured - mm): {max(p_u_us, 0.001)}\")\n",
    "print(f\"p (structured - mm): {max(p_s_us, 0.001)}\")"
   ]
  },
  {
   "cell_type": "markdown",
   "metadata": {},
   "source": [
    "## Box Plot"
   ]
  },
  {
   "cell_type": "code",
   "execution_count": 5,
   "metadata": {
    "ExecuteTime": {
     "end_time": "2019-12-19T21:00:25.339349Z",
     "start_time": "2019-12-19T21:00:21.020028Z"
    }
   },
   "outputs": [],
   "source": [
    "plot_dfs = []\n",
    "for subset, label in [('s', 'Vitals (S)'), ('u', 'Notes (U)'), ('u+s', 'Notes & Vitals (U+S)')]:\n",
    "  bams = pickle.load(open(workdir/f'{subset}_bams.pkl', 'rb'))\n",
    "  final_metrics = pd.read_csv(workdir/f'{subset}_metrics.csv', index_col=0)\n",
    "  best_models = pd.read_csv(workdir/f'{subset}_best_models.csv', index_col=0)\n",
    "  ttests = pd.read_csv(workdir/f'{subset}_ttests.csv', index_col=0)\n",
    "\n",
    "  metrics = {}\n",
    "  for md in bams.keys():\n",
    "    df = pd.DataFrame()\n",
    "    for k, m in bams[md].yield_metrics():\n",
    "      df[k] = m\n",
    "    df['Model'] = md\n",
    "    cols = list(df.columns)\n",
    "    cols = [cols[-1]] + cols[:-1]\n",
    "    df = df[cols]\n",
    "    metrics[md] = df\n",
    "\n",
    "  plot_df = pd.concat(metrics.values())\n",
    "  plot_df['Label'] = label\n",
    "  plot_dfs.append(plot_df)"
   ]
  },
  {
   "cell_type": "code",
   "execution_count": 6,
   "metadata": {
    "ExecuteTime": {
     "end_time": "2019-12-19T21:00:26.270419Z",
     "start_time": "2019-12-19T21:00:26.219787Z"
    }
   },
   "outputs": [
    {
     "data": {
      "text/plain": [
       "(2400, 8)"
      ]
     },
     "execution_count": 6,
     "metadata": {},
     "output_type": "execute_result"
    }
   ],
   "source": [
    "plot_df = pd.concat(plot_dfs)\n",
    "plot_df[['Sensitivity', 'Specificity', 'PPV', 'AUC']] = plot_df[['Sensitivity', 'Specificity', 'PPV', 'AUC']] * 100\n",
    "plot_df.shape"
   ]
  },
  {
   "cell_type": "code",
   "execution_count": 7,
   "metadata": {
    "ExecuteTime": {
     "end_time": "2019-12-19T21:00:35.849609Z",
     "start_time": "2019-12-19T21:00:35.803392Z"
    }
   },
   "outputs": [],
   "source": [
    "mets = ['Sensitivity', 'Specificity', 'PPV', 'AUC']\n",
    "met_itr = iter(mets)"
   ]
  },
  {
   "cell_type": "code",
   "execution_count": 11,
   "metadata": {
    "ExecuteTime": {
     "end_time": "2019-12-19T21:00:48.789002Z",
     "start_time": "2019-12-19T21:00:48.099420Z"
    }
   },
   "outputs": [
    {
     "data": {
      "image/png": "[encoded data removed]",
      "text/plain": [
       "<Figure size 1440x720 with 1 Axes>"
      ]
     },
     "metadata": {
      "needs_background": "light"
     },
     "output_type": "display_data"
    }
   ],
   "source": [
    "met = next(met_itr)\n",
    "\n",
    "fig, ax = plt.subplots(1,1,figsize=(20,10))\n",
    "sns.boxplot(x='Model', y=met, hue='Label', data=plot_df, ax=ax)\n",
    "handles, labels = ax.get_legend_handles_labels()\n",
    "ax.legend(handles=handles[0:], labels=labels[0:])\n",
    "# for i in range(7): plt.axvline(x=i+0.5, ls='-.', color='black')\n",
    "ax.set_xlabel('')\n",
    "\n",
    "fig.savefig(figdir/f'{met.lower()}_box_plot.pdf', dpi=300, box_inches='tight', pad_inches=0)"
   ]
  },
  {
   "cell_type": "markdown",
   "metadata": {},
   "source": [
    "## Mean AUC"
   ]
  },
  {
   "cell_type": "code",
   "execution_count": 26,
   "metadata": {
    "ExecuteTime": {
     "end_time": "2019-12-19T21:03:29.485023Z",
     "start_time": "2019-12-19T21:03:29.227527Z"
    }
   },
   "outputs": [],
   "source": [
    "subsets = ['s', 'u', 'u+s']\n",
    "sub_itr = iter(subsets)"
   ]
  },
  {
   "cell_type": "code",
   "execution_count": 41,
   "metadata": {
    "ExecuteTime": {
     "end_time": "2019-12-19T21:04:04.784275Z",
     "start_time": "2019-12-19T21:04:04.593425Z"
    }
   },
   "outputs": [],
   "source": [
    "subset = next(sub_itr)\n",
    "\n",
    "bams = pickle.load(open(workdir/f'{subset}_bams.pkl', 'rb'))\n",
    "final_metrics = pd.read_csv(workdir/f'{subset}_metrics.csv', index_col=0)\n",
    "best_models = pd.read_csv(workdir/f'{subset}_best_models.csv', index_col=0)\n",
    "ttests = pd.read_csv(workdir/f'{subset}_ttests.csv', index_col=0)\n",
    "\n",
    "dess = ['main_', 'all_']\n",
    "des_itr = iter(dess)"
   ]
  },
  {
   "cell_type": "code",
   "execution_count": 45,
   "metadata": {
    "ExecuteTime": {
     "end_time": "2019-12-19T21:04:13.298924Z",
     "start_time": "2019-12-19T21:04:11.910659Z"
    }
   },
   "outputs": [
    {
     "data": {
      "text/plain": [
       "['LR (0.768)',\n",
       " 'RF (0.77)',\n",
       " 'GBM (0.775)',\n",
       " 'AVG-LR-RF (0.777)',\n",
       " 'AVG-LR-GBM (0.78)',\n",
       " 'AVG-RF-GBM (0.778)',\n",
       " 'AVG-ALL (0.781)',\n",
       " 'MAX-ALL (0.776)']"
      ]
     },
     "execution_count": 45,
     "metadata": {},
     "output_type": "execute_result"
    }
   ],
   "source": [
    "des = next(des_itr)\n",
    "\n",
    "if des == 'main_':\n",
    "  plot_bams = {k: bams[k] for k in bams.keys() if '-' not in k}\n",
    "  des = ''  \n",
    "  names = plot_bams.keys()\n",
    "  aucs = [model.auroc_avg() for _, model in plot_bams.items()]\n",
    "  legends = [f'{model} ({auc})' for model, auc in zip(names, aucs)]\n",
    "elif des == 'all_':\n",
    "  plot_bams = bams\n",
    "  names = plot_bams.keys()\n",
    "  aucs = [model.auroc_avg() for _, model in plot_bams.items()]\n",
    "  legends = [f'{model} ({auc})' for model, auc in zip(names, aucs)]\n",
    "  \n",
    "legends  "
   ]
  },
  {
   "cell_type": "code",
   "execution_count": 46,
   "metadata": {
    "ExecuteTime": {
     "end_time": "2019-12-19T21:04:14.337025Z",
     "start_time": "2019-12-19T21:04:13.300271Z"
    }
   },
   "outputs": [
    {
     "data": {
      "text/plain": [
       "<matplotlib.legend.Legend at 0x7fbd0df504d0>"
      ]
     },
     "execution_count": 46,
     "metadata": {},
     "output_type": "execute_result"
    },
    {
     "data": {
      "image/png": "[encoded data removed]",
      "text/plain": [
       "<Figure size 792x576 with 1 Axes>"
      ]
     },
     "metadata": {
      "needs_background": "light"
     },
     "output_type": "display_data"
    }
   ],
   "source": [
    "base_fpr = np.linspace(0, 1, 100)\n",
    "mean_tprs = get_mean_tprs(plot_bams, base_fpr)\n",
    "\n",
    "fig, ax = plt.subplots(1, 1, figsize=(11, 8))\n",
    "for i, (model, mean_tpr) in enumerate(mean_tprs.items()):\n",
    "  ax.plot(base_fpr, mean_tpr)\n",
    "ax.plot([0, 1], [0, 1], linestyle=':')  \n",
    "ax.grid(b=True, which='major', color='#d3d3d3', linewidth=1.0)\n",
    "ax.grid(b=True, which='minor', color='#d3d3d3', linewidth=0.5)\n",
    "ax.set_ylabel('Sensitivity')\n",
    "ax.set_xlabel('1 - Specificity')\n",
    "ax.legend(legends)"
   ]
  },
  {
   "cell_type": "code",
   "execution_count": 47,
   "metadata": {
    "ExecuteTime": {
     "end_time": "2019-12-19T21:04:16.348629Z",
     "start_time": "2019-12-19T21:04:16.201418Z"
    }
   },
   "outputs": [],
   "source": [
    "fig.savefig(figdir/f'{subset}_{des}mean_auc.pdf', dpi=300)"
   ]
  }
 ],
 "metadata": {
  "kernelspec": {
   "display_name": "Python 3",
   "language": "python",
   "name": "python3"
  },
  "language_info": {
   "codemirror_mode": {
    "name": "ipython",
    "version": 3
   },
   "file_extension": ".py",
   "mimetype": "text/x-python",
   "name": "python",
   "nbconvert_exporter": "python",
   "pygments_lexer": "ipython3",
   "version": "3.7.5"
  },
  "toc": {
   "base_numbering": 1,
   "nav_menu": {},
   "number_sections": true,
   "sideBar": true,
   "skip_h1_title": true,
   "title_cell": "Table of Contents",
   "title_sidebar": "Contents",
   "toc_cell": false,
   "toc_position": {},
   "toc_section_display": true,
   "toc_window_display": false
  }
 },
 "nbformat": 4,
 "nbformat_minor": 2
}
