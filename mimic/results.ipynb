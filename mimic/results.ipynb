{
 "cells": [
  {
   "cell_type": "markdown",
   "metadata": {},
   "source": [
    "# Analysis of Models using only MIMIC Notes"
   ]
  },
  {
   "cell_type": "markdown",
   "metadata": {},
   "source": [
    "## Imports & Inits"
   ]
  },
  {
   "cell_type": "code",
   "execution_count": 1,
   "metadata": {
    "ExecuteTime": {
     "end_time": "2019-12-04T12:31:32.962465Z",
     "start_time": "2019-12-04T12:31:31.327913Z"
    }
   },
   "outputs": [],
   "source": [
    "%load_ext autoreload\n",
    "%autoreload 2\n",
    "\n",
    "import sys\n",
    "sys.path.append('../')\n",
    "\n",
    "import matplotlib.pyplot as plt\n",
    "import seaborn as sns\n",
    "sns.set_style(\"darkgrid\")\n",
    "%matplotlib inline\n",
    "\n",
    "import pickle\n",
    "import numpy as np\n",
    "import pandas as pd\n",
    "\n",
    "from pathlib import Path\n",
    "from scipy import stats\n",
    "from itertools import combinations\n",
    "from tqdm import tqdm_notebook as tqdm\n",
    "\n",
    "from utils.metrics import BinaryAvgMetrics\n",
    "from utils.plots import *"
   ]
  },
  {
   "cell_type": "code",
   "execution_count": 2,
   "metadata": {
    "ExecuteTime": {
     "end_time": "2019-12-04T12:31:32.985736Z",
     "start_time": "2019-12-04T12:31:32.964461Z"
    }
   },
   "outputs": [],
   "source": [
    "from lr.full_common_args import args as lr_args\n",
    "from rf.full_common_args import args as rf_args\n",
    "from gbm.full_common_args import args as gbm_args\n",
    "\n",
    "notes_vital_thresh = {\n",
    "  'lr': lr_args.notes_common_vital_threshold,\n",
    "  'rf': rf_args.notes_common_vital_threshold,\n",
    "  'gbm': gbm_args.notes_common_vital_threshold\n",
    "}\n",
    "\n",
    "notes_all_thresh = {\n",
    "  'lr': lr_args.notes_common_all_threshold,\n",
    "  'rf': rf_args.notes_common_all_threshold,\n",
    "  'gbm': gbm_args.notes_common_all_threshold\n",
    "}\n",
    "\n",
    "full_vital_thresh = {\n",
    "  'lr': lr_args.full_common_vital_threshold,\n",
    "  'rf': rf_args.full_common_vital_threshold,\n",
    "  'gbm': gbm_args.full_common_vital_threshold\n",
    "}\n",
    "\n",
    "full_all_thresh = {\n",
    "  'lr': lr_args.full_common_all_threshold,\n",
    "  'rf': rf_args.full_common_all_threshold,\n",
    "  'gbm': gbm_args.full_common_all_threshold\n",
    "}"
   ]
  },
  {
   "cell_type": "code",
   "execution_count": 3,
   "metadata": {
    "ExecuteTime": {
     "end_time": "2019-12-04T12:31:33.003948Z",
     "start_time": "2019-12-04T12:31:32.987576Z"
    }
   },
   "outputs": [],
   "source": [
    "path = Path('data')\n",
    "cohort = 'full_common'\n",
    "workdir = path/f'workdir/{cohort}'\n",
    "figdir = workdir/'figdir'"
   ]
  },
  {
   "cell_type": "markdown",
   "metadata": {},
   "source": [
    "## Functions"
   ]
  },
  {
   "cell_type": "code",
   "execution_count": 4,
   "metadata": {
    "ExecuteTime": {
     "end_time": "2019-12-03T13:03:57.125152Z",
     "start_time": "2019-12-03T13:03:57.104416Z"
    }
   },
   "outputs": [],
   "source": [
    "def get_ensemble(ensembles, thresh, bams):  \n",
    "  outputs = {}\n",
    "  for ens_model in ensembles:\n",
    "    key = '-'.join(ens_model)\n",
    "    targs = bams[ens_model[0]].targs\n",
    "    avg_thresh = np.array([thresh[model] for model in ens_model]).mean()\n",
    "    max_thresh = max([thresh[model] for model in ens_model])\n",
    "    probs = []\n",
    "    for i in range(len(targs)):\n",
    "      prob = []\n",
    "      for model in ens_model:\n",
    "        prob.append(bams[model].pos_probs[i])\n",
    "      probs.append(np.stack(prob))\n",
    "\n",
    "    avg_probs = [probs.mean(axis=0) for probs in probs]\n",
    "    max_probs = [probs.max(axis=0) for probs in probs]\n",
    "\n",
    "    avg_preds = [(probs > avg_thresh).astype(np.int64) for probs in avg_probs]\n",
    "    max_preds = [(probs > max_thresh).astype(np.int64) for probs in max_probs]\n",
    "    outputs[f'avg-{key}'] = (targs, avg_preds, avg_probs, avg_thresh)\n",
    "    outputs[f'max-{key}'] = (targs, max_preds, max_probs, max_thresh)\n",
    "    \n",
    "  return outputs"
   ]
  },
  {
   "cell_type": "code",
   "execution_count": 13,
   "metadata": {
    "ExecuteTime": {
     "end_time": "2019-12-03T13:04:38.499479Z",
     "start_time": "2019-12-03T13:04:38.447534Z"
    }
   },
   "outputs": [],
   "source": [
    "def do_ttest(bams, model1, model2, metric):  \n",
    "  if metric == 'sensitivity':\n",
    "    x1 = bams[model1].sensitivities()\n",
    "    x2 = bams[model2].sensitivities()\n",
    "  elif metric == 'specificity':\n",
    "    x1 = bams[model1].specificities()\n",
    "    x2 = bams[model2].specificities()\n",
    "  elif metric == 'ppv':\n",
    "    x1 = bams[model1].ppvs()\n",
    "    x2 = bams[model2].ppvs()\n",
    "  elif metric == 'auroc':\n",
    "    x1 = bams[model1].aurocs()\n",
    "    x2 = bams[model2].aurocs()\n",
    "  elif metric == 'npv':\n",
    "    x1 = bams[model1].npvs()\n",
    "    x2 = bams[model2].npvs()\n",
    "  elif metric == 'f1':    \n",
    "    x1 = bams[model1].f1s()\n",
    "    x2 = bams[model2].f1s()\n",
    "\n",
    "  t, p = stats.ttest_ind(x1, x2)\n",
    "  return np.round(t, 2), max(np.round(p, 2), 0.001)"
   ]
  },
  {
   "cell_type": "markdown",
   "metadata": {},
   "source": [
    "## Ensembles"
   ]
  },
  {
   "cell_type": "code",
   "execution_count": 16,
   "metadata": {
    "ExecuteTime": {
     "end_time": "2019-12-03T13:05:07.531451Z",
     "start_time": "2019-12-03T13:05:07.484915Z"
    }
   },
   "outputs": [],
   "source": [
    "prefix = 'full_common_vital'\n",
    "\n",
    "if prefix == 'notes_common_vital':\n",
    "  thresh = notes_vital_thresh\n",
    "elif prefix == 'full_common_vital':\n",
    "  thresh = full_vital_thresh"
   ]
  },
  {
   "cell_type": "code",
   "execution_count": 17,
   "metadata": {
    "ExecuteTime": {
     "end_time": "2019-12-03T13:05:14.445708Z",
     "start_time": "2019-12-03T13:05:13.296866Z"
    }
   },
   "outputs": [],
   "source": [
    "models = ['lr', 'rf', 'gbm']\n",
    "bams = {}\n",
    "\n",
    "for model in models:\n",
    "  with open(workdir/model/f'{prefix}_preds.pkl', 'rb') as f:\n",
    "    targs = pickle.load(f)\n",
    "    probs = pickle.load(f)\n",
    "    preds = pickle.load(f)\n",
    "  bams[model] = BinaryAvgMetrics(targs, preds, [prob[:, 1] for prob in probs])"
   ]
  },
  {
   "cell_type": "code",
   "execution_count": 18,
   "metadata": {
    "ExecuteTime": {
     "end_time": "2019-12-03T13:05:14.465811Z",
     "start_time": "2019-12-03T13:05:14.447360Z"
    }
   },
   "outputs": [],
   "source": [
    "# ens_models = [\n",
    "#   ['lr', 'rf'],\n",
    "#   ['lr', 'gbm'],\n",
    "#   ['rf', 'gbm'],  \n",
    "#   ['lr', 'rf', 'gbm'],\n",
    "# ]\n",
    "\n",
    "ens_models = [m for m in sum([list(map(list, combinations(models, i))) for i in range(len(models) + 1)], []) if len(m) > 1]"
   ]
  },
  {
   "cell_type": "code",
   "execution_count": 19,
   "metadata": {
    "ExecuteTime": {
     "end_time": "2019-12-03T13:05:17.120703Z",
     "start_time": "2019-12-03T13:05:14.467615Z"
    }
   },
   "outputs": [],
   "source": [
    "ensembles = get_ensemble(ens_models, thresh, bams)\n",
    "\n",
    "for model, vals in ensembles.items():\n",
    "  bams[model] = BinaryAvgMetrics(*vals[:-1])  "
   ]
  },
  {
   "cell_type": "markdown",
   "metadata": {},
   "source": [
    "### Checkpoint"
   ]
  },
  {
   "cell_type": "code",
   "execution_count": 20,
   "metadata": {
    "ExecuteTime": {
     "end_time": "2019-12-03T13:05:29.025102Z",
     "start_time": "2019-12-03T13:05:17.122717Z"
    }
   },
   "outputs": [],
   "source": [
    "final_metrics = {}\n",
    "\n",
    "for key in bams.keys():\n",
    "  final_metrics[key] = []\n",
    "  for i in range(len(bams[key].get_avg_metrics())):\n",
    "    final_metrics[key].append(bams[key].get_avg_metrics().iloc[i]['Value'])"
   ]
  },
  {
   "cell_type": "code",
   "execution_count": 21,
   "metadata": {
    "ExecuteTime": {
     "end_time": "2019-12-03T13:05:29.050190Z",
     "start_time": "2019-12-03T13:05:29.026857Z"
    }
   },
   "outputs": [],
   "source": [
    "final_metrics = pd.DataFrame(final_metrics, index=['sensitivity', 'specificity', 'ppv', 'auroc', 'npv', 'f1']).transpose()\n",
    "\n",
    "best_models = pd.DataFrame([(final_metrics[metric].idxmax(), final_metrics[metric].max()) for metric in final_metrics], columns=['model', 'value'], index=['sensitivity', 'specificity', 'ppv', 'auroc', 'npv', 'f1'])"
   ]
  },
  {
   "cell_type": "code",
   "execution_count": 22,
   "metadata": {
    "ExecuteTime": {
     "end_time": "2019-12-03T13:05:29.077716Z",
     "start_time": "2019-12-03T13:05:29.051315Z"
    }
   },
   "outputs": [
    {
     "data": {
      "text/html": [
       "<div>\n",
       "<style scoped>\n",
       "    .dataframe tbody tr th:only-of-type {\n",
       "        vertical-align: middle;\n",
       "    }\n",
       "\n",
       "    .dataframe tbody tr th {\n",
       "        vertical-align: top;\n",
       "    }\n",
       "\n",
       "    .dataframe thead th {\n",
       "        text-align: right;\n",
       "    }\n",
       "</style>\n",
       "<table border=\"1\" class=\"dataframe\">\n",
       "  <thead>\n",
       "    <tr style=\"text-align: right;\">\n",
       "      <th></th>\n",
       "      <th>sensitivity</th>\n",
       "      <th>specificity</th>\n",
       "      <th>ppv</th>\n",
       "      <th>auroc</th>\n",
       "      <th>npv</th>\n",
       "      <th>f1</th>\n",
       "    </tr>\n",
       "  </thead>\n",
       "  <tbody>\n",
       "    <tr>\n",
       "      <th>lr</th>\n",
       "      <td>0.824</td>\n",
       "      <td>0.574</td>\n",
       "      <td>0.359</td>\n",
       "      <td>0.768</td>\n",
       "      <td>0.918</td>\n",
       "      <td>0.500</td>\n",
       "    </tr>\n",
       "    <tr>\n",
       "      <th>rf</th>\n",
       "      <td>0.822</td>\n",
       "      <td>0.583</td>\n",
       "      <td>0.364</td>\n",
       "      <td>0.769</td>\n",
       "      <td>0.918</td>\n",
       "      <td>0.504</td>\n",
       "    </tr>\n",
       "    <tr>\n",
       "      <th>gbm</th>\n",
       "      <td>0.830</td>\n",
       "      <td>0.576</td>\n",
       "      <td>0.362</td>\n",
       "      <td>0.775</td>\n",
       "      <td>0.921</td>\n",
       "      <td>0.504</td>\n",
       "    </tr>\n",
       "    <tr>\n",
       "      <th>avg-lr-rf</th>\n",
       "      <td>0.834</td>\n",
       "      <td>0.573</td>\n",
       "      <td>0.362</td>\n",
       "      <td>0.777</td>\n",
       "      <td>0.922</td>\n",
       "      <td>0.504</td>\n",
       "    </tr>\n",
       "    <tr>\n",
       "      <th>max-lr-rf</th>\n",
       "      <td>0.831</td>\n",
       "      <td>0.569</td>\n",
       "      <td>0.359</td>\n",
       "      <td>0.770</td>\n",
       "      <td>0.920</td>\n",
       "      <td>0.501</td>\n",
       "    </tr>\n",
       "    <tr>\n",
       "      <th>avg-lr-gbm</th>\n",
       "      <td>0.840</td>\n",
       "      <td>0.572</td>\n",
       "      <td>0.363</td>\n",
       "      <td>0.780</td>\n",
       "      <td>0.925</td>\n",
       "      <td>0.506</td>\n",
       "    </tr>\n",
       "    <tr>\n",
       "      <th>max-lr-gbm</th>\n",
       "      <td>0.878</td>\n",
       "      <td>0.511</td>\n",
       "      <td>0.342</td>\n",
       "      <td>0.776</td>\n",
       "      <td>0.935</td>\n",
       "      <td>0.492</td>\n",
       "    </tr>\n",
       "    <tr>\n",
       "      <th>avg-rf-gbm</th>\n",
       "      <td>0.834</td>\n",
       "      <td>0.578</td>\n",
       "      <td>0.364</td>\n",
       "      <td>0.778</td>\n",
       "      <td>0.923</td>\n",
       "      <td>0.507</td>\n",
       "    </tr>\n",
       "    <tr>\n",
       "      <th>max-rf-gbm</th>\n",
       "      <td>0.834</td>\n",
       "      <td>0.573</td>\n",
       "      <td>0.361</td>\n",
       "      <td>0.775</td>\n",
       "      <td>0.922</td>\n",
       "      <td>0.504</td>\n",
       "    </tr>\n",
       "    <tr>\n",
       "      <th>avg-lr-rf-gbm</th>\n",
       "      <td>0.842</td>\n",
       "      <td>0.574</td>\n",
       "      <td>0.364</td>\n",
       "      <td>0.781</td>\n",
       "      <td>0.926</td>\n",
       "      <td>0.508</td>\n",
       "    </tr>\n",
       "    <tr>\n",
       "      <th>max-lr-rf-gbm</th>\n",
       "      <td>0.879</td>\n",
       "      <td>0.510</td>\n",
       "      <td>0.342</td>\n",
       "      <td>0.776</td>\n",
       "      <td>0.935</td>\n",
       "      <td>0.492</td>\n",
       "    </tr>\n",
       "  </tbody>\n",
       "</table>\n",
       "</div>"
      ],
      "text/plain": [
       "               sensitivity  specificity    ppv  auroc    npv     f1\n",
       "lr             0.824        0.574        0.359  0.768  0.918  0.500\n",
       "rf             0.822        0.583        0.364  0.769  0.918  0.504\n",
       "gbm            0.830        0.576        0.362  0.775  0.921  0.504\n",
       "avg-lr-rf      0.834        0.573        0.362  0.777  0.922  0.504\n",
       "max-lr-rf      0.831        0.569        0.359  0.770  0.920  0.501\n",
       "avg-lr-gbm     0.840        0.572        0.363  0.780  0.925  0.506\n",
       "max-lr-gbm     0.878        0.511        0.342  0.776  0.935  0.492\n",
       "avg-rf-gbm     0.834        0.578        0.364  0.778  0.923  0.507\n",
       "max-rf-gbm     0.834        0.573        0.361  0.775  0.922  0.504\n",
       "avg-lr-rf-gbm  0.842        0.574        0.364  0.781  0.926  0.508\n",
       "max-lr-rf-gbm  0.879        0.510        0.342  0.776  0.935  0.492"
      ]
     },
     "execution_count": 22,
     "metadata": {},
     "output_type": "execute_result"
    }
   ],
   "source": [
    "final_metrics"
   ]
  },
  {
   "cell_type": "code",
   "execution_count": 23,
   "metadata": {
    "ExecuteTime": {
     "end_time": "2019-12-03T13:05:29.098062Z",
     "start_time": "2019-12-03T13:05:29.078986Z"
    }
   },
   "outputs": [
    {
     "data": {
      "text/html": [
       "<div>\n",
       "<style scoped>\n",
       "    .dataframe tbody tr th:only-of-type {\n",
       "        vertical-align: middle;\n",
       "    }\n",
       "\n",
       "    .dataframe tbody tr th {\n",
       "        vertical-align: top;\n",
       "    }\n",
       "\n",
       "    .dataframe thead th {\n",
       "        text-align: right;\n",
       "    }\n",
       "</style>\n",
       "<table border=\"1\" class=\"dataframe\">\n",
       "  <thead>\n",
       "    <tr style=\"text-align: right;\">\n",
       "      <th></th>\n",
       "      <th>model</th>\n",
       "      <th>value</th>\n",
       "    </tr>\n",
       "  </thead>\n",
       "  <tbody>\n",
       "    <tr>\n",
       "      <th>sensitivity</th>\n",
       "      <td>max-lr-rf-gbm</td>\n",
       "      <td>0.879</td>\n",
       "    </tr>\n",
       "    <tr>\n",
       "      <th>specificity</th>\n",
       "      <td>rf</td>\n",
       "      <td>0.583</td>\n",
       "    </tr>\n",
       "    <tr>\n",
       "      <th>ppv</th>\n",
       "      <td>rf</td>\n",
       "      <td>0.364</td>\n",
       "    </tr>\n",
       "    <tr>\n",
       "      <th>auroc</th>\n",
       "      <td>avg-lr-rf-gbm</td>\n",
       "      <td>0.781</td>\n",
       "    </tr>\n",
       "    <tr>\n",
       "      <th>npv</th>\n",
       "      <td>max-lr-gbm</td>\n",
       "      <td>0.935</td>\n",
       "    </tr>\n",
       "    <tr>\n",
       "      <th>f1</th>\n",
       "      <td>avg-lr-rf-gbm</td>\n",
       "      <td>0.508</td>\n",
       "    </tr>\n",
       "  </tbody>\n",
       "</table>\n",
       "</div>"
      ],
      "text/plain": [
       "                     model  value\n",
       "sensitivity  max-lr-rf-gbm  0.879\n",
       "specificity  rf             0.583\n",
       "ppv          rf             0.364\n",
       "auroc        avg-lr-rf-gbm  0.781\n",
       "npv          max-lr-gbm     0.935\n",
       "f1           avg-lr-rf-gbm  0.508"
      ]
     },
     "execution_count": 23,
     "metadata": {},
     "output_type": "execute_result"
    }
   ],
   "source": [
    "best_models"
   ]
  },
  {
   "cell_type": "code",
   "execution_count": 24,
   "metadata": {
    "ExecuteTime": {
     "end_time": "2019-12-03T13:05:29.115474Z",
     "start_time": "2019-12-03T13:05:29.100102Z"
    }
   },
   "outputs": [],
   "source": [
    "models = list(final_metrics.index)\n",
    "metrics = list(final_metrics.columns)"
   ]
  },
  {
   "cell_type": "code",
   "execution_count": 25,
   "metadata": {
    "ExecuteTime": {
     "end_time": "2019-12-03T13:05:46.164336Z",
     "start_time": "2019-12-03T13:05:29.116509Z"
    }
   },
   "outputs": [],
   "source": [
    "ttests = {}\n",
    "\n",
    "for m1, m2 in combinations(models, 2):  \n",
    "  ttests[f'{m1}:{m2}'] = {}\n",
    "  for metric in metrics:\n",
    "    ttests[f'{m1}:{m2}'][metric] = do_ttest(bams, m1, m2, metric)\n",
    "\n",
    "ttests = pd.DataFrame(ttests).transpose()"
   ]
  },
  {
   "cell_type": "code",
   "execution_count": 26,
   "metadata": {
    "ExecuteTime": {
     "end_time": "2019-12-03T13:05:46.604764Z",
     "start_time": "2019-12-03T13:05:46.166479Z"
    }
   },
   "outputs": [],
   "source": [
    "pickle.dump(bams, open(workdir/f'{prefix}_bams.pkl', 'wb'))\n",
    "final_metrics.to_csv(workdir/f'{prefix}_metrics.csv', float_format='%.3f')\n",
    "best_models.to_csv(workdir/f'{prefix}_best_models.csv', float_format='%.3f')\n",
    "ttests.to_csv(workdir/f'{prefix}_ttests.csv')"
   ]
  },
  {
   "cell_type": "markdown",
   "metadata": {},
   "source": [
    "## Results"
   ]
  },
  {
   "cell_type": "code",
   "execution_count": 4,
   "metadata": {
    "ExecuteTime": {
     "end_time": "2019-12-04T12:31:38.637511Z",
     "start_time": "2019-12-04T12:31:38.593200Z"
    }
   },
   "outputs": [],
   "source": [
    "prefixs = ['notes_common_vital', 'full_common_vital']\n",
    "ptr = iter(prefixs)"
   ]
  },
  {
   "cell_type": "code",
   "execution_count": 5,
   "metadata": {
    "ExecuteTime": {
     "end_time": "2019-12-04T12:31:38.673362Z",
     "start_time": "2019-12-04T12:31:38.639929Z"
    }
   },
   "outputs": [],
   "source": [
    "best_all = {}"
   ]
  },
  {
   "cell_type": "markdown",
   "metadata": {},
   "source": [
    "### Best Models"
   ]
  },
  {
   "cell_type": "code",
   "execution_count": 10,
   "metadata": {
    "ExecuteTime": {
     "end_time": "2019-12-04T12:31:44.195703Z",
     "start_time": "2019-12-04T12:31:44.150252Z"
    }
   },
   "outputs": [
    {
     "name": "stdout",
     "output_type": "stream",
     "text": [
      "full_common_vital\n"
     ]
    }
   ],
   "source": [
    "prefix = next(ptr)\n",
    "best_all[prefix] = {}\n",
    "print(prefix)"
   ]
  },
  {
   "cell_type": "code",
   "execution_count": 11,
   "metadata": {
    "ExecuteTime": {
     "end_time": "2019-12-04T12:31:44.436208Z",
     "start_time": "2019-12-04T12:31:44.198381Z"
    }
   },
   "outputs": [],
   "source": [
    "bams = pickle.load(open(workdir/f'{prefix}_bams.pkl', 'rb'))\n",
    "final_metrics = pd.read_csv(workdir/f'{prefix}_metrics.csv', index_col=0)\n",
    "best_models = pd.read_csv(workdir/f'{prefix}_best_models.csv', index_col=0)\n",
    "ttests = pd.read_csv(workdir/f'{prefix}_ttests.csv', index_col=0)\n",
    "\n",
    "bams['avg-all'] = bams.pop('avg-lr-rf-gbm')\n",
    "bams['max-all'] = bams.pop('max-lr-rf-gbm')"
   ]
  },
  {
   "cell_type": "code",
   "execution_count": 12,
   "metadata": {
    "ExecuteTime": {
     "end_time": "2019-12-04T12:31:44.460363Z",
     "start_time": "2019-12-04T12:31:44.437984Z"
    }
   },
   "outputs": [
    {
     "data": {
      "text/html": [
       "<div>\n",
       "<style scoped>\n",
       "    .dataframe tbody tr th:only-of-type {\n",
       "        vertical-align: middle;\n",
       "    }\n",
       "\n",
       "    .dataframe tbody tr th {\n",
       "        vertical-align: top;\n",
       "    }\n",
       "\n",
       "    .dataframe thead th {\n",
       "        text-align: right;\n",
       "    }\n",
       "</style>\n",
       "<table border=\"1\" class=\"dataframe\">\n",
       "  <thead>\n",
       "    <tr style=\"text-align: right;\">\n",
       "      <th></th>\n",
       "      <th>index</th>\n",
       "      <th>model</th>\n",
       "      <th>value</th>\n",
       "    </tr>\n",
       "  </thead>\n",
       "  <tbody>\n",
       "    <tr>\n",
       "      <th>0</th>\n",
       "      <td>sensitivity</td>\n",
       "      <td>max-lr-rf-gbm</td>\n",
       "      <td>0.879</td>\n",
       "    </tr>\n",
       "    <tr>\n",
       "      <th>1</th>\n",
       "      <td>specificity</td>\n",
       "      <td>rf</td>\n",
       "      <td>0.583</td>\n",
       "    </tr>\n",
       "    <tr>\n",
       "      <th>2</th>\n",
       "      <td>ppv</td>\n",
       "      <td>rf</td>\n",
       "      <td>0.364</td>\n",
       "    </tr>\n",
       "    <tr>\n",
       "      <th>3</th>\n",
       "      <td>auroc</td>\n",
       "      <td>avg-lr-rf-gbm</td>\n",
       "      <td>0.781</td>\n",
       "    </tr>\n",
       "    <tr>\n",
       "      <th>4</th>\n",
       "      <td>npv</td>\n",
       "      <td>max-lr-gbm</td>\n",
       "      <td>0.935</td>\n",
       "    </tr>\n",
       "    <tr>\n",
       "      <th>5</th>\n",
       "      <td>f1</td>\n",
       "      <td>avg-lr-rf-gbm</td>\n",
       "      <td>0.508</td>\n",
       "    </tr>\n",
       "  </tbody>\n",
       "</table>\n",
       "</div>"
      ],
      "text/plain": [
       "         index          model  value\n",
       "0  sensitivity  max-lr-rf-gbm  0.879\n",
       "1  specificity  rf             0.583\n",
       "2  ppv          rf             0.364\n",
       "3  auroc        avg-lr-rf-gbm  0.781\n",
       "4  npv          max-lr-gbm     0.935\n",
       "5  f1           avg-lr-rf-gbm  0.508"
      ]
     },
     "execution_count": 12,
     "metadata": {},
     "output_type": "execute_result"
    }
   ],
   "source": [
    "best_models.reset_index(inplace=True)\n",
    "best_models"
   ]
  },
  {
   "cell_type": "code",
   "execution_count": 13,
   "metadata": {
    "ExecuteTime": {
     "end_time": "2019-12-04T12:31:44.480065Z",
     "start_time": "2019-12-04T12:31:44.461377Z"
    }
   },
   "outputs": [],
   "source": [
    "for i, row in best_models.iterrows():\n",
    "  if i > 3: break\n",
    "  best_all[prefix][row['index']] = (row['model'], row['value'])"
   ]
  },
  {
   "cell_type": "markdown",
   "metadata": {},
   "source": [
    "### Best ttests"
   ]
  },
  {
   "cell_type": "code",
   "execution_count": 14,
   "metadata": {
    "ExecuteTime": {
     "end_time": "2019-12-04T12:31:46.275883Z",
     "start_time": "2019-12-04T12:31:46.229743Z"
    }
   },
   "outputs": [
    {
     "data": {
      "text/plain": [
       "{'notes_common_vital': {'sensitivity': ('max-lr-rf-gbm', 0.826),\n",
       "  'specificity': ('gbm', 0.616),\n",
       "  'ppv': ('gbm', 0.37),\n",
       "  'auroc': ('avg-lr-rf-gbm', 0.773)},\n",
       " 'full_common_vital': {'sensitivity': ('max-lr-rf-gbm', 0.879),\n",
       "  'specificity': ('rf', 0.583),\n",
       "  'ppv': ('rf', 0.364),\n",
       "  'auroc': ('avg-lr-rf-gbm', 0.7809999999999999)}}"
      ]
     },
     "execution_count": 14,
     "metadata": {},
     "output_type": "execute_result"
    }
   ],
   "source": [
    "best_all"
   ]
  },
  {
   "cell_type": "code",
   "execution_count": 15,
   "metadata": {
    "ExecuteTime": {
     "end_time": "2019-12-04T12:31:59.554274Z",
     "start_time": "2019-12-04T12:31:59.215029Z"
    }
   },
   "outputs": [],
   "source": [
    "nxbams = pickle.load(open(workdir/f'notes_common_vital_bams.pkl', 'rb'))\n",
    "nvbams = pickle.load(open(workdir/f'full_common_vital_bams.pkl', 'rb'))\n",
    "# nvlbams = pickle.load(open(workdir/f'full_common_all_bams.pkl', 'rb'))"
   ]
  },
  {
   "cell_type": "code",
   "execution_count": 21,
   "metadata": {
    "ExecuteTime": {
     "end_time": "2019-12-04T12:33:50.211493Z",
     "start_time": "2019-12-04T12:33:50.028737Z"
    }
   },
   "outputs": [],
   "source": [
    "mets = ['sensitivity', 'specificity', 'ppv', 'auroc']\n",
    "itr = iter(mets)"
   ]
  },
  {
   "cell_type": "code",
   "execution_count": 25,
   "metadata": {
    "ExecuteTime": {
     "end_time": "2019-12-04T12:33:54.323903Z",
     "start_time": "2019-12-04T12:33:53.874206Z"
    }
   },
   "outputs": [
    {
     "name": "stdout",
     "output_type": "stream",
     "text": [
      "auroc\n"
     ]
    },
    {
     "data": {
      "text/plain": [
       "0.001"
      ]
     },
     "execution_count": 25,
     "metadata": {},
     "output_type": "execute_result"
    }
   ],
   "source": [
    "met = next(itr)\n",
    "print(met)\n",
    "\n",
    "if met == 'sensitivity':\n",
    "  nx = nxbams[best_all['notes_common_vital'][met][0]].sensitivities()\n",
    "  nv = nvbams[best_all['full_common_vital'][met][0]].sensitivities()\n",
    "elif met == 'specificity':\n",
    "  nx = nxbams[best_all['notes_common_vital'][met][0]].specificities()\n",
    "  nv = nvbams[best_all['full_common_vital'][met][0]].specificities()\n",
    "if met == 'ppv':\n",
    "  nx = nxbams[best_all['notes_common_vital'][met][0]].ppvs()\n",
    "  nv = nvbams[best_all['full_common_vital'][met][0]].ppvs()\n",
    "if met == 'auroc':\n",
    "  nx = nxbams[best_all['notes_common_vital'][met][0]].aurocs()\n",
    "  nv = nvbams[best_all['full_common_vital'][met][0]].aurocs()\n",
    "  \n",
    "# nvl = nvlbams[best_all['full_common_all'][met][0]].sensitivities()\n",
    "\n",
    "_, p_nx_nv = stats.ttest_ind(nx, nv)\n",
    "# _, p_nx_nvl = stats.ttest_ind(nx, nvl)\n",
    "# _, p_nv_nvl = stats.ttest_ind(nv, nvl)\n",
    "p_nx_nv = max(np.round(p_nx_nv, 2), 0.001)\n",
    "# p_nx_nvl = max(np.round(p_nx_nvl, 2), 0.001)\n",
    "# p_nv_nvl = max(np.round(p_nv_nvl, 2), 0.001)\n",
    "\n",
    "# p_nx_nv, p_nx_nvl, p_nv_nvl\n",
    "p_nx_nv"
   ]
  },
  {
   "cell_type": "markdown",
   "metadata": {},
   "source": [
    "### Stats"
   ]
  },
  {
   "cell_type": "code",
   "execution_count": null,
   "metadata": {
    "ExecuteTime": {
     "end_time": "2019-11-28T15:02:43.213391Z",
     "start_time": "2019-11-28T15:02:43.165845Z"
    }
   },
   "outputs": [],
   "source": [
    "def get_stats(met):\n",
    "  return {\n",
    "    'min': met.min(),\n",
    "    '25p': np.percentile(met, 25),\n",
    "    'mean': met.mean(),\n",
    "    'median': np.median(met),\n",
    "    '75p': np.percentile(met, 75),\n",
    "    'max': met.max(),\n",
    "  }\n",
    "  return mets.sensitivities().min()"
   ]
  },
  {
   "cell_type": "code",
   "execution_count": null,
   "metadata": {
    "ExecuteTime": {
     "end_time": "2019-11-28T15:34:46.135842Z",
     "start_time": "2019-11-28T15:34:45.869550Z"
    }
   },
   "outputs": [],
   "source": [
    "prefix = next(ptr)\n",
    "print(prefix)"
   ]
  },
  {
   "cell_type": "code",
   "execution_count": null,
   "metadata": {
    "ExecuteTime": {
     "end_time": "2019-11-28T15:34:46.417542Z",
     "start_time": "2019-11-28T15:34:46.139246Z"
    }
   },
   "outputs": [],
   "source": [
    "bams = pickle.load(open(workdir/f'{prefix}_bams.pkl', 'rb'))\n",
    "final_metrics = pd.read_csv(workdir/f'{prefix}_metrics.csv', index_col=0)\n",
    "best_models = pd.read_csv(workdir/f'{prefix}_best_models.csv', index_col=0)\n",
    "ttests = pd.read_csv(workdir/f'{prefix}_ttests.csv', index_col=0)\n",
    "\n",
    "bams['avg-all'] = bams.pop('avg-lr-rf-gbm')\n",
    "bams['max-all'] = bams.pop('max-lr-rf-gbm')"
   ]
  },
  {
   "cell_type": "code",
   "execution_count": null,
   "metadata": {
    "ExecuteTime": {
     "end_time": "2019-11-28T15:34:46.440807Z",
     "start_time": "2019-11-28T15:34:46.419340Z"
    }
   },
   "outputs": [],
   "source": [
    "itr = iter(bams.keys())\n",
    "bams.keys()"
   ]
  },
  {
   "cell_type": "code",
   "execution_count": null,
   "metadata": {
    "ExecuteTime": {
     "end_time": "2019-11-28T15:47:24.017516Z",
     "start_time": "2019-11-28T15:47:23.758845Z"
    }
   },
   "outputs": [],
   "source": [
    "model = next(itr)\n",
    "print(model)"
   ]
  },
  {
   "cell_type": "code",
   "execution_count": null,
   "metadata": {
    "ExecuteTime": {
     "end_time": "2019-11-28T15:47:24.061747Z",
     "start_time": "2019-11-28T15:47:24.020584Z"
    }
   },
   "outputs": [],
   "source": [
    "m = get_stats(bams[model].sensitivities())\n",
    "print(f\"m_min: {m['min']*100:0.1f}\")\n",
    "print(f\"m_25: {m['25p']*100:0.1f}\")\n",
    "print(f\"m_mean: {m['mean']*100:0.1f}\")\n",
    "print(f\"m_median: {m['median']*100:0.1f}\")\n",
    "print(f\"m_75: {m['75p']*100:0.1f}\")\n",
    "print(f\"m_max: {m['max']*100:0.1f}\")"
   ]
  },
  {
   "cell_type": "code",
   "execution_count": null,
   "metadata": {
    "ExecuteTime": {
     "end_time": "2019-11-28T15:47:24.096919Z",
     "start_time": "2019-11-28T15:47:24.064206Z"
    }
   },
   "outputs": [],
   "source": [
    "m = get_stats(bams[model].specificities())\n",
    "print(f\"m_min: {m['min']*100:0.1f}\")\n",
    "print(f\"m_25: {m['25p']*100:0.1f}\")\n",
    "print(f\"m_mean: {m['mean']*100:0.1f}\")\n",
    "print(f\"m_median: {m['median']*100:0.1f}\")\n",
    "print(f\"m_75: {m['75p']*100:0.1f}\")\n",
    "print(f\"m_max: {m['max']*100:0.1f}\")"
   ]
  },
  {
   "cell_type": "code",
   "execution_count": null,
   "metadata": {
    "ExecuteTime": {
     "end_time": "2019-11-28T15:47:24.126368Z",
     "start_time": "2019-11-28T15:47:24.098587Z"
    }
   },
   "outputs": [],
   "source": [
    "m = get_stats(bams[model].ppvs())\n",
    "print(f\"m_min: {m['min']*100:0.1f}\")\n",
    "print(f\"m_25: {m['25p']*100:0.1f}\")\n",
    "print(f\"m_mean: {m['mean']*100:0.1f}\")\n",
    "print(f\"m_median: {m['median']*100:0.1f}\")\n",
    "print(f\"m_75: {m['75p']*100:0.1f}\")\n",
    "print(f\"m_max: {m['max']*100:0.1f}\")"
   ]
  },
  {
   "cell_type": "code",
   "execution_count": null,
   "metadata": {
    "ExecuteTime": {
     "end_time": "2019-11-28T15:47:24.329841Z",
     "start_time": "2019-11-28T15:47:24.128091Z"
    }
   },
   "outputs": [],
   "source": [
    "m = get_stats(bams[model].aurocs())\n",
    "print(f\"m_min: {m['min']*100:0.1f}\")\n",
    "print(f\"m_25: {m['25p']*100:0.1f}\")\n",
    "print(f\"m_mean: {m['mean']*100:0.1f}\")\n",
    "print(f\"m_median: {m['median']*100:0.1f}\")\n",
    "print(f\"m_75: {m['75p']*100:0.1f}\")\n",
    "print(f\"m_max: {m['max']*100:0.1f}\")"
   ]
  },
  {
   "cell_type": "markdown",
   "metadata": {},
   "source": [
    "## Box Plot"
   ]
  },
  {
   "cell_type": "code",
   "execution_count": 30,
   "metadata": {
    "ExecuteTime": {
     "end_time": "2019-12-04T12:38:52.493503Z",
     "start_time": "2019-12-04T12:38:52.471849Z"
    }
   },
   "outputs": [],
   "source": [
    "plot_dfs = []"
   ]
  },
  {
   "cell_type": "code",
   "execution_count": 32,
   "metadata": {
    "ExecuteTime": {
     "end_time": "2019-12-04T12:39:10.688509Z",
     "start_time": "2019-12-04T12:39:08.623699Z"
    }
   },
   "outputs": [],
   "source": [
    "prefix,cohort = 'full_common_vital','Notes & Vitals (U+S)'\n",
    "\n",
    "bams = pickle.load(open(workdir/f'{prefix}_bams.pkl', 'rb'))\n",
    "final_metrics = pd.read_csv(workdir/f'{prefix}_metrics.csv', index_col=0)\n",
    "best_models = pd.read_csv(workdir/f'{prefix}_best_models.csv', index_col=0)\n",
    "ttests = pd.read_csv(workdir/f'{prefix}_ttests.csv', index_col=0)\n",
    "\n",
    "for k in bams.keys():\n",
    "  bams[k.upper()] = bams.pop(k)\n",
    "\n",
    "bams['AVG-ALL'] = bams.pop('AVG-LR-RF-GBM')\n",
    "bams['MAX-ALL'] = bams.pop('MAX-LR-RF-GBM')\n",
    "\n",
    "itr = iter(bams.keys())\n",
    "bams.keys()\n",
    "\n",
    "metrics = {}\n",
    "\n",
    "for md in itr:\n",
    "  df = pd.DataFrame()\n",
    "  for k, m in bams[md].yield_metrics():\n",
    "    df[k] = m\n",
    "  df['Model'] = md\n",
    "  cols = list(df.columns)\n",
    "  cols = [cols[-1]] + cols[:-1]\n",
    "  df = df[cols]\n",
    "  metrics[md] = df\n",
    "\n",
    "plot_df = pd.concat(metrics.values())\n",
    "plot_df['Cohort'] = cohort\n",
    "plot_dfs.append(plot_df)"
   ]
  },
  {
   "cell_type": "code",
   "execution_count": 33,
   "metadata": {
    "ExecuteTime": {
     "end_time": "2019-12-04T12:39:10.717313Z",
     "start_time": "2019-12-04T12:39:10.689998Z"
    }
   },
   "outputs": [
    {
     "data": {
      "text/plain": [
       "(2200, 8)"
      ]
     },
     "execution_count": 33,
     "metadata": {},
     "output_type": "execute_result"
    }
   ],
   "source": [
    "plot_df = pd.concat(plot_dfs)\n",
    "plot_df[['Sensitivity', 'Specificity', 'PPV', 'AUC']] = plot_df[['Sensitivity', 'Specificity', 'PPV', 'AUC']] * 100\n",
    "plot_df.shape"
   ]
  },
  {
   "cell_type": "code",
   "execution_count": 35,
   "metadata": {
    "ExecuteTime": {
     "end_time": "2019-12-04T12:39:24.676482Z",
     "start_time": "2019-12-04T12:39:23.980810Z"
    }
   },
   "outputs": [
    {
     "data": {
      "text/plain": [
       "Text(0.5, 0, '')"
      ]
     },
     "execution_count": 35,
     "metadata": {},
     "output_type": "execute_result"
    },
    {
     "data": {
      "image/png": "[encoded data removed]",
      "text/plain": [
       "<Figure size 1440x720 with 1 Axes>"
      ]
     },
     "metadata": {
      "needs_background": "light"
     },
     "output_type": "display_data"
    }
   ],
   "source": [
    "met = 'Sensitivity'\n",
    "\n",
    "fig, ax = plt.subplots(1,1,figsize=(20,10))\n",
    "sns.boxplot(x='Model', y=met, hue='Cohort', data=plot_df, ax=ax)\n",
    "# for i in range(10): plt.axvline(x=i+0.5, ls='-.', color='black')\n",
    "ax.set_xlabel('')"
   ]
  },
  {
   "cell_type": "code",
   "execution_count": 28,
   "metadata": {
    "ExecuteTime": {
     "end_time": "2019-12-03T23:42:11.533624Z",
     "start_time": "2019-12-03T23:42:11.359463Z"
    },
    "scrolled": false
   },
   "outputs": [],
   "source": [
    "save = True\n",
    "if save:\n",
    "  fig.savefig(figdir/f'nxv_{met.lower()}_box_plot.pdf', dpi=300)"
   ]
  },
  {
   "cell_type": "markdown",
   "metadata": {},
   "source": [
    "## Mean AUC"
   ]
  },
  {
   "cell_type": "code",
   "execution_count": null,
   "metadata": {
    "ExecuteTime": {
     "end_time": "2019-11-26T23:27:35.544573Z",
     "start_time": "2019-11-26T23:27:35.495571Z"
    }
   },
   "outputs": [],
   "source": [
    "def get_mean_tprs(bams, base_fpr):\n",
    "  mean_tprs = {}  \n",
    "  for model, bam in bams.items():\n",
    "    tprs = []  \n",
    "    for i, (targs, probs) in enumerate(zip(bam.targs, bam.pos_probs)):\n",
    "      fpr, tpr, _ = roc_curve(targs, probs)\n",
    "      tpr = interp(base_fpr, fpr, tpr)\n",
    "      tpr[0] = 0.0\n",
    "      tprs.append(tpr)\n",
    "\n",
    "    tprs = np.array(tprs)\n",
    "    mean_tprs[model] = tprs.mean(axis=0)\n",
    "    \n",
    "  return mean_tprs"
   ]
  },
  {
   "cell_type": "code",
   "execution_count": null,
   "metadata": {
    "ExecuteTime": {
     "end_time": "2019-11-26T23:28:01.461520Z",
     "start_time": "2019-11-26T23:28:01.410784Z"
    }
   },
   "outputs": [],
   "source": [
    "save = True"
   ]
  },
  {
   "cell_type": "code",
   "execution_count": null,
   "metadata": {
    "ExecuteTime": {
     "end_time": "2019-11-26T23:28:35.495087Z",
     "start_time": "2019-11-26T23:28:35.220362Z"
    }
   },
   "outputs": [],
   "source": [
    "prefix = 'full_common_all'\n",
    "\n",
    "bams = pickle.load(open(workdir/f'{prefix}_bams.pkl', 'rb'))\n",
    "final_metrics = pd.read_csv(workdir/f'{prefix}_metrics.csv', index_col=0)\n",
    "best_models = pd.read_csv(workdir/f'{prefix}_best_models.csv', index_col=0)\n",
    "ttests = pd.read_csv(workdir/f'{prefix}_ttests.csv', index_col=0)\n",
    "\n",
    "for k in bams.keys():\n",
    "  bams[k.upper()] = bams.pop(k)\n",
    "\n",
    "bams['AVG-ALL'] = bams.pop('AVG-LR-RF-GBM')\n",
    "bams['MAX-ALL'] = bams.pop('MAX-LR-RF-GBM')"
   ]
  },
  {
   "cell_type": "code",
   "execution_count": null,
   "metadata": {
    "ExecuteTime": {
     "end_time": "2019-11-26T23:28:37.294444Z",
     "start_time": "2019-11-26T23:28:35.496728Z"
    }
   },
   "outputs": [],
   "source": [
    "des = 'all_'\n",
    "\n",
    "if not des:\n",
    "  plot_bams = {k: bams[k] for k in bams.keys() if '-' not in k}\n",
    "  des = ''  \n",
    "  names = plot_bams.keys()\n",
    "  aucs = [model.auroc_avg() for _, model in plot_bams.items()]\n",
    "  legends = [f'{model} ({auc})' for model, auc in zip(names, aucs)]\n",
    "elif des == 'avg_':\n",
    "  plot_bams = {k: bams[k] for k in bams.keys() if 'avg' in k}\n",
    "  names = [name[4:] for name in plot_bams.keys()]\n",
    "  aucs = [model.auroc_avg() for _, model in plot_bams.items()]\n",
    "  legends = [f'{model} ({auc})' for model, auc in zip(names, aucs)]  \n",
    "elif des == 'max_':\n",
    "  plot_bams = {k: bams[k] for k in bams.keys() if 'max' in k}\n",
    "  names = [name[4:] for name in plot_bams.keys()]\n",
    "  aucs = [model.auroc_avg() for _, model in plot_bams.items()]\n",
    "  legends = [f'{model} ({auc})' for model, auc in zip(names, aucs)]  \n",
    "elif des == 'all_':\n",
    "  plot_bams = bams\n",
    "  names = plot_bams.keys()\n",
    "  aucs = [model.auroc_avg() for _, model in plot_bams.items()]\n",
    "  legends = [f'{model} ({auc})' for model, auc in zip(names, aucs)]\n",
    "  \n",
    "legends  "
   ]
  },
  {
   "cell_type": "code",
   "execution_count": null,
   "metadata": {
    "ExecuteTime": {
     "end_time": "2019-11-26T23:28:38.773061Z",
     "start_time": "2019-11-26T23:28:37.296370Z"
    }
   },
   "outputs": [],
   "source": [
    "base_fpr = np.linspace(0, 1, 100)\n",
    "mean_tprs = get_mean_tprs(plot_bams, base_fpr)\n",
    "\n",
    "fig, ax = plt.subplots(1, 1, figsize=(11, 8))\n",
    "for i, (model, mean_tpr) in enumerate(mean_tprs.items()):\n",
    "  ax.plot(base_fpr, mean_tpr)\n",
    "ax.plot([0, 1], [0, 1], linestyle=':')  \n",
    "ax.grid(b=True, which='major', color='#d3d3d3', linewidth=1.0)\n",
    "ax.grid(b=True, which='minor', color='#d3d3d3', linewidth=0.5)\n",
    "ax.set_ylabel('Sensitivity')\n",
    "ax.set_xlabel('1 - Specificity')\n",
    "ax.legend(legends)\n",
    "\n",
    "if save:\n",
    "  fig.savefig(figdir/f'{prefix}_{des}mean_auc.pdf', dpi=300)"
   ]
  }
 ],
 "metadata": {
  "kernelspec": {
   "display_name": "Python 3",
   "language": "python",
   "name": "python3"
  },
  "language_info": {
   "codemirror_mode": {
    "name": "ipython",
    "version": 3
   },
   "file_extension": ".py",
   "mimetype": "text/x-python",
   "name": "python",
   "nbconvert_exporter": "python",
   "pygments_lexer": "ipython3",
   "version": "3.7.5"
  },
  "toc": {
   "base_numbering": 1,
   "nav_menu": {},
   "number_sections": true,
   "sideBar": true,
   "skip_h1_title": true,
   "title_cell": "Table of Contents",
   "title_sidebar": "Contents",
   "toc_cell": false,
   "toc_position": {},
   "toc_section_display": true,
   "toc_window_display": false
  }
 },
 "nbformat": 4,
 "nbformat_minor": 2
}
