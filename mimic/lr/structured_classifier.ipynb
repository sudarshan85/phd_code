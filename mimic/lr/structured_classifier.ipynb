{
 "cells": [
  {
   "cell_type": "markdown",
   "metadata": {},
   "source": [
    "# Imminent ICU Admission Classifier with Logistic Regression"
   ]
  },
  {
   "cell_type": "markdown",
   "metadata": {},
   "source": [
    "## Imports & Inits"
   ]
  },
  {
   "cell_type": "code",
   "execution_count": 1,
   "metadata": {
    "ExecuteTime": {
     "end_time": "2019-12-18T19:45:48.894424Z",
     "start_time": "2019-12-18T19:45:46.921446Z"
    }
   },
   "outputs": [],
   "source": [
    "%load_ext autoreload\n",
    "%autoreload 2\n",
    "\n",
    "import sys\n",
    "sys.path.append('../../')\n",
    "\n",
    "import warnings\n",
    "warnings.filterwarnings(\"ignore\", category=UserWarning)\n",
    "\n",
    "import pickle\n",
    "import scipy\n",
    "\n",
    "import pandas as pd\n",
    "import numpy as np\n",
    "np.set_printoptions(precision=4)\n",
    "\n",
    "import matplotlib.pyplot as plt\n",
    "import seaborn as sns\n",
    "sns.set_style(\"darkgrid\")\n",
    "%matplotlib inline\n",
    "\n",
    "from pathlib import Path\n",
    "\n",
    "from sklearn.linear_model import LogisticRegression\n",
    "from sklearn.feature_extraction.text import TfidfVectorizer\n",
    "from scikitplot.metrics import *\n",
    "\n",
    "from utils.data_utils import set_group_splits\n",
    "from utils.metrics import BinaryAvgMetrics, get_best_model\n",
    "from utils.plots import *"
   ]
  },
  {
   "cell_type": "code",
   "execution_count": 2,
   "metadata": {
    "ExecuteTime": {
     "end_time": "2019-12-18T19:45:48.930086Z",
     "start_time": "2019-12-18T19:45:48.897098Z"
    }
   },
   "outputs": [
    {
     "data": {
      "text/plain": [
       "{'path': PosixPath('../data'),\n",
       " 'workdir': PosixPath('../data/workdir/lr'),\n",
       " 'figdir': PosixPath('../data/workdir/lr/figures'),\n",
       " 'structured_csv': PosixPath('../data/modelready_structured.csv'),\n",
       " 'unstructured_csv': PosixPath('../data/modelready_unstructured.csv'),\n",
       " 'mm_csv': PosixPath('../data/modelready_mm.csv'),\n",
       " 'modeldir': PosixPath('../data/workdir/lr/models')}"
      ]
     },
     "execution_count": 2,
     "metadata": {},
     "output_type": "execute_result"
    }
   ],
   "source": [
    "from args import args\n",
    "vars(args)"
   ]
  },
  {
   "cell_type": "code",
   "execution_count": 3,
   "metadata": {
    "ExecuteTime": {
     "end_time": "2019-12-18T19:45:48.957217Z",
     "start_time": "2019-12-18T19:45:48.932074Z"
    }
   },
   "outputs": [],
   "source": [
    "seeds = [643] + list(range(127,227))"
   ]
  },
  {
   "cell_type": "code",
   "execution_count": 7,
   "metadata": {
    "ExecuteTime": {
     "end_time": "2019-12-18T19:48:37.723326Z",
     "start_time": "2019-12-18T19:48:34.885059Z"
    }
   },
   "outputs": [
    {
     "name": "stdout",
     "output_type": "stream",
     "text": [
      "(33870, 3) (205261, 10) (33870, 51)\n"
     ]
    }
   ],
   "source": [
    "notes_common = pd.read_csv(args.unstructured_csv)\n",
    "notes_common = notes_common[notes_common['imi_adm_label'] != -1].reset_index(drop=True)\n",
    "\n",
    "vitals_common = pd.read_csv(args.structured_csv)\n",
    "vitals_common = vitals_common[vitals_common['imi_adm_label'] != -1].reset_index(drop=True)\n",
    "\n",
    "mm_notes_vitals = pd.read_csv(args.mm_csv)\n",
    "mm_notes_vitals = mm_notes_vitals[mm_notes_vitals['imi_adm_label'] != -1].reset_index(drop=True)\n",
    "\n",
    "print(notes_common.shape, vitals_common.shape, mm_notes_vitals.shape)"
   ]
  },
  {
   "cell_type": "code",
   "execution_count": 8,
   "metadata": {
    "ExecuteTime": {
     "end_time": "2019-12-18T19:48:39.196965Z",
     "start_time": "2019-12-18T19:48:39.146837Z"
    }
   },
   "outputs": [],
   "source": [
    "seed = 643"
   ]
  },
  {
   "cell_type": "code",
   "execution_count": 9,
   "metadata": {
    "ExecuteTime": {
     "end_time": "2019-12-18T19:48:39.915683Z",
     "start_time": "2019-12-18T19:48:39.795755Z"
    }
   },
   "outputs": [
    {
     "name": "stdout",
     "output_type": "stream",
     "text": [
      "Prevalence of positive class in training set:23.0%\n",
      "Prevalence of positive class in test set:19.9%\n"
     ]
    }
   ],
   "source": [
    "df = set_group_splits(notes_common.copy(), group_col='hadm_id', seed=seed)\n",
    "\n",
    "train_df = df[df['split'] == 'train']\n",
    "test_df = df[df['split'] == 'test']\n",
    "\n",
    "g = train_df.groupby(['imi_adm_label']).size().to_numpy()\n",
    "print(f\"Prevalence of positive class in training set:{(g[1]/g.sum())*100:0.1f}%\")\n",
    "g = test_df.groupby(['imi_adm_label']).size().to_numpy()\n",
    "print(f\"Prevalence of positive class in test set:{(g[1]/g.sum())*100:0.1f}%\")"
   ]
  },
  {
   "cell_type": "code",
   "execution_count": 10,
   "metadata": {
    "ExecuteTime": {
     "end_time": "2019-12-18T19:48:57.880029Z",
     "start_time": "2019-12-18T19:48:57.627623Z"
    }
   },
   "outputs": [
    {
     "name": "stdout",
     "output_type": "stream",
     "text": [
      "Prevalence of positive class in training set:18.2%\n",
      "Prevalence of positive class in test set:20.0%\n"
     ]
    }
   ],
   "source": [
    "df = set_group_splits(vitals_common.copy(), group_col='hadm_id', seed=seed)\n",
    "\n",
    "train_df = df[df['split'] == 'train']\n",
    "test_df = df[df['split'] == 'test']\n",
    "\n",
    "g = train_df.groupby(['imi_adm_label']).size().to_numpy()\n",
    "print(f\"Prevalence of positive class in training set:{(g[1]/g.sum())*100:0.1f}%\")\n",
    "g = test_df.groupby(['imi_adm_label']).size().to_numpy()\n",
    "print(f\"Prevalence of positive class in test set:{(g[1]/g.sum())*100:0.1f}%\")"
   ]
  },
  {
   "cell_type": "code",
   "execution_count": 11,
   "metadata": {
    "ExecuteTime": {
     "end_time": "2019-12-18T19:49:13.548359Z",
     "start_time": "2019-12-18T19:49:13.421125Z"
    }
   },
   "outputs": [
    {
     "name": "stdout",
     "output_type": "stream",
     "text": [
      "Prevalence of positive class in training set:23.0%\n",
      "Prevalence of positive class in test set:19.9%\n"
     ]
    }
   ],
   "source": [
    "df = set_group_splits(mm_notes_vitals.copy(), group_col='hadm_id', seed=seed)\n",
    "\n",
    "train_df = df[df['split'] == 'train']\n",
    "test_df = df[df['split'] == 'test']\n",
    "\n",
    "g = train_df.groupby(['imi_adm_label']).size().to_numpy()\n",
    "print(f\"Prevalence of positive class in training set:{(g[1]/g.sum())*100:0.1f}%\")\n",
    "g = test_df.groupby(['imi_adm_label']).size().to_numpy()\n",
    "print(f\"Prevalence of positive class in test set:{(g[1]/g.sum())*100:0.1f}%\")"
   ]
  },
  {
   "cell_type": "code",
   "execution_count": null,
   "metadata": {},
   "outputs": [],
   "source": [
    "vectorizer = TfidfVectorizer(ngram_range=(1,2), max_features=60_000)\n",
    "x_train = vectorizer.fit_transform(train_df['note'])\n",
    "x_test = vectorizer.transform(test_df['note'])\n",
    "\n",
    "with open(args.workdir/f'bi_gram_vital_643.pkl', 'wb') as f:\n",
    "  pickle.dump(vectorizer, f)\n",
    "  pickle.dump(x_note_train, f)\n",
    "  pickle.dump(x_note_test, f)"
   ]
  },
  {
   "cell_type": "code",
   "execution_count": null,
   "metadata": {
    "ExecuteTime": {
     "end_time": "2019-11-29T18:03:07.139923Z",
     "start_time": "2019-11-29T18:03:07.116341Z"
    }
   },
   "outputs": [],
   "source": [
    "seed = 643\n",
    "save = False"
   ]
  },
  {
   "cell_type": "markdown",
   "metadata": {},
   "source": [
    "## Vitals Single Model Dev"
   ]
  },
  {
   "cell_type": "code",
   "execution_count": null,
   "metadata": {
    "ExecuteTime": {
     "end_time": "2019-11-29T18:03:07.164721Z",
     "start_time": "2019-11-29T18:03:07.141925Z"
    }
   },
   "outputs": [],
   "source": [
    "args.str_vital_cols = pickle.load(open(args.path/'str_vital_cols.pkl', 'rb'))\n",
    "args.vital_cols=['hadm_id'] + args.str_vital_cols + ['note', 'imi_adm_label']"
   ]
  },
  {
   "cell_type": "code",
   "execution_count": null,
   "metadata": {
    "ExecuteTime": {
     "end_time": "2019-11-29T18:03:08.435743Z",
     "start_time": "2019-11-29T18:03:07.165991Z"
    }
   },
   "outputs": [],
   "source": [
    "full_common_vital = pd.read_csv(args.vital_csv, usecols=args.vital_cols)\n",
    "full_common_vital = full_common_vital[full_common_vital['imi_adm_label'] != -1].reset_index(drop=True)\n",
    "notes_common_vital = full_common_vital[['hadm_id', 'note', 'imi_adm_label']].copy().reset_index(drop=True)\n",
    "\n",
    "print(notes_common_vital.shape, full_common_vital.shape)\n",
    "notes_common_vital['hadm_id'].nunique(), full_common_vital['hadm_id'].nunique()"
   ]
  },
  {
   "cell_type": "code",
   "execution_count": null,
   "metadata": {
    "ExecuteTime": {
     "end_time": "2019-11-29T18:03:08.474634Z",
     "start_time": "2019-11-29T18:03:08.438124Z"
    }
   },
   "outputs": [],
   "source": [
    "# notes_common_vital.dropna(inplace=True)\n",
    "# notes_common_vital.reset_index(drop=True, inplace=True)\n",
    "\n",
    "# vital_hadms = set(full_common_vital['hadm_id'].unique()).intersection(notes_common_vital['hadm_id'].unique())\n",
    "\n",
    "# full_common_vital = full_common_vital[full_common_vital['hadm_id'].isin(vital_hadms)].reset_index(drop=True)\n",
    "# notes_common_vital = notes_common_vital[notes_common_vital['hadm_id'].isin(vital_hadms)].reset_index(drop=True)\n",
    "\n",
    "# print(notes_common_vital.shape, full_common_vital.shape)\n",
    "# notes_common_vital['hadm_id'].nunique(), full_common_vital['hadm_id'].nunique()"
   ]
  },
  {
   "cell_type": "code",
   "execution_count": null,
   "metadata": {
    "ExecuteTime": {
     "end_time": "2019-11-29T18:03:08.506549Z",
     "start_time": "2019-11-29T18:03:08.476867Z"
    }
   },
   "outputs": [],
   "source": [
    "# full_common_vital.dropna(inplace=True)\n",
    "# full_common_vital.reset_index(drop=True, inplace=True)"
   ]
  },
  {
   "cell_type": "code",
   "execution_count": null,
   "metadata": {
    "ExecuteTime": {
     "end_time": "2019-11-29T18:03:08.533821Z",
     "start_time": "2019-11-29T18:03:08.509283Z"
    }
   },
   "outputs": [],
   "source": [
    "# full_common_vital[['note']] = full_common_vital.groupby('hadm_id')[['note']].ffill()\n",
    "\n",
    "# full_common_vital.dropna(inplace=True)\n",
    "# full_common_vital.reset_index(drop=True, inplace=True)\n",
    "\n",
    "# x = pd.DataFrame(full_common_vital.isna().sum(), columns=['sum']).reset_index()\n",
    "# x['sum'].sum()"
   ]
  },
  {
   "cell_type": "markdown",
   "metadata": {},
   "source": [
    "### Notes only"
   ]
  },
  {
   "cell_type": "code",
   "execution_count": null,
   "metadata": {
    "ExecuteTime": {
     "end_time": "2019-11-29T18:03:08.601359Z",
     "start_time": "2019-11-29T18:03:08.535623Z"
    }
   },
   "outputs": [],
   "source": [
    "df = set_group_splits(notes_common_vital.copy(), group_col='hadm_id', seed=seed)\n",
    "\n",
    "train_df = df[df['split'] == 'train']\n",
    "test_df = df[df['split'] == 'test']\n",
    "\n",
    "g = train_df.groupby(['imi_adm_label']).size().to_numpy()\n",
    "print(f\"Prevalence of positive class in training set:{(g[1]/g.sum())*100:0.1f}%\")\n",
    "g = test_df.groupby(['imi_adm_label']).size().to_numpy()\n",
    "print(f\"Prevalence of positive class in test set:{(g[1]/g.sum())*100:0.1f}%\")"
   ]
  },
  {
   "cell_type": "code",
   "execution_count": null,
   "metadata": {
    "ExecuteTime": {
     "end_time": "2019-11-29T18:03:08.622678Z",
     "start_time": "2019-11-29T18:03:08.602606Z"
    }
   },
   "outputs": [],
   "source": [
    "# vectorizer = TfidfVectorizer(ngram_range=(1,2), max_features=60_000)\n",
    "# x_note_train = vectorizer.fit_transform(train_df['note'])\n",
    "# x_note_test = vectorizer.transform(test_df['note'])\n",
    "\n",
    "# with open(args.workdir/f'bi_gram_vital_643.pkl', 'wb') as f:\n",
    "#   pickle.dump(vectorizer, f)\n",
    "#   pickle.dump(x_note_train, f)\n",
    "#   pickle.dump(x_note_test, f)"
   ]
  },
  {
   "cell_type": "code",
   "execution_count": null,
   "metadata": {
    "ExecuteTime": {
     "end_time": "2019-11-29T18:03:09.252143Z",
     "start_time": "2019-11-29T18:03:08.623910Z"
    }
   },
   "outputs": [],
   "source": [
    "with open(args.workdir/f'vectordir/bi_gram_vital_643.pkl', 'rb') as f:\n",
    "  vectorizer = pickle.load(f)\n",
    "  x_note_train = pickle.load(f)\n",
    "  x_note_test = pickle.load(f)\n",
    "  \n",
    "y_train, y_test = train_df['imi_adm_label'], test_df['imi_adm_label']\n",
    "x_note_train.shape, x_note_test.shape, y_train.shape, y_test.shape"
   ]
  },
  {
   "cell_type": "code",
   "execution_count": null,
   "metadata": {
    "ExecuteTime": {
     "end_time": "2019-11-29T18:03:13.010743Z",
     "start_time": "2019-11-29T18:03:09.253482Z"
    }
   },
   "outputs": [],
   "source": [
    "clf = LogisticRegression(class_weight='balanced')\n",
    "clf.fit(x_note_train, y_train)\n",
    "\n",
    "prob = clf.predict_proba(x_note_test)\n",
    "pos_prob = prob[:, 1]\n",
    "\n",
    "labels = ['Delayed', 'Imminent']\n",
    "label_test = [labels[i] for i in y_test]"
   ]
  },
  {
   "cell_type": "code",
   "execution_count": null,
   "metadata": {
    "ExecuteTime": {
     "end_time": "2019-11-29T18:03:13.404191Z",
     "start_time": "2019-11-29T18:03:13.013354Z"
    }
   },
   "outputs": [],
   "source": [
    "fig, ax = plt.subplots(figsize=(10,8))\n",
    "plot_roc(label_test, prob, title='', ax=ax)\n",
    "ax.set_xlabel('1 - Specificity')\n",
    "ax.set_ylabel('Sensitivity')"
   ]
  },
  {
   "cell_type": "code",
   "execution_count": null,
   "metadata": {
    "ExecuteTime": {
     "end_time": "2019-11-29T18:03:14.164857Z",
     "start_time": "2019-11-29T18:03:13.405469Z"
    }
   },
   "outputs": [],
   "source": [
    "fig, ax = plt.subplots(figsize=(20, 10))\n",
    "plot_thresh_range(ax, y_test, pos_prob, lower=0.1, upper=0.81, n_vals=100)\n",
    "\n",
    "if save:\n",
    "  fig.savefig(args.figdir/f'{args.model}_notes_vital_metrics_vary.pdf', dpi=300)"
   ]
  },
  {
   "cell_type": "code",
   "execution_count": null,
   "metadata": {
    "ExecuteTime": {
     "end_time": "2019-11-29T18:03:14.879057Z",
     "start_time": "2019-11-29T18:03:14.166055Z"
    }
   },
   "outputs": [],
   "source": [
    "fig, ax = plt.subplots(figsize=(20, 10))\n",
    "best_threshold = plot_thresh_metric(ax, y_test, pos_prob, lower=0.1, upper=0.81, n_vals=100)\n",
    "ax.text(0.71, ax.get_ylim()[1] * 0.9, f'Optimum Threshold = {best_threshold[0]}', fontsize=12, color='b')\n",
    "print(best_threshold)\n",
    "\n",
    "if save:\n",
    "  fig.savefig(args.figdir/f'{args.model}_notes_vital_threshold_guide.pdf', dpi=300)"
   ]
  },
  {
   "cell_type": "code",
   "execution_count": null,
   "metadata": {
    "ExecuteTime": {
     "end_time": "2019-11-29T18:03:14.922401Z",
     "start_time": "2019-11-29T18:03:14.880372Z"
    }
   },
   "outputs": [],
   "source": [
    "threshold = 0.41\n",
    "pred = (pos_prob > threshold).astype(np.int64)\n",
    "label_preds = [labels[i] for i in pred]\n",
    "cm = confusion_matrix(y_test, pred)\n",
    "tn,fp,fn,tp = cm[0][0],cm[0][1],cm[1][0],cm[1][1]\n",
    "sensitivity = tp/(tp+fn)\n",
    "specificity = tn/(tn+fp)\n",
    "ppv = tp/(tp+fp)\n",
    "npv = tn/(tn+fn)\n",
    "f1 = (2*ppv*sensitivity)/(ppv+sensitivity)\n",
    "auroc = roc_auc_score(y_test, pos_prob)\n",
    "\n",
    "d = {\n",
    "  'sensitivity': np.round(sensitivity, 3),\n",
    "  'specificity': np.round(specificity, 3),\n",
    "  'ppv': np.round(ppv, 3),\n",
    "  'npv': np.round(npv, 3),\n",
    "  'f1': np.round(f1, 3),\n",
    "  'auroc': np.round(auroc, 3),\n",
    "  'threshold': threshold,\n",
    "}\n",
    "metrics = pd.DataFrame(d.values(), index=d.keys(), columns=['Value'])\n",
    "metrics"
   ]
  },
  {
   "cell_type": "code",
   "execution_count": null,
   "metadata": {
    "ExecuteTime": {
     "end_time": "2019-11-29T18:03:15.163290Z",
     "start_time": "2019-11-29T18:03:14.923918Z"
    }
   },
   "outputs": [],
   "source": [
    "fig, ax = plt.subplots(figsize=(11, 8))\n",
    "plot_confusion_matrix(label_test, label_preds, x_tick_rotation=45, ax=ax, normalize=False)"
   ]
  },
  {
   "cell_type": "code",
   "execution_count": null,
   "metadata": {},
   "outputs": [],
   "source": [
    "pos = 1220\n",
    "control = 4898"
   ]
  },
  {
   "cell_type": "markdown",
   "metadata": {},
   "source": [
    "### Notes and Vitals"
   ]
  },
  {
   "cell_type": "code",
   "execution_count": null,
   "metadata": {
    "ExecuteTime": {
     "end_time": "2019-11-29T18:04:08.988888Z",
     "start_time": "2019-11-29T18:04:08.501339Z"
    }
   },
   "outputs": [],
   "source": [
    "df = set_group_splits(full_common_vital.copy(), group_col='hadm_id', seed=seed)\n",
    "\n",
    "train_df = df[df['split'] == 'train']\n",
    "test_df = df[df['split'] == 'test']\n",
    "\n",
    "g = train_df.groupby(['imi_adm_label']).size().to_numpy()\n",
    "print(f\"Prevalence of positive class in training set:{(g[1]/g.sum())*100:0.1f}%\")\n",
    "g = test_df.groupby(['imi_adm_label']).size().to_numpy()\n",
    "print(f\"Prevalence of positive class in test set:{(g[1]/g.sum())*100:0.1f}%\")"
   ]
  },
  {
   "cell_type": "code",
   "execution_count": null,
   "metadata": {
    "ExecuteTime": {
     "end_time": "2019-11-29T18:04:09.015477Z",
     "start_time": "2019-11-29T18:04:08.991109Z"
    }
   },
   "outputs": [],
   "source": [
    "# vectorizer = TfidfVectorizer(ngram_range=(1,2), max_features=60_000)\n",
    "# x_note_train = vectorizer.fit_transform(train_df['note'])\n",
    "# x_note_test = vectorizer.transform(test_df['note'])\n",
    "\n",
    "# with open(args.workdir/f'bi_gram_full_vital_643.pkl', 'wb') as f:\n",
    "#   pickle.dump(vectorizer, f)\n",
    "#   pickle.dump(x_note_train, f)\n",
    "#   pickle.dump(x_note_test, f)"
   ]
  },
  {
   "cell_type": "code",
   "execution_count": null,
   "metadata": {
    "ExecuteTime": {
     "end_time": "2019-11-29T18:04:09.726038Z",
     "start_time": "2019-11-29T18:04:09.017236Z"
    }
   },
   "outputs": [],
   "source": [
    "with open(args.workdir/f'vectordir/bi_gram_vital_643.pkl', 'rb') as f:\n",
    "  vectorizer = pickle.load(f)\n",
    "  x_note_train = pickle.load(f)\n",
    "  x_note_test = pickle.load(f)\n",
    "  \n",
    "y_train, y_test = train_df['imi_adm_label'], test_df['imi_adm_label']\n",
    "x_note_train.shape, x_note_test.shape, y_train.shape, y_test.shape"
   ]
  },
  {
   "cell_type": "code",
   "execution_count": null,
   "metadata": {
    "ExecuteTime": {
     "end_time": "2019-11-29T18:04:09.757464Z",
     "start_time": "2019-11-29T18:04:09.727572Z"
    }
   },
   "outputs": [],
   "source": [
    "x_str_train, x_str_test = train_df[args.str_vital_cols].values, test_df[args.str_vital_cols].values\n",
    "x_str_train.shape, x_str_test.shape"
   ]
  },
  {
   "cell_type": "code",
   "execution_count": null,
   "metadata": {
    "ExecuteTime": {
     "end_time": "2019-11-29T18:04:10.699989Z",
     "start_time": "2019-11-29T18:04:09.758724Z"
    }
   },
   "outputs": [],
   "source": [
    "x_train = scipy.sparse.hstack((x_str_train, x_note_train)).tocsr()\n",
    "x_test = scipy.sparse.hstack((x_str_test, x_note_test)).tocsr()\n",
    "x_train.shape, x_test.shape"
   ]
  },
  {
   "cell_type": "code",
   "execution_count": null,
   "metadata": {
    "ExecuteTime": {
     "end_time": "2019-11-29T18:08:01.877734Z",
     "start_time": "2019-11-29T18:04:10.701859Z"
    }
   },
   "outputs": [],
   "source": [
    "clf = LogisticRegression(class_weight='balanced')\n",
    "clf.fit(x_train, y_train)\n",
    "\n",
    "prob = clf.predict_proba(x_test)\n",
    "pos_prob = prob[:, 1]\n",
    "\n",
    "labels = ['Delayed', 'Imminent']\n",
    "label_test = [labels[i] for i in y_test]"
   ]
  },
  {
   "cell_type": "code",
   "execution_count": null,
   "metadata": {
    "ExecuteTime": {
     "end_time": "2019-11-29T18:08:02.354314Z",
     "start_time": "2019-11-29T18:08:01.881150Z"
    }
   },
   "outputs": [],
   "source": [
    "fig, ax = plt.subplots(figsize=(10,8))\n",
    "plot_roc(label_test, prob, title='', ax=ax)\n",
    "ax.set_xlabel('1 - Specificity')\n",
    "ax.set_ylabel('Sensitivity')"
   ]
  },
  {
   "cell_type": "code",
   "execution_count": null,
   "metadata": {
    "ExecuteTime": {
     "end_time": "2019-11-29T18:08:03.114819Z",
     "start_time": "2019-11-29T18:08:02.356429Z"
    }
   },
   "outputs": [],
   "source": [
    "fig, ax = plt.subplots(figsize=(20, 10))\n",
    "plot_thresh_range(ax, y_test, pos_prob, lower=0.1, upper=0.81, n_vals=100)\n",
    "\n",
    "if save:\n",
    "  fig.savefig(args.figdir/f'{args.model}_full_vital_metrics_vary.pdf', dpi=300)"
   ]
  },
  {
   "cell_type": "code",
   "execution_count": null,
   "metadata": {
    "ExecuteTime": {
     "end_time": "2019-11-29T18:08:03.872032Z",
     "start_time": "2019-11-29T18:08:03.116170Z"
    }
   },
   "outputs": [],
   "source": [
    "fig, ax = plt.subplots(figsize=(20, 10))\n",
    "best_threshold = plot_thresh_metric(ax, y_test, pos_prob, lower=0.1, upper=0.81, n_vals=100)\n",
    "ax.text(0.71, ax.get_ylim()[1] * 0.9, f'Optimum Threshold = {best_threshold[0]}', fontsize=12, color='b')\n",
    "print(best_threshold)\n",
    "\n",
    "if save:\n",
    "  fig.savefig(args.figdir/f'{args.model}_full_vital_threshold_guide.pdf', dpi=300)"
   ]
  },
  {
   "cell_type": "code",
   "execution_count": null,
   "metadata": {
    "ExecuteTime": {
     "end_time": "2019-11-29T18:08:03.909791Z",
     "start_time": "2019-11-29T18:08:03.873271Z"
    }
   },
   "outputs": [],
   "source": [
    "threshold = 0.43\n",
    "pred = (pos_prob > threshold).astype(np.int64)\n",
    "label_preds = [labels[i] for i in pred]\n",
    "cm = confusion_matrix(y_test, pred)\n",
    "tn,fp,fn,tp = cm[0][0],cm[0][1],cm[1][0],cm[1][1]\n",
    "sensitivity = tp/(tp+fn)\n",
    "specificity = tn/(tn+fp)\n",
    "ppv = tp/(tp+fp)\n",
    "npv = tn/(tn+fn)\n",
    "f1 = (2*ppv*sensitivity)/(ppv+sensitivity)\n",
    "auroc = roc_auc_score(y_test, pos_prob)\n",
    "\n",
    "d = {\n",
    "  'sensitivity': np.round(sensitivity, 3),\n",
    "  'specificity': np.round(specificity, 3),\n",
    "  'ppv': np.round(ppv, 3),\n",
    "  'npv': np.round(npv, 3),\n",
    "  'f1': np.round(f1, 3),\n",
    "  'auroc': np.round(auroc, 3),\n",
    "  'threshold': threshold,\n",
    "}\n",
    "metrics = pd.DataFrame(d.values(), index=d.keys(), columns=['Value'])\n",
    "metrics"
   ]
  },
  {
   "cell_type": "code",
   "execution_count": null,
   "metadata": {
    "ExecuteTime": {
     "end_time": "2019-11-29T18:08:04.146792Z",
     "start_time": "2019-11-29T18:08:03.910987Z"
    }
   },
   "outputs": [],
   "source": [
    "fig, ax = plt.subplots(figsize=(11, 8))\n",
    "plot_confusion_matrix(label_test, label_preds, x_tick_rotation=45, ax=ax, normalize=False)"
   ]
  },
  {
   "cell_type": "code",
   "execution_count": null,
   "metadata": {},
   "outputs": [],
   "source": [
    "pos = 1220\n",
    "control = 4898"
   ]
  },
  {
   "cell_type": "markdown",
   "metadata": {},
   "source": [
    "## All Single Model Dev"
   ]
  },
  {
   "cell_type": "code",
   "execution_count": null,
   "metadata": {
    "ExecuteTime": {
     "end_time": "2019-11-29T18:09:44.430672Z",
     "start_time": "2019-11-29T18:09:44.190463Z"
    }
   },
   "outputs": [],
   "source": [
    "args.str_all_cols = pickle.load(open(args.path/'str_all_cols.pkl', 'rb'))\n",
    "args.all_cols=['hadm_id'] + args.str_all_cols + ['note', 'imi_adm_label']"
   ]
  },
  {
   "cell_type": "code",
   "execution_count": null,
   "metadata": {
    "ExecuteTime": {
     "end_time": "2019-11-29T18:09:46.445873Z",
     "start_time": "2019-11-29T18:09:44.432808Z"
    }
   },
   "outputs": [],
   "source": [
    "full_common_all = pd.read_csv(args.all_csv, usecols=args.all_cols)\n",
    "full_common_all = full_common_all[full_common_all['imi_adm_label'] != -1].reset_index(drop=True)\n",
    "notes_common_all = full_common_all[['hadm_id', 'note', 'imi_adm_label']].copy().reset_index(drop=True)\n",
    "\n",
    "print(notes_common_all.shape, full_common_all.shape)\n",
    "notes_common_all['hadm_id'].nunique(), full_common_all['hadm_id'].nunique()"
   ]
  },
  {
   "cell_type": "code",
   "execution_count": null,
   "metadata": {
    "ExecuteTime": {
     "end_time": "2019-11-19T12:55:08.435471Z",
     "start_time": "2019-11-19T12:55:08.270785Z"
    }
   },
   "outputs": [],
   "source": [
    "# notes_common_all.dropna(inplace=True)\n",
    "# notes_common_all.reset_index(drop=True, inplace=True)\n",
    "\n",
    "# all_hadms = set(full_common_all['hadm_id'].unique()).intersection(notes_common_all['hadm_id'].unique())\n",
    "\n",
    "# full_common_all = full_common_all[full_common_all['hadm_id'].isin(all_hadms)].reset_index(drop=True)\n",
    "# notes_common_all = notes_common_all[notes_common_all['hadm_id'].isin(all_hadms)].reset_index(drop=True)\n",
    "\n",
    "# print(notes_common_all.shape, full_common_all.shape)\n",
    "# notes_common_all['hadm_id'].nunique(), full_common_all['hadm_id'].nunique()"
   ]
  },
  {
   "cell_type": "code",
   "execution_count": null,
   "metadata": {
    "ExecuteTime": {
     "end_time": "2019-11-19T12:52:40.722608Z",
     "start_time": "2019-11-19T12:52:37.866614Z"
    }
   },
   "outputs": [],
   "source": [
    "# full_common_all.dropna(inplace=True)\n",
    "# full_common_all.reset_index(drop=True, inplace=True)"
   ]
  },
  {
   "cell_type": "code",
   "execution_count": null,
   "metadata": {
    "ExecuteTime": {
     "end_time": "2019-11-19T12:55:49.705938Z",
     "start_time": "2019-11-19T12:55:49.292750Z"
    }
   },
   "outputs": [],
   "source": [
    "# full_common_all[['note']] = full_common_all.groupby('hadm_id')[['note']].ffill()\n",
    "\n",
    "# full_common_all.dropna(inplace=True)\n",
    "# full_common_all.reset_index(drop=True, inplace=True)\n",
    "\n",
    "# x = pd.DataFrame(full_common_all.isna().sum(), columns=['sum']).reset_index()\n",
    "# x['sum'].sum()"
   ]
  },
  {
   "cell_type": "markdown",
   "metadata": {},
   "source": [
    "### Notes only"
   ]
  },
  {
   "cell_type": "code",
   "execution_count": null,
   "metadata": {
    "ExecuteTime": {
     "end_time": "2019-11-22T15:44:45.726406Z",
     "start_time": "2019-11-22T15:44:45.605061Z"
    }
   },
   "outputs": [],
   "source": [
    "df = set_group_splits(notes_common_all.copy(), group_col='hadm_id', seed=seed)\n",
    "\n",
    "train_df = df[df['split'] == 'train']\n",
    "test_df = df[df['split'] == 'test']\n",
    "\n",
    "g = train_df.groupby(['imi_adm_label']).size().to_numpy()\n",
    "print(f\"Prevalence of positive class in training set:{(g[1]/g.sum())*100:0.1f}%\")\n",
    "g = test_df.groupby(['imi_adm_label']).size().to_numpy()\n",
    "print(f\"Prevalence of positive class in test set:{(g[1]/g.sum())*100:0.1f}%\")"
   ]
  },
  {
   "cell_type": "code",
   "execution_count": null,
   "metadata": {
    "ExecuteTime": {
     "end_time": "2019-11-22T15:44:45.756476Z",
     "start_time": "2019-11-22T15:44:45.728406Z"
    }
   },
   "outputs": [],
   "source": [
    "# vectorizer = TfidfVectorizer(ngram_range=(1,2), max_features=60_000)\n",
    "# x_note_train = vectorizer.fit_transform(train_df['note'])\n",
    "# x_note_test = vectorizer.transform(test_df['note'])\n",
    "\n",
    "# with open(args.workdir/f'vectordir/bi_gram_all_643.pkl', 'wb') as f:\n",
    "#   pickle.dump(vectorizer, f)\n",
    "#   pickle.dump(x_note_train, f)\n",
    "#   pickle.dump(x_note_test, f)"
   ]
  },
  {
   "cell_type": "code",
   "execution_count": null,
   "metadata": {
    "ExecuteTime": {
     "end_time": "2019-11-22T15:44:46.339066Z",
     "start_time": "2019-11-22T15:44:45.758393Z"
    }
   },
   "outputs": [],
   "source": [
    "with open(args.workdir/f'vectordir/bi_gram_all_643.pkl', 'rb') as f:\n",
    "  vectorizer = pickle.load(f)\n",
    "  x_note_train = pickle.load(f)\n",
    "  x_note_test = pickle.load(f)\n",
    "  \n",
    "y_train, y_test = train_df['imi_adm_label'], test_df['imi_adm_label']\n",
    "x_note_train.shape, x_note_test.shape, y_train.shape, y_test.shape"
   ]
  },
  {
   "cell_type": "code",
   "execution_count": null,
   "metadata": {
    "ExecuteTime": {
     "end_time": "2019-11-22T15:44:50.495476Z",
     "start_time": "2019-11-22T15:44:46.340729Z"
    }
   },
   "outputs": [],
   "source": [
    "clf = LogisticRegression(class_weight='balanced')\n",
    "clf.fit(x_note_train, y_train)\n",
    "\n",
    "prob = clf.predict_proba(x_note_test)\n",
    "pos_prob = prob[:, 1]\n",
    "\n",
    "labels = ['Delayed', 'Imminent']\n",
    "label_test = [labels[i] for i in y_test]"
   ]
  },
  {
   "cell_type": "code",
   "execution_count": null,
   "metadata": {
    "ExecuteTime": {
     "end_time": "2019-11-19T22:36:48.240405Z",
     "start_time": "2019-11-19T22:36:47.852641Z"
    }
   },
   "outputs": [],
   "source": [
    "fig, ax = plt.subplots(figsize=(10,8))\n",
    "plot_roc(label_test, prob, title='', ax=ax)\n",
    "ax.set_xlabel('1 - Specificity')\n",
    "ax.set_ylabel('Sensitivity')"
   ]
  },
  {
   "cell_type": "code",
   "execution_count": null,
   "metadata": {
    "ExecuteTime": {
     "end_time": "2019-11-22T15:44:50.614680Z",
     "start_time": "2019-11-22T15:44:50.498498Z"
    }
   },
   "outputs": [],
   "source": [
    "save = True"
   ]
  },
  {
   "cell_type": "code",
   "execution_count": null,
   "metadata": {
    "ExecuteTime": {
     "end_time": "2019-11-22T15:45:08.706467Z",
     "start_time": "2019-11-22T15:45:07.752795Z"
    }
   },
   "outputs": [],
   "source": [
    "fig, ax = plt.subplots(figsize=(20, 10))\n",
    "plot_thresh_range(ax, y_test, pos_prob, lower=0.1, upper=0.81, n_vals=100)\n",
    "\n",
    "if save:\n",
    "  fig.savefig(args.figdir/f'{args.model}_notes_all_metrics_vary.pdf', dpi=300)"
   ]
  },
  {
   "cell_type": "code",
   "execution_count": null,
   "metadata": {
    "ExecuteTime": {
     "end_time": "2019-11-22T15:45:17.532060Z",
     "start_time": "2019-11-22T15:45:16.700461Z"
    }
   },
   "outputs": [],
   "source": [
    "fig, ax = plt.subplots(figsize=(20, 10))\n",
    "best_threshold = plot_thresh_metric(ax, y_test, pos_prob, lower=0.1, upper=0.81, n_vals=100)\n",
    "ax.text(0.71, ax.get_ylim()[1] * 0.9, f'Optimum Threshold = {best_threshold[0]}', fontsize=12, color='b')\n",
    "print(best_threshold)\n",
    "\n",
    "if save:\n",
    "  fig.savefig(args.figdir/f'{args.model}_notes_all_threshold_guide.pdf', dpi=300)"
   ]
  },
  {
   "cell_type": "code",
   "execution_count": null,
   "metadata": {
    "ExecuteTime": {
     "end_time": "2019-11-19T22:36:49.811378Z",
     "start_time": "2019-11-19T22:36:49.776445Z"
    }
   },
   "outputs": [],
   "source": [
    "threshold = 0.46\n",
    "pred = (pos_prob > threshold).astype(np.int64)\n",
    "label_preds = [labels[i] for i in pred]\n",
    "cm = confusion_matrix(y_test, pred)\n",
    "tn,fp,fn,tp = cm[0][0],cm[0][1],cm[1][0],cm[1][1]\n",
    "sensitivity = tp/(tp+fn)\n",
    "specificity = tn/(tn+fp)\n",
    "ppv = tp/(tp+fp)\n",
    "npv = tn/(tn+fn)\n",
    "f1 = (2*ppv*sensitivity)/(ppv+sensitivity)\n",
    "auroc = roc_auc_score(y_test, pos_prob)\n",
    "\n",
    "d = {\n",
    "  'sensitivity': np.round(sensitivity, 3),\n",
    "  'specificity': np.round(specificity, 3),\n",
    "  'ppv': np.round(ppv, 3),\n",
    "  'npv': np.round(npv, 3),\n",
    "  'f1': np.round(f1, 3),\n",
    "  'auroc': np.round(auroc, 3),\n",
    "  'threshold': threshold,\n",
    "}\n",
    "metrics = pd.DataFrame(d.values(), index=d.keys(), columns=['Value'])\n",
    "metrics"
   ]
  },
  {
   "cell_type": "code",
   "execution_count": null,
   "metadata": {
    "ExecuteTime": {
     "end_time": "2019-11-19T17:27:11.968280Z",
     "start_time": "2019-11-19T17:27:11.605293Z"
    }
   },
   "outputs": [],
   "source": [
    "fig, ax = plt.subplots(figsize=(11, 8))\n",
    "plot_confusion_matrix(label_test, label_preds, x_tick_rotation=45, ax=ax, normalize=True)"
   ]
  },
  {
   "cell_type": "markdown",
   "metadata": {},
   "source": [
    "### Notes and All structured"
   ]
  },
  {
   "cell_type": "code",
   "execution_count": null,
   "metadata": {
    "ExecuteTime": {
     "end_time": "2019-11-29T18:09:57.709713Z",
     "start_time": "2019-11-29T18:09:57.470109Z"
    }
   },
   "outputs": [],
   "source": [
    "df = set_group_splits(full_common_all.copy(), group_col='hadm_id', seed=seed)\n",
    "\n",
    "train_df = df[df['split'] == 'train']\n",
    "test_df = df[df['split'] == 'test']\n",
    "\n",
    "g = train_df.groupby(['imi_adm_label']).size().to_numpy()\n",
    "print(f\"Prevalence of positive class in training set:{(g[1]/g.sum())*100:0.1f}%\")\n",
    "g = test_df.groupby(['imi_adm_label']).size().to_numpy()\n",
    "print(f\"Prevalence of positive class in test set:{(g[1]/g.sum())*100:0.1f}%\")"
   ]
  },
  {
   "cell_type": "code",
   "execution_count": null,
   "metadata": {
    "ExecuteTime": {
     "end_time": "2019-11-29T18:09:57.735398Z",
     "start_time": "2019-11-29T18:09:57.711382Z"
    }
   },
   "outputs": [],
   "source": [
    "# vectorizer = TfidfVectorizer(ngram_range=(1,2), max_features=60_000)\n",
    "# x_note_train = vectorizer.fit_transform(train_df['note'])\n",
    "# x_note_test = vectorizer.transform(test_df['note'])\n",
    "\n",
    "# with open(args.workdir/f'vectordir/bi_gram_full_vital_643.pkl', 'wb') as f:\n",
    "#   pickle.dump(vectorizer, f)\n",
    "#   pickle.dump(x_note_train, f)\n",
    "#   pickle.dump(x_note_test, f)"
   ]
  },
  {
   "cell_type": "code",
   "execution_count": null,
   "metadata": {
    "ExecuteTime": {
     "end_time": "2019-11-29T18:09:58.448327Z",
     "start_time": "2019-11-29T18:09:57.736713Z"
    }
   },
   "outputs": [],
   "source": [
    "with open(args.workdir/f'vectordir/bi_gram_all_643.pkl', 'rb') as f:\n",
    "  vectorizer = pickle.load(f)\n",
    "  x_note_train = pickle.load(f)\n",
    "  x_note_test = pickle.load(f)\n",
    "  \n",
    "y_train, y_test = train_df['imi_adm_label'], test_df['imi_adm_label']\n",
    "x_note_train.shape, x_note_test.shape, y_train.shape, y_test.shape"
   ]
  },
  {
   "cell_type": "code",
   "execution_count": null,
   "metadata": {
    "ExecuteTime": {
     "end_time": "2019-11-29T18:09:58.494783Z",
     "start_time": "2019-11-29T18:09:58.449816Z"
    }
   },
   "outputs": [],
   "source": [
    "x_str_train, x_str_test = train_df[args.str_all_cols].values, test_df[args.str_all_cols].values\n",
    "x_str_train.shape, x_str_test.shape"
   ]
  },
  {
   "cell_type": "code",
   "execution_count": null,
   "metadata": {
    "ExecuteTime": {
     "end_time": "2019-11-29T18:09:59.871337Z",
     "start_time": "2019-11-29T18:09:58.496198Z"
    }
   },
   "outputs": [],
   "source": [
    "x_train = scipy.sparse.hstack((x_str_train, x_note_train)).tocsr()\n",
    "x_test = scipy.sparse.hstack((x_str_test, x_note_test)).tocsr()\n",
    "x_train.shape, x_test.shape"
   ]
  },
  {
   "cell_type": "code",
   "execution_count": null,
   "metadata": {
    "ExecuteTime": {
     "end_time": "2019-11-29T18:14:13.061811Z",
     "start_time": "2019-11-29T18:09:59.872646Z"
    }
   },
   "outputs": [],
   "source": [
    "clf = LogisticRegression(class_weight='balanced')\n",
    "clf.fit(x_train, y_train)\n",
    "\n",
    "prob = clf.predict_proba(x_test)\n",
    "pos_prob = prob[:, 1]\n",
    "\n",
    "labels = ['Delayed', 'Imminent']\n",
    "label_test = [labels[i] for i in y_test]"
   ]
  },
  {
   "cell_type": "code",
   "execution_count": null,
   "metadata": {
    "ExecuteTime": {
     "end_time": "2019-11-29T18:14:13.536475Z",
     "start_time": "2019-11-29T18:14:13.063987Z"
    }
   },
   "outputs": [],
   "source": [
    "fig, ax = plt.subplots(figsize=(10,8))\n",
    "plot_roc(label_test, prob, title='', ax=ax)\n",
    "ax.set_xlabel('1 - Specificity')\n",
    "ax.set_ylabel('Sensitivity')"
   ]
  },
  {
   "cell_type": "code",
   "execution_count": null,
   "metadata": {
    "ExecuteTime": {
     "end_time": "2019-11-29T18:14:14.228770Z",
     "start_time": "2019-11-29T18:14:13.538222Z"
    }
   },
   "outputs": [],
   "source": [
    "fig, ax = plt.subplots(figsize=(20, 10))\n",
    "plot_thresh_range(ax, y_test, pos_prob, lower=0.1, upper=0.81, n_vals=100)\n",
    "\n",
    "if save:\n",
    "  fig.savefig(args.figdir/f'{args.model}_full_all_metrics_vary.pdf', dpi=300)"
   ]
  },
  {
   "cell_type": "code",
   "execution_count": null,
   "metadata": {
    "ExecuteTime": {
     "end_time": "2019-11-29T18:14:14.891863Z",
     "start_time": "2019-11-29T18:14:14.229983Z"
    }
   },
   "outputs": [],
   "source": [
    "fig, ax = plt.subplots(figsize=(20, 10))\n",
    "best_threshold = plot_thresh_metric(ax, y_test, pos_prob, lower=0.1, upper=0.81, n_vals=100)\n",
    "ax.text(0.71, ax.get_ylim()[1] * 0.9, f'Optimum Threshold = {best_threshold[0]}', fontsize=12, color='b')\n",
    "print(best_threshold)\n",
    "\n",
    "if save:\n",
    "  fig.savefig(args.figdir/f'{args.model}_full_all_threshold_guide.pdf', dpi=300)"
   ]
  },
  {
   "cell_type": "code",
   "execution_count": null,
   "metadata": {
    "ExecuteTime": {
     "end_time": "2019-11-29T18:14:14.926914Z",
     "start_time": "2019-11-29T18:14:14.892956Z"
    }
   },
   "outputs": [],
   "source": [
    "threshold = 0.5\n",
    "pred = (pos_prob > threshold).astype(np.int64)\n",
    "label_preds = [labels[i] for i in pred]\n",
    "cm = confusion_matrix(y_test, pred)\n",
    "tn,fp,fn,tp = cm[0][0],cm[0][1],cm[1][0],cm[1][1]\n",
    "sensitivity = tp/(tp+fn)\n",
    "specificity = tn/(tn+fp)\n",
    "ppv = tp/(tp+fp)\n",
    "npv = tn/(tn+fn)\n",
    "f1 = (2*ppv*sensitivity)/(ppv+sensitivity)\n",
    "auroc = roc_auc_score(y_test, pos_prob)\n",
    "\n",
    "d = {\n",
    "  'sensitivity': np.round(sensitivity, 3),\n",
    "  'specificity': np.round(specificity, 3),\n",
    "  'ppv': np.round(ppv, 3),\n",
    "  'npv': np.round(npv, 3),\n",
    "  'f1': np.round(f1, 3),\n",
    "  'auroc': np.round(auroc, 3),\n",
    "  'threshold': threshold,\n",
    "}\n",
    "metrics = pd.DataFrame(d.values(), index=d.keys(), columns=['Value'])\n",
    "metrics"
   ]
  },
  {
   "cell_type": "code",
   "execution_count": null,
   "metadata": {
    "ExecuteTime": {
     "end_time": "2019-11-29T18:14:15.171002Z",
     "start_time": "2019-11-29T18:14:14.927968Z"
    }
   },
   "outputs": [],
   "source": [
    "fig, ax = plt.subplots(figsize=(11, 8))\n",
    "plot_confusion_matrix(label_test, label_preds, x_tick_rotation=45, ax=ax, normalize=False)"
   ]
  },
  {
   "cell_type": "code",
   "execution_count": null,
   "metadata": {},
   "outputs": [],
   "source": [
    "pos = 1220\n",
    "control = 4898"
   ]
  },
  {
   "cell_type": "markdown",
   "metadata": {},
   "source": [
    "## Metrics"
   ]
  },
  {
   "cell_type": "code",
   "execution_count": null,
   "metadata": {
    "ExecuteTime": {
     "end_time": "2019-11-05T20:03:34.735548Z",
     "start_time": "2019-11-05T20:03:34.094158Z"
    }
   },
   "outputs": [],
   "source": [
    "with open(args.workdir/f'preds.pkl', 'rb') as f:\n",
    "  targs = pickle.load(f)\n",
    "  probs = pickle.load(f)\n",
    "  preds = pickle.load(f)\n",
    "\n",
    "bam = BinaryAvgMetrics(targs, preds, [prob[:, 1] for prob in probs])\n",
    "bam.get_avg_metrics(defn=True)"
   ]
  },
  {
   "cell_type": "code",
   "execution_count": null,
   "metadata": {
    "ExecuteTime": {
     "end_time": "2019-11-05T20:03:35.380710Z",
     "start_time": "2019-11-05T20:03:35.151401Z"
    }
   },
   "outputs": [],
   "source": [
    "bam.get_avg_metrics(conf=0.95)"
   ]
  },
  {
   "cell_type": "code",
   "execution_count": null,
   "metadata": {
    "ExecuteTime": {
     "end_time": "2019-11-05T20:03:43.520695Z",
     "start_time": "2019-11-05T20:03:42.911343Z"
    }
   },
   "outputs": [],
   "source": [
    "fig, ax = plt.subplots(figsize=(11, 8))\n",
    "plot_cm(ax, bam.cm_avg, ['Delayed', 'Imminent'])\n",
    "\n",
    "if save:\n",
    "  fig.savefig(args.figdir/f'mean_cm.pdf', dpi=300)"
   ]
  },
  {
   "cell_type": "code",
   "execution_count": null,
   "metadata": {
    "ExecuteTime": {
     "end_time": "2019-11-05T20:03:57.419766Z",
     "start_time": "2019-11-05T20:03:56.974174Z"
    }
   },
   "outputs": [],
   "source": [
    "fig, ax = plt.subplots(figsize=(10, 8))\n",
    "plot_mean_roc(ax, bam.targs, probs)\n",
    "\n",
    "if save:\n",
    "  fig.savefig(args.figdir/f'mean_roc.pdf', dpi=300)"
   ]
  }
 ],
 "metadata": {
  "kernelspec": {
   "display_name": "Python 3",
   "language": "python",
   "name": "python3"
  },
  "language_info": {
   "codemirror_mode": {
    "name": "ipython",
    "version": 3
   },
   "file_extension": ".py",
   "mimetype": "text/x-python",
   "name": "python",
   "nbconvert_exporter": "python",
   "pygments_lexer": "ipython3",
   "version": "3.7.5"
  },
  "toc": {
   "base_numbering": 1,
   "nav_menu": {},
   "number_sections": true,
   "sideBar": true,
   "skip_h1_title": true,
   "title_cell": "Table of Contents",
   "title_sidebar": "Contents",
   "toc_cell": false,
   "toc_position": {},
   "toc_section_display": true,
   "toc_window_display": false
  }
 },
 "nbformat": 4,
 "nbformat_minor": 2
}
