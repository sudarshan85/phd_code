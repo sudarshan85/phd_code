{
 "cells": [
  {
   "cell_type": "markdown",
   "metadata": {},
   "source": [
    "# Imminent ICU Admission Classifier with Logistic Regression"
   ]
  },
  {
   "cell_type": "markdown",
   "metadata": {},
   "source": [
    "## Imports & Inits"
   ]
  },
  {
   "cell_type": "code",
   "execution_count": 1,
   "metadata": {
    "ExecuteTime": {
     "end_time": "2019-12-18T22:40:42.945542Z",
     "start_time": "2019-12-18T22:40:40.942552Z"
    }
   },
   "outputs": [],
   "source": [
    "%load_ext autoreload\n",
    "%autoreload 2\n",
    "\n",
    "import sys\n",
    "sys.path.append('../../')\n",
    "\n",
    "import warnings\n",
    "warnings.filterwarnings(\"ignore\", category=UserWarning)\n",
    "\n",
    "import pickle\n",
    "import scipy\n",
    "\n",
    "import pandas as pd\n",
    "import numpy as np\n",
    "np.set_printoptions(precision=4)\n",
    "\n",
    "from tqdm.notebook import tqdm\n",
    "import matplotlib.pyplot as plt\n",
    "import seaborn as sns\n",
    "sns.set_style(\"darkgrid\")\n",
    "%matplotlib inline\n",
    "\n",
    "from pathlib import Path\n",
    "\n",
    "from sklearn.linear_model import LogisticRegression\n",
    "from sklearn.feature_extraction.text import TfidfVectorizer\n",
    "from scikitplot.metrics import *\n",
    "\n",
    "from utils.data_utils import set_group_splits\n",
    "from utils.metrics import BinaryAvgMetrics, get_best_model\n",
    "from utils.plots import *"
   ]
  },
  {
   "cell_type": "code",
   "execution_count": 4,
   "metadata": {
    "ExecuteTime": {
     "end_time": "2019-12-18T22:42:06.957889Z",
     "start_time": "2019-12-18T22:42:06.907412Z"
    }
   },
   "outputs": [
    {
     "data": {
      "text/plain": [
       "{'path': PosixPath('../data'),\n",
       " 'workdir': PosixPath('../data/workdir/lr'),\n",
       " 'figdir': PosixPath('../data/workdir/lr/figures'),\n",
       " 'structured_csv': PosixPath('../data/modelready_structured.csv'),\n",
       " 'unstructured_csv': PosixPath('../data/modelready_unstructured.csv'),\n",
       " 'mm_csv': PosixPath('../data/modelready_mm.csv'),\n",
       " 'modeldir': PosixPath('../data/workdir/lr/models'),\n",
       " 'vectordir': PosixPath('../data/workdir/vectordir'),\n",
       " 'str_cols_pkl': PosixPath('../data/str_cols.pkl')}"
      ]
     },
     "execution_count": 4,
     "metadata": {},
     "output_type": "execute_result"
    }
   ],
   "source": [
    "from args import args\n",
    "vars(args)"
   ]
  },
  {
   "cell_type": "code",
   "execution_count": 5,
   "metadata": {
    "ExecuteTime": {
     "end_time": "2019-12-18T22:42:08.520705Z",
     "start_time": "2019-12-18T22:42:08.471988Z"
    }
   },
   "outputs": [],
   "source": [
    "str_cols = pickle.load(open(args.str_cols_pkl, 'rb'))\n",
    "cols = ['hadm_id'] + str_cols + ['note', 'imi_adm_label']"
   ]
  },
  {
   "cell_type": "code",
   "execution_count": 9,
   "metadata": {
    "ExecuteTime": {
     "end_time": "2019-12-18T22:43:02.909766Z",
     "start_time": "2019-12-18T22:43:01.124389Z"
    }
   },
   "outputs": [
    {
     "data": {
      "text/plain": [
       "(33870, 51)"
      ]
     },
     "execution_count": 9,
     "metadata": {},
     "output_type": "execute_result"
    }
   ],
   "source": [
    "mm_notes_vitals = pd.read_csv(args.mm_csv, usecols=cols)\n",
    "mm_notes_vitals = mm_notes_vitals[mm_notes_vitals['imi_adm_label'] != -1].reset_index(drop=True)\n",
    "\n",
    "notes_common = mm_notes_vitals[['hadm_id', 'note', 'imi_adm_label']].copy().reset_index(drop=True)\n",
    "vitals_common = mm_notes_vitals[['hadm_id'] + str_cols + ['imi_adm_label']].copy().reset_index(drop=True)\n",
    "\n",
    "print(vitals_common.shape, notes_common.shape, mm_notes_vitals.shape, vitals_common['hadm_id'].nunique(), notes_common['hadm_id'].nunique(), mm_notes_vitals['hadm_id'].nunique())"
   ]
  },
  {
   "cell_type": "code",
   "execution_count": 16,
   "metadata": {
    "ExecuteTime": {
     "end_time": "2019-12-18T22:52:13.195786Z",
     "start_time": "2019-12-18T22:52:13.148392Z"
    }
   },
   "outputs": [],
   "source": [
    "seed = 643\n",
    "save = False"
   ]
  },
  {
   "cell_type": "markdown",
   "metadata": {},
   "source": [
    "## Unstructured Data Classifier Dev"
   ]
  },
  {
   "cell_type": "code",
   "execution_count": 17,
   "metadata": {
    "ExecuteTime": {
     "end_time": "2019-12-18T22:52:21.113826Z",
     "start_time": "2019-12-18T22:52:20.833772Z"
    }
   },
   "outputs": [
    {
     "name": "stdout",
     "output_type": "stream",
     "text": [
      "Prevalence of positive class in training set:23.0%\n",
      "Prevalence of positive class in test set:19.9%\n"
     ]
    }
   ],
   "source": [
    "df = set_group_splits(notes_common.copy(), group_col='hadm_id', seed=seed)\n",
    "\n",
    "train_df = df[df['split'] == 'train']\n",
    "test_df = df[df['split'] == 'test']\n",
    "\n",
    "g = train_df.groupby(['imi_adm_label']).size().to_numpy()\n",
    "print(f\"Prevalence of positive class in training set:{(g[1]/g.sum())*100:0.1f}%\")\n",
    "g = test_df.groupby(['imi_adm_label']).size().to_numpy()\n",
    "print(f\"Prevalence of positive class in test set:{(g[1]/g.sum())*100:0.1f}%\")"
   ]
  },
  {
   "cell_type": "code",
   "execution_count": 19,
   "metadata": {
    "ExecuteTime": {
     "end_time": "2019-12-18T22:54:06.301005Z",
     "start_time": "2019-12-18T22:53:46.287783Z"
    }
   },
   "outputs": [],
   "source": [
    "# vectorizer = TfidfVectorizer(ngram_range=(1,2), max_features=60_000)\n",
    "# x_note_train = vectorizer.fit_transform(train_df['note'])\n",
    "# x_note_test = vectorizer.transform(test_df['note'])\n",
    "\n",
    "# with open(args.vectordir/f'bigram_643.pkl', 'wb') as f:\n",
    "#   pickle.dump(vectorizer, f)\n",
    "#   pickle.dump(x_note_train, f)\n",
    "#   pickle.dump(x_note_test, f)"
   ]
  },
  {
   "cell_type": "code",
   "execution_count": 20,
   "metadata": {
    "ExecuteTime": {
     "end_time": "2019-12-18T22:54:10.274475Z",
     "start_time": "2019-12-18T22:54:09.682066Z"
    }
   },
   "outputs": [
    {
     "data": {
      "text/plain": [
       "((27752, 60000), (6118, 60000), (27752,), (6118,))"
      ]
     },
     "execution_count": 20,
     "metadata": {},
     "output_type": "execute_result"
    }
   ],
   "source": [
    "with open(args.vectordir/'bigram_643.pkl', 'rb') as f:\n",
    "  vectorizer = pickle.load(f)\n",
    "  x_note_train = pickle.load(f)\n",
    "  x_note_test = pickle.load(f)\n",
    "  \n",
    "y_train, y_test = train_df['imi_adm_label'], test_df['imi_adm_label']\n",
    "x_note_train.shape, x_note_test.shape, y_train.shape, y_test.shape"
   ]
  },
  {
   "cell_type": "code",
   "execution_count": 21,
   "metadata": {
    "ExecuteTime": {
     "end_time": "2019-12-18T22:54:17.634304Z",
     "start_time": "2019-12-18T22:54:14.174835Z"
    }
   },
   "outputs": [
    {
     "name": "stderr",
     "output_type": "stream",
     "text": [
      "/net/vaosl01/opt/NFS/su0/anaconda3/envs/phd/lib/python3.7/site-packages/sklearn/linear_model/logistic.py:432: FutureWarning: Default solver will be changed to 'lbfgs' in 0.22. Specify a solver to silence this warning.\n",
      "  FutureWarning)\n"
     ]
    }
   ],
   "source": [
    "clf = LogisticRegression(class_weight='balanced')\n",
    "clf.fit(x_note_train, y_train)\n",
    "\n",
    "prob = clf.predict_proba(x_note_test)\n",
    "pos_prob = prob[:, 1]\n",
    "\n",
    "labels = ['Delayed', 'Imminent']\n",
    "label_test = [labels[i] for i in y_test]"
   ]
  },
  {
   "cell_type": "code",
   "execution_count": 22,
   "metadata": {
    "ExecuteTime": {
     "end_time": "2019-12-18T22:54:17.981104Z",
     "start_time": "2019-12-18T22:54:17.636543Z"
    }
   },
   "outputs": [
    {
     "data": {
      "text/plain": [
       "Text(0, 0.5, 'Sensitivity')"
      ]
     },
     "execution_count": 22,
     "metadata": {},
     "output_type": "execute_result"
    },
    {
     "data": {
      "image/png": "[encoded data removed]",
      "text/plain": [
       "<Figure size 720x576 with 1 Axes>"
      ]
     },
     "metadata": {
      "needs_background": "light"
     },
     "output_type": "display_data"
    }
   ],
   "source": [
    "fig, ax = plt.subplots(figsize=(10,8))\n",
    "plot_roc(label_test, prob, title='', ax=ax)\n",
    "ax.set_xlabel('1 - Specificity')\n",
    "ax.set_ylabel('Sensitivity')"
   ]
  },
  {
   "cell_type": "code",
   "execution_count": 24,
   "metadata": {
    "ExecuteTime": {
     "end_time": "2019-12-18T22:55:32.720884Z",
     "start_time": "2019-12-18T22:55:31.785115Z"
    }
   },
   "outputs": [
    {
     "data": {
      "image/png": "[encoded data removed]",
      "text/plain": [
       "<Figure size 1440x720 with 1 Axes>"
      ]
     },
     "metadata": {
      "needs_background": "light"
     },
     "output_type": "display_data"
    }
   ],
   "source": [
    "fig, ax = plt.subplots(figsize=(20, 10))\n",
    "plot_thresh_range(ax, y_test, pos_prob, lower=0.1, upper=0.81, n_vals=100)\n",
    "\n",
    "if save:\n",
    "  fig.savefig(args.figdir/f'lr_notes_vital_metrics_vary.pdf', dpi=300, box_inches='tight', pad_inches=0)"
   ]
  },
  {
   "cell_type": "code",
   "execution_count": 25,
   "metadata": {
    "ExecuteTime": {
     "end_time": "2019-12-18T22:55:37.434340Z",
     "start_time": "2019-12-18T22:55:36.495050Z"
    }
   },
   "outputs": [
    {
     "name": "stdout",
     "output_type": "stream",
     "text": [
      "Best Youden Threshold = 0.41\n"
     ]
    },
    {
     "data": {
      "image/png": "[encoded data removed]",
      "text/plain": [
       "<Figure size 1440x720 with 1 Axes>"
      ]
     },
     "metadata": {
      "needs_background": "light"
     },
     "output_type": "display_data"
    }
   ],
   "source": [
    "fig, ax = plt.subplots(figsize=(20, 10))\n",
    "best_threshold = plot_thresh_metric(ax, y_test, pos_prob, lower=0.1, upper=0.81, n_vals=100, show_f1=False)\n",
    "ax.text(0.71, ax.get_ylim()[1]*0.95, f'Optimum Threshold = {best_threshold[0]}', fontsize=12, color='b')\n",
    "print(f\"Best Youden Threshold = {best_threshold[0]}\")\n",
    "\n",
    "if save:\n",
    "  fig.savefig(args.figdir/f'lr_notes_vital_threshold_guide.pdf', dpi=300, box_inches='tight', pad_inches=0)"
   ]
  },
  {
   "cell_type": "code",
   "execution_count": 26,
   "metadata": {
    "ExecuteTime": {
     "end_time": "2019-12-18T22:55:43.288276Z",
     "start_time": "2019-12-18T22:55:43.201383Z"
    }
   },
   "outputs": [
    {
     "data": {
      "text/html": [
       "<div>\n",
       "<style scoped>\n",
       "    .dataframe tbody tr th:only-of-type {\n",
       "        vertical-align: middle;\n",
       "    }\n",
       "\n",
       "    .dataframe tbody tr th {\n",
       "        vertical-align: top;\n",
       "    }\n",
       "\n",
       "    .dataframe thead th {\n",
       "        text-align: right;\n",
       "    }\n",
       "</style>\n",
       "<table border=\"1\" class=\"dataframe\">\n",
       "  <thead>\n",
       "    <tr style=\"text-align: right;\">\n",
       "      <th></th>\n",
       "      <th>Value</th>\n",
       "    </tr>\n",
       "  </thead>\n",
       "  <tbody>\n",
       "    <tr>\n",
       "      <th>sensitivity</th>\n",
       "      <td>0.799</td>\n",
       "    </tr>\n",
       "    <tr>\n",
       "      <th>specificity</th>\n",
       "      <td>0.609</td>\n",
       "    </tr>\n",
       "    <tr>\n",
       "      <th>ppv</th>\n",
       "      <td>0.338</td>\n",
       "    </tr>\n",
       "    <tr>\n",
       "      <th>npv</th>\n",
       "      <td>0.924</td>\n",
       "    </tr>\n",
       "    <tr>\n",
       "      <th>f1</th>\n",
       "      <td>0.475</td>\n",
       "    </tr>\n",
       "    <tr>\n",
       "      <th>auroc</th>\n",
       "      <td>0.780</td>\n",
       "    </tr>\n",
       "    <tr>\n",
       "      <th>threshold</th>\n",
       "      <td>0.410</td>\n",
       "    </tr>\n",
       "  </tbody>\n",
       "</table>\n",
       "</div>"
      ],
      "text/plain": [
       "             Value\n",
       "sensitivity  0.799\n",
       "specificity  0.609\n",
       "ppv          0.338\n",
       "npv          0.924\n",
       "f1           0.475\n",
       "auroc        0.780\n",
       "threshold    0.410"
      ]
     },
     "execution_count": 26,
     "metadata": {},
     "output_type": "execute_result"
    }
   ],
   "source": [
    "threshold = 0.41\n",
    "pred = (pos_prob > threshold).astype(np.int64)\n",
    "label_preds = [labels[i] for i in pred]\n",
    "cm = confusion_matrix(y_test, pred)\n",
    "tn,fp,fn,tp = cm[0][0],cm[0][1],cm[1][0],cm[1][1]\n",
    "sensitivity = tp/(tp+fn)\n",
    "specificity = tn/(tn+fp)\n",
    "ppv = tp/(tp+fp)\n",
    "npv = tn/(tn+fn)\n",
    "f1 = (2*ppv*sensitivity)/(ppv+sensitivity)\n",
    "auroc = roc_auc_score(y_test, pos_prob)\n",
    "\n",
    "d = {\n",
    "  'sensitivity': np.round(sensitivity, 3),\n",
    "  'specificity': np.round(specificity, 3),\n",
    "  'ppv': np.round(ppv, 3),\n",
    "  'npv': np.round(npv, 3),\n",
    "  'f1': np.round(f1, 3),\n",
    "  'auroc': np.round(auroc, 3),\n",
    "  'threshold': threshold,\n",
    "}\n",
    "metrics = pd.DataFrame(d.values(), index=d.keys(), columns=['Value'])\n",
    "metrics"
   ]
  },
  {
   "cell_type": "code",
   "execution_count": null,
   "metadata": {
    "ExecuteTime": {
     "end_time": "2019-12-18T22:19:04.058164Z",
     "start_time": "2019-12-18T22:19:03.818744Z"
    }
   },
   "outputs": [],
   "source": [
    "fig, ax = plt.subplots(figsize=(11, 8))\n",
    "plot_confusion_matrix(label_test, label_preds, x_tick_rotation=45, ax=ax, normalize=False)"
   ]
  },
  {
   "cell_type": "markdown",
   "metadata": {},
   "source": [
    "## Multimodal Classifier Dev"
   ]
  },
  {
   "cell_type": "code",
   "execution_count": 27,
   "metadata": {
    "ExecuteTime": {
     "end_time": "2019-12-18T22:55:55.956770Z",
     "start_time": "2019-12-18T22:55:55.791470Z"
    }
   },
   "outputs": [
    {
     "name": "stdout",
     "output_type": "stream",
     "text": [
      "Prevalence of positive class in training set:23.0%\n",
      "Prevalence of positive class in test set:19.9%\n"
     ]
    }
   ],
   "source": [
    "df = set_group_splits(mm_notes_vitals.copy(), group_col='hadm_id', seed=seed)\n",
    "\n",
    "train_df = df[df['split'] == 'train']\n",
    "test_df = df[df['split'] == 'test']\n",
    "\n",
    "g = train_df.groupby(['imi_adm_label']).size().to_numpy()\n",
    "print(f\"Prevalence of positive class in training set:{(g[1]/g.sum())*100:0.1f}%\")\n",
    "g = test_df.groupby(['imi_adm_label']).size().to_numpy()\n",
    "print(f\"Prevalence of positive class in test set:{(g[1]/g.sum())*100:0.1f}%\")"
   ]
  },
  {
   "cell_type": "code",
   "execution_count": null,
   "metadata": {
    "ExecuteTime": {
     "end_time": "2019-12-18T22:19:26.715479Z",
     "start_time": "2019-12-18T22:19:25.989841Z"
    }
   },
   "outputs": [],
   "source": [
    "with open(args.vectordir/'bigram_643.pkl', 'rb') as f:\n",
    "  vectorizer = pickle.load(f)\n",
    "  x_note_train = pickle.load(f)\n",
    "  x_note_test = pickle.load(f)\n",
    "  \n",
    "y_train, y_test = train_df['imi_adm_label'], test_df['imi_adm_label']\n",
    "x_note_train.shape, x_note_test.shape, y_train.shape, y_test.shape"
   ]
  },
  {
   "cell_type": "code",
   "execution_count": null,
   "metadata": {
    "ExecuteTime": {
     "end_time": "2019-12-18T22:19:30.135689Z",
     "start_time": "2019-12-18T22:19:30.031087Z"
    }
   },
   "outputs": [],
   "source": [
    "str_cols = pickle.load(open(args.str_cols_pkl, 'rb'))\n",
    "\n",
    "x_vitals_train, x_vitals_test = train_df[str_cols].values, test_df[str_cols].values\n",
    "x_vitals_train.shape, x_vitals_test.shape"
   ]
  },
  {
   "cell_type": "code",
   "execution_count": null,
   "metadata": {
    "ExecuteTime": {
     "end_time": "2019-12-18T22:19:34.414043Z",
     "start_time": "2019-12-18T22:19:33.374447Z"
    }
   },
   "outputs": [],
   "source": [
    "x_train = scipy.sparse.hstack((x_vitals_train, x_note_train)).tocsr()\n",
    "x_test = scipy.sparse.hstack((x_vitals_test, x_note_test)).tocsr()\n",
    "x_train.shape, x_test.shape"
   ]
  },
  {
   "cell_type": "code",
   "execution_count": null,
   "metadata": {
    "ExecuteTime": {
     "end_time": "2019-12-18T22:23:05.265869Z",
     "start_time": "2019-12-18T22:19:37.875133Z"
    }
   },
   "outputs": [],
   "source": [
    "clf = LogisticRegression(class_weight='balanced')\n",
    "clf.fit(x_train, y_train)\n",
    "\n",
    "prob = clf.predict_proba(x_test)\n",
    "pos_prob = prob[:, 1]\n",
    "\n",
    "labels = ['Delayed', 'Imminent']\n",
    "label_test = [labels[i] for i in y_test]"
   ]
  },
  {
   "cell_type": "code",
   "execution_count": null,
   "metadata": {
    "ExecuteTime": {
     "end_time": "2019-12-18T22:23:14.784905Z",
     "start_time": "2019-12-18T22:23:14.274521Z"
    }
   },
   "outputs": [],
   "source": [
    "fig, ax = plt.subplots(figsize=(10,8))\n",
    "plot_roc(label_test, prob, title='', ax=ax)\n",
    "ax.set_xlabel('1 - Specificity')\n",
    "ax.set_ylabel('Sensitivity')"
   ]
  },
  {
   "cell_type": "code",
   "execution_count": null,
   "metadata": {
    "ExecuteTime": {
     "end_time": "2019-12-18T22:23:18.492157Z",
     "start_time": "2019-12-18T22:23:17.589303Z"
    }
   },
   "outputs": [],
   "source": [
    "fig, ax = plt.subplots(figsize=(20, 10))\n",
    "plot_thresh_range(ax, y_test, pos_prob, lower=0.1, upper=0.81, n_vals=100)\n",
    "\n",
    "if save:\n",
    "  fig.savefig(args.figdir/f'lr_notes_vital_metrics_vary.pdf', dpi=300, box_inches='tight', pad_inches=0)"
   ]
  },
  {
   "cell_type": "code",
   "execution_count": null,
   "metadata": {
    "ExecuteTime": {
     "end_time": "2019-12-18T22:23:20.320812Z",
     "start_time": "2019-12-18T22:23:19.603174Z"
    }
   },
   "outputs": [],
   "source": [
    "fig, ax = plt.subplots(figsize=(20, 10))\n",
    "best_threshold = plot_thresh_metric(ax, y_test, pos_prob, lower=0.1, upper=0.81, n_vals=100, show_f1=False)\n",
    "ax.text(0.71, ax.get_ylim()[1]*0.95, f'Optimum Threshold = {best_threshold[0]}', fontsize=12, color='b')\n",
    "print(f\"Best Youden Threshold = {best_threshold[0]}\")\n",
    "\n",
    "if save:\n",
    "  fig.savefig(args.figdir/f'lr_notes_vital_threshold_guide.pdf', dpi=300, box_inches='tight', pad_inches=0)"
   ]
  },
  {
   "cell_type": "code",
   "execution_count": null,
   "metadata": {
    "ExecuteTime": {
     "end_time": "2019-12-18T22:23:22.849842Z",
     "start_time": "2019-12-18T22:23:22.761386Z"
    }
   },
   "outputs": [],
   "source": [
    "threshold = 0.37\n",
    "pred = (pos_prob > threshold).astype(np.int64)\n",
    "label_preds = [labels[i] for i in pred]\n",
    "cm = confusion_matrix(y_test, pred)\n",
    "tn,fp,fn,tp = cm[0][0],cm[0][1],cm[1][0],cm[1][1]\n",
    "sensitivity = tp/(tp+fn)\n",
    "specificity = tn/(tn+fp)\n",
    "ppv = tp/(tp+fp)\n",
    "npv = tn/(tn+fn)\n",
    "f1 = (2*ppv*sensitivity)/(ppv+sensitivity)\n",
    "auroc = roc_auc_score(y_test, pos_prob)\n",
    "\n",
    "d = {\n",
    "  'sensitivity': np.round(sensitivity, 3),\n",
    "  'specificity': np.round(specificity, 3),\n",
    "  'ppv': np.round(ppv, 3),\n",
    "  'npv': np.round(npv, 3),\n",
    "  'f1': np.round(f1, 3),\n",
    "  'auroc': np.round(auroc, 3),\n",
    "  'threshold': threshold,\n",
    "}\n",
    "metrics = pd.DataFrame(d.values(), index=d.keys(), columns=['Value'])\n",
    "metrics"
   ]
  },
  {
   "cell_type": "code",
   "execution_count": null,
   "metadata": {
    "ExecuteTime": {
     "end_time": "2019-12-18T20:46:11.564198Z",
     "start_time": "2019-12-18T20:46:11.175925Z"
    }
   },
   "outputs": [],
   "source": [
    "fig, ax = plt.subplots(figsize=(11, 8))\n",
    "plot_confusion_matrix(label_test, label_preds, x_tick_rotation=45, ax=ax, normalize=False)"
   ]
  },
  {
   "cell_type": "markdown",
   "metadata": {},
   "source": [
    "### Notes and Vitals"
   ]
  },
  {
   "cell_type": "code",
   "execution_count": null,
   "metadata": {
    "ExecuteTime": {
     "end_time": "2019-11-29T18:04:08.988888Z",
     "start_time": "2019-11-29T18:04:08.501339Z"
    }
   },
   "outputs": [],
   "source": [
    "df = set_group_splits(full_common_vital.copy(), group_col='hadm_id', seed=seed)\n",
    "\n",
    "train_df = df[df['split'] == 'train']\n",
    "test_df = df[df['split'] == 'test']\n",
    "\n",
    "g = train_df.groupby(['imi_adm_label']).size().to_numpy()\n",
    "print(f\"Prevalence of positive class in training set:{(g[1]/g.sum())*100:0.1f}%\")\n",
    "g = test_df.groupby(['imi_adm_label']).size().to_numpy()\n",
    "print(f\"Prevalence of positive class in test set:{(g[1]/g.sum())*100:0.1f}%\")"
   ]
  },
  {
   "cell_type": "code",
   "execution_count": null,
   "metadata": {
    "ExecuteTime": {
     "end_time": "2019-11-29T18:04:09.015477Z",
     "start_time": "2019-11-29T18:04:08.991109Z"
    }
   },
   "outputs": [],
   "source": [
    "# vectorizer = TfidfVectorizer(ngram_range=(1,2), max_features=60_000)\n",
    "# x_note_train = vectorizer.fit_transform(train_df['note'])\n",
    "# x_note_test = vectorizer.transform(test_df['note'])\n",
    "\n",
    "# with open(args.workdir/f'bi_gram_full_vital_643.pkl', 'wb') as f:\n",
    "#   pickle.dump(vectorizer, f)\n",
    "#   pickle.dump(x_note_train, f)\n",
    "#   pickle.dump(x_note_test, f)"
   ]
  },
  {
   "cell_type": "code",
   "execution_count": null,
   "metadata": {
    "ExecuteTime": {
     "end_time": "2019-11-29T18:04:09.726038Z",
     "start_time": "2019-11-29T18:04:09.017236Z"
    }
   },
   "outputs": [],
   "source": [
    "with open(args.workdir/f'vectordir/bi_gram_vital_643.pkl', 'rb') as f:\n",
    "  vectorizer = pickle.load(f)\n",
    "  x_note_train = pickle.load(f)\n",
    "  x_note_test = pickle.load(f)\n",
    "  \n",
    "y_train, y_test = train_df['imi_adm_label'], test_df['imi_adm_label']\n",
    "x_note_train.shape, x_note_test.shape, y_train.shape, y_test.shape"
   ]
  },
  {
   "cell_type": "code",
   "execution_count": null,
   "metadata": {
    "ExecuteTime": {
     "end_time": "2019-11-29T18:04:09.757464Z",
     "start_time": "2019-11-29T18:04:09.727572Z"
    }
   },
   "outputs": [],
   "source": [
    "x_str_train, x_str_test = train_df[args.str_vital_cols].values, test_df[args.str_vital_cols].values\n",
    "x_str_train.shape, x_str_test.shape"
   ]
  },
  {
   "cell_type": "code",
   "execution_count": null,
   "metadata": {
    "ExecuteTime": {
     "end_time": "2019-11-29T18:04:10.699989Z",
     "start_time": "2019-11-29T18:04:09.758724Z"
    }
   },
   "outputs": [],
   "source": [
    "x_train = scipy.sparse.hstack((x_str_train, x_note_train)).tocsr()\n",
    "x_test = scipy.sparse.hstack((x_str_test, x_note_test)).tocsr()\n",
    "x_train.shape, x_test.shape"
   ]
  },
  {
   "cell_type": "code",
   "execution_count": null,
   "metadata": {
    "ExecuteTime": {
     "end_time": "2019-11-29T18:08:01.877734Z",
     "start_time": "2019-11-29T18:04:10.701859Z"
    }
   },
   "outputs": [],
   "source": [
    "clf = LogisticRegression(class_weight='balanced')\n",
    "clf.fit(x_train, y_train)\n",
    "\n",
    "prob = clf.predict_proba(x_test)\n",
    "pos_prob = prob[:, 1]\n",
    "\n",
    "labels = ['Delayed', 'Imminent']\n",
    "label_test = [labels[i] for i in y_test]"
   ]
  },
  {
   "cell_type": "code",
   "execution_count": null,
   "metadata": {
    "ExecuteTime": {
     "end_time": "2019-11-29T18:08:02.354314Z",
     "start_time": "2019-11-29T18:08:01.881150Z"
    }
   },
   "outputs": [],
   "source": [
    "fig, ax = plt.subplots(figsize=(10,8))\n",
    "plot_roc(label_test, prob, title='', ax=ax)\n",
    "ax.set_xlabel('1 - Specificity')\n",
    "ax.set_ylabel('Sensitivity')"
   ]
  },
  {
   "cell_type": "code",
   "execution_count": null,
   "metadata": {
    "ExecuteTime": {
     "end_time": "2019-11-29T18:08:03.114819Z",
     "start_time": "2019-11-29T18:08:02.356429Z"
    }
   },
   "outputs": [],
   "source": [
    "fig, ax = plt.subplots(figsize=(20, 10))\n",
    "plot_thresh_range(ax, y_test, pos_prob, lower=0.1, upper=0.81, n_vals=100)\n",
    "\n",
    "if save:\n",
    "  fig.savefig(args.figdir/f'{args.model}_full_vital_metrics_vary.pdf', dpi=300)"
   ]
  },
  {
   "cell_type": "code",
   "execution_count": null,
   "metadata": {
    "ExecuteTime": {
     "end_time": "2019-11-29T18:08:03.872032Z",
     "start_time": "2019-11-29T18:08:03.116170Z"
    }
   },
   "outputs": [],
   "source": [
    "fig, ax = plt.subplots(figsize=(20, 10))\n",
    "best_threshold = plot_thresh_metric(ax, y_test, pos_prob, lower=0.1, upper=0.81, n_vals=100)\n",
    "ax.text(0.71, ax.get_ylim()[1] * 0.9, f'Optimum Threshold = {best_threshold[0]}', fontsize=12, color='b')\n",
    "print(best_threshold)\n",
    "\n",
    "if save:\n",
    "  fig.savefig(args.figdir/f'{args.model}_full_vital_threshold_guide.pdf', dpi=300)"
   ]
  },
  {
   "cell_type": "code",
   "execution_count": null,
   "metadata": {
    "ExecuteTime": {
     "end_time": "2019-11-29T18:08:03.909791Z",
     "start_time": "2019-11-29T18:08:03.873271Z"
    }
   },
   "outputs": [],
   "source": [
    "threshold = 0.43\n",
    "pred = (pos_prob > threshold).astype(np.int64)\n",
    "label_preds = [labels[i] for i in pred]\n",
    "cm = confusion_matrix(y_test, pred)\n",
    "tn,fp,fn,tp = cm[0][0],cm[0][1],cm[1][0],cm[1][1]\n",
    "sensitivity = tp/(tp+fn)\n",
    "specificity = tn/(tn+fp)\n",
    "ppv = tp/(tp+fp)\n",
    "npv = tn/(tn+fn)\n",
    "f1 = (2*ppv*sensitivity)/(ppv+sensitivity)\n",
    "auroc = roc_auc_score(y_test, pos_prob)\n",
    "\n",
    "d = {\n",
    "  'sensitivity': np.round(sensitivity, 3),\n",
    "  'specificity': np.round(specificity, 3),\n",
    "  'ppv': np.round(ppv, 3),\n",
    "  'npv': np.round(npv, 3),\n",
    "  'f1': np.round(f1, 3),\n",
    "  'auroc': np.round(auroc, 3),\n",
    "  'threshold': threshold,\n",
    "}\n",
    "metrics = pd.DataFrame(d.values(), index=d.keys(), columns=['Value'])\n",
    "metrics"
   ]
  },
  {
   "cell_type": "code",
   "execution_count": null,
   "metadata": {
    "ExecuteTime": {
     "end_time": "2019-11-29T18:08:04.146792Z",
     "start_time": "2019-11-29T18:08:03.910987Z"
    }
   },
   "outputs": [],
   "source": [
    "fig, ax = plt.subplots(figsize=(11, 8))\n",
    "plot_confusion_matrix(label_test, label_preds, x_tick_rotation=45, ax=ax, normalize=False)"
   ]
  },
  {
   "cell_type": "code",
   "execution_count": null,
   "metadata": {},
   "outputs": [],
   "source": [
    "pos = 1220\n",
    "control = 4898"
   ]
  },
  {
   "cell_type": "markdown",
   "metadata": {},
   "source": [
    "## All Single Model Dev"
   ]
  },
  {
   "cell_type": "code",
   "execution_count": null,
   "metadata": {
    "ExecuteTime": {
     "end_time": "2019-11-29T18:09:44.430672Z",
     "start_time": "2019-11-29T18:09:44.190463Z"
    }
   },
   "outputs": [],
   "source": [
    "args.str_all_cols = pickle.load(open(args.path/'str_all_cols.pkl', 'rb'))\n",
    "args.all_cols=['hadm_id'] + args.str_all_cols + ['note', 'imi_adm_label']"
   ]
  },
  {
   "cell_type": "code",
   "execution_count": null,
   "metadata": {
    "ExecuteTime": {
     "end_time": "2019-11-29T18:09:46.445873Z",
     "start_time": "2019-11-29T18:09:44.432808Z"
    }
   },
   "outputs": [],
   "source": [
    "full_common_all = pd.read_csv(args.all_csv, usecols=args.all_cols)\n",
    "full_common_all = full_common_all[full_common_all['imi_adm_label'] != -1].reset_index(drop=True)\n",
    "notes_common_all = full_common_all[['hadm_id', 'note', 'imi_adm_label']].copy().reset_index(drop=True)\n",
    "\n",
    "print(notes_common_all.shape, full_common_all.shape)\n",
    "notes_common_all['hadm_id'].nunique(), full_common_all['hadm_id'].nunique()"
   ]
  },
  {
   "cell_type": "code",
   "execution_count": null,
   "metadata": {
    "ExecuteTime": {
     "end_time": "2019-11-19T12:55:08.435471Z",
     "start_time": "2019-11-19T12:55:08.270785Z"
    }
   },
   "outputs": [],
   "source": [
    "# notes_common_all.dropna(inplace=True)\n",
    "# notes_common_all.reset_index(drop=True, inplace=True)\n",
    "\n",
    "# all_hadms = set(full_common_all['hadm_id'].unique()).intersection(notes_common_all['hadm_id'].unique())\n",
    "\n",
    "# full_common_all = full_common_all[full_common_all['hadm_id'].isin(all_hadms)].reset_index(drop=True)\n",
    "# notes_common_all = notes_common_all[notes_common_all['hadm_id'].isin(all_hadms)].reset_index(drop=True)\n",
    "\n",
    "# print(notes_common_all.shape, full_common_all.shape)\n",
    "# notes_common_all['hadm_id'].nunique(), full_common_all['hadm_id'].nunique()"
   ]
  },
  {
   "cell_type": "code",
   "execution_count": null,
   "metadata": {
    "ExecuteTime": {
     "end_time": "2019-11-19T12:52:40.722608Z",
     "start_time": "2019-11-19T12:52:37.866614Z"
    }
   },
   "outputs": [],
   "source": [
    "# full_common_all.dropna(inplace=True)\n",
    "# full_common_all.reset_index(drop=True, inplace=True)"
   ]
  },
  {
   "cell_type": "code",
   "execution_count": null,
   "metadata": {
    "ExecuteTime": {
     "end_time": "2019-11-19T12:55:49.705938Z",
     "start_time": "2019-11-19T12:55:49.292750Z"
    }
   },
   "outputs": [],
   "source": [
    "# full_common_all[['note']] = full_common_all.groupby('hadm_id')[['note']].ffill()\n",
    "\n",
    "# full_common_all.dropna(inplace=True)\n",
    "# full_common_all.reset_index(drop=True, inplace=True)\n",
    "\n",
    "# x = pd.DataFrame(full_common_all.isna().sum(), columns=['sum']).reset_index()\n",
    "# x['sum'].sum()"
   ]
  },
  {
   "cell_type": "markdown",
   "metadata": {},
   "source": [
    "### Notes only"
   ]
  },
  {
   "cell_type": "code",
   "execution_count": null,
   "metadata": {
    "ExecuteTime": {
     "end_time": "2019-11-22T15:44:45.726406Z",
     "start_time": "2019-11-22T15:44:45.605061Z"
    }
   },
   "outputs": [],
   "source": [
    "df = set_group_splits(notes_common_all.copy(), group_col='hadm_id', seed=seed)\n",
    "\n",
    "train_df = df[df['split'] == 'train']\n",
    "test_df = df[df['split'] == 'test']\n",
    "\n",
    "g = train_df.groupby(['imi_adm_label']).size().to_numpy()\n",
    "print(f\"Prevalence of positive class in training set:{(g[1]/g.sum())*100:0.1f}%\")\n",
    "g = test_df.groupby(['imi_adm_label']).size().to_numpy()\n",
    "print(f\"Prevalence of positive class in test set:{(g[1]/g.sum())*100:0.1f}%\")"
   ]
  },
  {
   "cell_type": "code",
   "execution_count": null,
   "metadata": {
    "ExecuteTime": {
     "end_time": "2019-11-22T15:44:45.756476Z",
     "start_time": "2019-11-22T15:44:45.728406Z"
    }
   },
   "outputs": [],
   "source": [
    "# vectorizer = TfidfVectorizer(ngram_range=(1,2), max_features=60_000)\n",
    "# x_note_train = vectorizer.fit_transform(train_df['note'])\n",
    "# x_note_test = vectorizer.transform(test_df['note'])\n",
    "\n",
    "# with open(args.workdir/f'vectordir/bi_gram_all_643.pkl', 'wb') as f:\n",
    "#   pickle.dump(vectorizer, f)\n",
    "#   pickle.dump(x_note_train, f)\n",
    "#   pickle.dump(x_note_test, f)"
   ]
  },
  {
   "cell_type": "code",
   "execution_count": null,
   "metadata": {
    "ExecuteTime": {
     "end_time": "2019-11-22T15:44:46.339066Z",
     "start_time": "2019-11-22T15:44:45.758393Z"
    }
   },
   "outputs": [],
   "source": [
    "with open(args.workdir/f'vectordir/bi_gram_all_643.pkl', 'rb') as f:\n",
    "  vectorizer = pickle.load(f)\n",
    "  x_note_train = pickle.load(f)\n",
    "  x_note_test = pickle.load(f)\n",
    "  \n",
    "y_train, y_test = train_df['imi_adm_label'], test_df['imi_adm_label']\n",
    "x_note_train.shape, x_note_test.shape, y_train.shape, y_test.shape"
   ]
  },
  {
   "cell_type": "code",
   "execution_count": null,
   "metadata": {
    "ExecuteTime": {
     "end_time": "2019-11-22T15:44:50.495476Z",
     "start_time": "2019-11-22T15:44:46.340729Z"
    }
   },
   "outputs": [],
   "source": [
    "clf = LogisticRegression(class_weight='balanced')\n",
    "clf.fit(x_note_train, y_train)\n",
    "\n",
    "prob = clf.predict_proba(x_note_test)\n",
    "pos_prob = prob[:, 1]\n",
    "\n",
    "labels = ['Delayed', 'Imminent']\n",
    "label_test = [labels[i] for i in y_test]"
   ]
  },
  {
   "cell_type": "code",
   "execution_count": null,
   "metadata": {
    "ExecuteTime": {
     "end_time": "2019-11-19T22:36:48.240405Z",
     "start_time": "2019-11-19T22:36:47.852641Z"
    }
   },
   "outputs": [],
   "source": [
    "fig, ax = plt.subplots(figsize=(10,8))\n",
    "plot_roc(label_test, prob, title='', ax=ax)\n",
    "ax.set_xlabel('1 - Specificity')\n",
    "ax.set_ylabel('Sensitivity')"
   ]
  },
  {
   "cell_type": "code",
   "execution_count": null,
   "metadata": {
    "ExecuteTime": {
     "end_time": "2019-11-22T15:44:50.614680Z",
     "start_time": "2019-11-22T15:44:50.498498Z"
    }
   },
   "outputs": [],
   "source": [
    "save = True"
   ]
  },
  {
   "cell_type": "code",
   "execution_count": null,
   "metadata": {
    "ExecuteTime": {
     "end_time": "2019-11-22T15:45:08.706467Z",
     "start_time": "2019-11-22T15:45:07.752795Z"
    }
   },
   "outputs": [],
   "source": [
    "fig, ax = plt.subplots(figsize=(20, 10))\n",
    "plot_thresh_range(ax, y_test, pos_prob, lower=0.1, upper=0.81, n_vals=100)\n",
    "\n",
    "if save:\n",
    "  fig.savefig(args.figdir/f'{args.model}_notes_all_metrics_vary.pdf', dpi=300)"
   ]
  },
  {
   "cell_type": "code",
   "execution_count": null,
   "metadata": {
    "ExecuteTime": {
     "end_time": "2019-11-22T15:45:17.532060Z",
     "start_time": "2019-11-22T15:45:16.700461Z"
    }
   },
   "outputs": [],
   "source": [
    "fig, ax = plt.subplots(figsize=(20, 10))\n",
    "best_threshold = plot_thresh_metric(ax, y_test, pos_prob, lower=0.1, upper=0.81, n_vals=100)\n",
    "ax.text(0.71, ax.get_ylim()[1] * 0.9, f'Optimum Threshold = {best_threshold[0]}', fontsize=12, color='b')\n",
    "print(best_threshold)\n",
    "\n",
    "if save:\n",
    "  fig.savefig(args.figdir/f'{args.model}_notes_all_threshold_guide.pdf', dpi=300)"
   ]
  },
  {
   "cell_type": "code",
   "execution_count": null,
   "metadata": {
    "ExecuteTime": {
     "end_time": "2019-11-19T22:36:49.811378Z",
     "start_time": "2019-11-19T22:36:49.776445Z"
    }
   },
   "outputs": [],
   "source": [
    "threshold = 0.46\n",
    "pred = (pos_prob > threshold).astype(np.int64)\n",
    "label_preds = [labels[i] for i in pred]\n",
    "cm = confusion_matrix(y_test, pred)\n",
    "tn,fp,fn,tp = cm[0][0],cm[0][1],cm[1][0],cm[1][1]\n",
    "sensitivity = tp/(tp+fn)\n",
    "specificity = tn/(tn+fp)\n",
    "ppv = tp/(tp+fp)\n",
    "npv = tn/(tn+fn)\n",
    "f1 = (2*ppv*sensitivity)/(ppv+sensitivity)\n",
    "auroc = roc_auc_score(y_test, pos_prob)\n",
    "\n",
    "d = {\n",
    "  'sensitivity': np.round(sensitivity, 3),\n",
    "  'specificity': np.round(specificity, 3),\n",
    "  'ppv': np.round(ppv, 3),\n",
    "  'npv': np.round(npv, 3),\n",
    "  'f1': np.round(f1, 3),\n",
    "  'auroc': np.round(auroc, 3),\n",
    "  'threshold': threshold,\n",
    "}\n",
    "metrics = pd.DataFrame(d.values(), index=d.keys(), columns=['Value'])\n",
    "metrics"
   ]
  },
  {
   "cell_type": "code",
   "execution_count": null,
   "metadata": {
    "ExecuteTime": {
     "end_time": "2019-11-19T17:27:11.968280Z",
     "start_time": "2019-11-19T17:27:11.605293Z"
    }
   },
   "outputs": [],
   "source": [
    "fig, ax = plt.subplots(figsize=(11, 8))\n",
    "plot_confusion_matrix(label_test, label_preds, x_tick_rotation=45, ax=ax, normalize=True)"
   ]
  },
  {
   "cell_type": "markdown",
   "metadata": {},
   "source": [
    "### Notes and All structured"
   ]
  },
  {
   "cell_type": "code",
   "execution_count": null,
   "metadata": {
    "ExecuteTime": {
     "end_time": "2019-11-29T18:09:57.709713Z",
     "start_time": "2019-11-29T18:09:57.470109Z"
    }
   },
   "outputs": [],
   "source": [
    "df = set_group_splits(full_common_all.copy(), group_col='hadm_id', seed=seed)\n",
    "\n",
    "train_df = df[df['split'] == 'train']\n",
    "test_df = df[df['split'] == 'test']\n",
    "\n",
    "g = train_df.groupby(['imi_adm_label']).size().to_numpy()\n",
    "print(f\"Prevalence of positive class in training set:{(g[1]/g.sum())*100:0.1f}%\")\n",
    "g = test_df.groupby(['imi_adm_label']).size().to_numpy()\n",
    "print(f\"Prevalence of positive class in test set:{(g[1]/g.sum())*100:0.1f}%\")"
   ]
  },
  {
   "cell_type": "code",
   "execution_count": null,
   "metadata": {
    "ExecuteTime": {
     "end_time": "2019-11-29T18:09:57.735398Z",
     "start_time": "2019-11-29T18:09:57.711382Z"
    }
   },
   "outputs": [],
   "source": [
    "# vectorizer = TfidfVectorizer(ngram_range=(1,2), max_features=60_000)\n",
    "# x_note_train = vectorizer.fit_transform(train_df['note'])\n",
    "# x_note_test = vectorizer.transform(test_df['note'])\n",
    "\n",
    "# with open(args.workdir/f'vectordir/bi_gram_full_vital_643.pkl', 'wb') as f:\n",
    "#   pickle.dump(vectorizer, f)\n",
    "#   pickle.dump(x_note_train, f)\n",
    "#   pickle.dump(x_note_test, f)"
   ]
  },
  {
   "cell_type": "code",
   "execution_count": null,
   "metadata": {
    "ExecuteTime": {
     "end_time": "2019-11-29T18:09:58.448327Z",
     "start_time": "2019-11-29T18:09:57.736713Z"
    }
   },
   "outputs": [],
   "source": [
    "with open(args.workdir/f'vectordir/bi_gram_all_643.pkl', 'rb') as f:\n",
    "  vectorizer = pickle.load(f)\n",
    "  x_note_train = pickle.load(f)\n",
    "  x_note_test = pickle.load(f)\n",
    "  \n",
    "y_train, y_test = train_df['imi_adm_label'], test_df['imi_adm_label']\n",
    "x_note_train.shape, x_note_test.shape, y_train.shape, y_test.shape"
   ]
  },
  {
   "cell_type": "code",
   "execution_count": null,
   "metadata": {
    "ExecuteTime": {
     "end_time": "2019-11-29T18:09:58.494783Z",
     "start_time": "2019-11-29T18:09:58.449816Z"
    }
   },
   "outputs": [],
   "source": [
    "x_str_train, x_str_test = train_df[args.str_all_cols].values, test_df[args.str_all_cols].values\n",
    "x_str_train.shape, x_str_test.shape"
   ]
  },
  {
   "cell_type": "code",
   "execution_count": null,
   "metadata": {
    "ExecuteTime": {
     "end_time": "2019-11-29T18:09:59.871337Z",
     "start_time": "2019-11-29T18:09:58.496198Z"
    }
   },
   "outputs": [],
   "source": [
    "x_train = scipy.sparse.hstack((x_str_train, x_note_train)).tocsr()\n",
    "x_test = scipy.sparse.hstack((x_str_test, x_note_test)).tocsr()\n",
    "x_train.shape, x_test.shape"
   ]
  },
  {
   "cell_type": "code",
   "execution_count": null,
   "metadata": {
    "ExecuteTime": {
     "end_time": "2019-11-29T18:14:13.061811Z",
     "start_time": "2019-11-29T18:09:59.872646Z"
    }
   },
   "outputs": [],
   "source": [
    "clf = LogisticRegression(class_weight='balanced')\n",
    "clf.fit(x_train, y_train)\n",
    "\n",
    "prob = clf.predict_proba(x_test)\n",
    "pos_prob = prob[:, 1]\n",
    "\n",
    "labels = ['Delayed', 'Imminent']\n",
    "label_test = [labels[i] for i in y_test]"
   ]
  },
  {
   "cell_type": "code",
   "execution_count": null,
   "metadata": {
    "ExecuteTime": {
     "end_time": "2019-11-29T18:14:13.536475Z",
     "start_time": "2019-11-29T18:14:13.063987Z"
    }
   },
   "outputs": [],
   "source": [
    "fig, ax = plt.subplots(figsize=(10,8))\n",
    "plot_roc(label_test, prob, title='', ax=ax)\n",
    "ax.set_xlabel('1 - Specificity')\n",
    "ax.set_ylabel('Sensitivity')"
   ]
  },
  {
   "cell_type": "code",
   "execution_count": null,
   "metadata": {
    "ExecuteTime": {
     "end_time": "2019-11-29T18:14:14.228770Z",
     "start_time": "2019-11-29T18:14:13.538222Z"
    }
   },
   "outputs": [],
   "source": [
    "fig, ax = plt.subplots(figsize=(20, 10))\n",
    "plot_thresh_range(ax, y_test, pos_prob, lower=0.1, upper=0.81, n_vals=100)\n",
    "\n",
    "if save:\n",
    "  fig.savefig(args.figdir/f'{args.model}_full_all_metrics_vary.pdf', dpi=300)"
   ]
  },
  {
   "cell_type": "code",
   "execution_count": null,
   "metadata": {
    "ExecuteTime": {
     "end_time": "2019-11-29T18:14:14.891863Z",
     "start_time": "2019-11-29T18:14:14.229983Z"
    }
   },
   "outputs": [],
   "source": [
    "fig, ax = plt.subplots(figsize=(20, 10))\n",
    "best_threshold = plot_thresh_metric(ax, y_test, pos_prob, lower=0.1, upper=0.81, n_vals=100)\n",
    "ax.text(0.71, ax.get_ylim()[1] * 0.9, f'Optimum Threshold = {best_threshold[0]}', fontsize=12, color='b')\n",
    "print(best_threshold)\n",
    "\n",
    "if save:\n",
    "  fig.savefig(args.figdir/f'{args.model}_full_all_threshold_guide.pdf', dpi=300)"
   ]
  },
  {
   "cell_type": "code",
   "execution_count": null,
   "metadata": {
    "ExecuteTime": {
     "end_time": "2019-11-29T18:14:14.926914Z",
     "start_time": "2019-11-29T18:14:14.892956Z"
    }
   },
   "outputs": [],
   "source": [
    "threshold = 0.5\n",
    "pred = (pos_prob > threshold).astype(np.int64)\n",
    "label_preds = [labels[i] for i in pred]\n",
    "cm = confusion_matrix(y_test, pred)\n",
    "tn,fp,fn,tp = cm[0][0],cm[0][1],cm[1][0],cm[1][1]\n",
    "sensitivity = tp/(tp+fn)\n",
    "specificity = tn/(tn+fp)\n",
    "ppv = tp/(tp+fp)\n",
    "npv = tn/(tn+fn)\n",
    "f1 = (2*ppv*sensitivity)/(ppv+sensitivity)\n",
    "auroc = roc_auc_score(y_test, pos_prob)\n",
    "\n",
    "d = {\n",
    "  'sensitivity': np.round(sensitivity, 3),\n",
    "  'specificity': np.round(specificity, 3),\n",
    "  'ppv': np.round(ppv, 3),\n",
    "  'npv': np.round(npv, 3),\n",
    "  'f1': np.round(f1, 3),\n",
    "  'auroc': np.round(auroc, 3),\n",
    "  'threshold': threshold,\n",
    "}\n",
    "metrics = pd.DataFrame(d.values(), index=d.keys(), columns=['Value'])\n",
    "metrics"
   ]
  },
  {
   "cell_type": "code",
   "execution_count": null,
   "metadata": {
    "ExecuteTime": {
     "end_time": "2019-11-29T18:14:15.171002Z",
     "start_time": "2019-11-29T18:14:14.927968Z"
    }
   },
   "outputs": [],
   "source": [
    "fig, ax = plt.subplots(figsize=(11, 8))\n",
    "plot_confusion_matrix(label_test, label_preds, x_tick_rotation=45, ax=ax, normalize=False)"
   ]
  },
  {
   "cell_type": "code",
   "execution_count": null,
   "metadata": {},
   "outputs": [],
   "source": [
    "pos = 1220\n",
    "control = 4898"
   ]
  },
  {
   "cell_type": "markdown",
   "metadata": {},
   "source": [
    "## Metrics"
   ]
  },
  {
   "cell_type": "code",
   "execution_count": null,
   "metadata": {
    "ExecuteTime": {
     "end_time": "2019-11-05T20:03:34.735548Z",
     "start_time": "2019-11-05T20:03:34.094158Z"
    }
   },
   "outputs": [],
   "source": [
    "with open(args.workdir/f'preds.pkl', 'rb') as f:\n",
    "  targs = pickle.load(f)\n",
    "  probs = pickle.load(f)\n",
    "  preds = pickle.load(f)\n",
    "\n",
    "bam = BinaryAvgMetrics(targs, preds, [prob[:, 1] for prob in probs])\n",
    "bam.get_avg_metrics(defn=True)"
   ]
  },
  {
   "cell_type": "code",
   "execution_count": null,
   "metadata": {
    "ExecuteTime": {
     "end_time": "2019-11-05T20:03:35.380710Z",
     "start_time": "2019-11-05T20:03:35.151401Z"
    }
   },
   "outputs": [],
   "source": [
    "bam.get_avg_metrics(conf=0.95)"
   ]
  },
  {
   "cell_type": "code",
   "execution_count": null,
   "metadata": {
    "ExecuteTime": {
     "end_time": "2019-11-05T20:03:43.520695Z",
     "start_time": "2019-11-05T20:03:42.911343Z"
    }
   },
   "outputs": [],
   "source": [
    "fig, ax = plt.subplots(figsize=(11, 8))\n",
    "plot_cm(ax, bam.cm_avg, ['Delayed', 'Imminent'])\n",
    "\n",
    "if save:\n",
    "  fig.savefig(args.figdir/f'mean_cm.pdf', dpi=300)"
   ]
  },
  {
   "cell_type": "code",
   "execution_count": null,
   "metadata": {
    "ExecuteTime": {
     "end_time": "2019-11-05T20:03:57.419766Z",
     "start_time": "2019-11-05T20:03:56.974174Z"
    }
   },
   "outputs": [],
   "source": [
    "fig, ax = plt.subplots(figsize=(10, 8))\n",
    "plot_mean_roc(ax, bam.targs, probs)\n",
    "\n",
    "if save:\n",
    "  fig.savefig(args.figdir/f'mean_roc.pdf', dpi=300)"
   ]
  }
 ],
 "metadata": {
  "kernelspec": {
   "display_name": "Python 3",
   "language": "python",
   "name": "python3"
  },
  "language_info": {
   "codemirror_mode": {
    "name": "ipython",
    "version": 3
   },
   "file_extension": ".py",
   "mimetype": "text/x-python",
   "name": "python",
   "nbconvert_exporter": "python",
   "pygments_lexer": "ipython3",
   "version": "3.7.5"
  },
  "toc": {
   "base_numbering": 1,
   "nav_menu": {},
   "number_sections": true,
   "sideBar": true,
   "skip_h1_title": true,
   "title_cell": "Table of Contents",
   "title_sidebar": "Contents",
   "toc_cell": false,
   "toc_position": {},
   "toc_section_display": true,
   "toc_window_display": false
  }
 },
 "nbformat": 4,
 "nbformat_minor": 2
}
