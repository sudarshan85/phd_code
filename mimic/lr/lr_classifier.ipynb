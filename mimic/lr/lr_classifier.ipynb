{
 "cells": [
  {
   "cell_type": "markdown",
   "metadata": {},
   "source": [
    "# Imminent ICU Admission Classifier with Logistic Regression"
   ]
  },
  {
   "cell_type": "markdown",
   "metadata": {},
   "source": [
    "## Imports & Inits"
   ]
  },
  {
   "cell_type": "code",
   "execution_count": null,
   "metadata": {
    "ExecuteTime": {
     "end_time": "2019-12-18T23:14:19.758873Z",
     "start_time": "2019-12-18T23:14:18.060803Z"
    }
   },
   "outputs": [],
   "source": [
    "%load_ext autoreload\n",
    "%autoreload 2\n",
    "\n",
    "import sys\n",
    "sys.path.append('../../')\n",
    "\n",
    "import warnings\n",
    "warnings.filterwarnings(\"ignore\", category=UserWarning)\n",
    "\n",
    "import pickle\n",
    "import scipy\n",
    "\n",
    "import pandas as pd\n",
    "import numpy as np\n",
    "np.set_printoptions(precision=4)\n",
    "\n",
    "from tqdm.notebook import tqdm\n",
    "import matplotlib.pyplot as plt\n",
    "import seaborn as sns\n",
    "sns.set_style(\"darkgrid\")\n",
    "%matplotlib inline\n",
    "\n",
    "from pathlib import Path\n",
    "\n",
    "from sklearn.linear_model import LogisticRegression\n",
    "from sklearn.feature_extraction.text import TfidfVectorizer\n",
    "from scikitplot.metrics import *\n",
    "\n",
    "from utils.data_utils import set_group_splits\n",
    "from utils.metrics import BinaryAvgMetrics, get_best_model\n",
    "from utils.plots import *"
   ]
  },
  {
   "cell_type": "code",
   "execution_count": null,
   "metadata": {
    "ExecuteTime": {
     "end_time": "2019-12-18T23:14:19.782262Z",
     "start_time": "2019-12-18T23:14:19.761176Z"
    }
   },
   "outputs": [],
   "source": [
    "from args import args\n",
    "vars(args)"
   ]
  },
  {
   "cell_type": "code",
   "execution_count": null,
   "metadata": {
    "ExecuteTime": {
     "end_time": "2019-12-18T23:14:19.802033Z",
     "start_time": "2019-12-18T23:14:19.784244Z"
    }
   },
   "outputs": [],
   "source": [
    "str_cols = pickle.load(open(args.str_cols_pkl, 'rb'))\n",
    "cols = ['hadm_id'] + str_cols + ['note', 'imi_adm_label']"
   ]
  },
  {
   "cell_type": "code",
   "execution_count": null,
   "metadata": {
    "ExecuteTime": {
     "end_time": "2019-12-18T23:14:21.062710Z",
     "start_time": "2019-12-18T23:14:19.803928Z"
    }
   },
   "outputs": [],
   "source": [
    "mm_notes_vitals = pd.read_csv(args.mm_csv, usecols=cols)\n",
    "mm_notes_vitals = mm_notes_vitals[mm_notes_vitals['imi_adm_label'] != -1].reset_index(drop=True)\n",
    "\n",
    "notes_common = mm_notes_vitals[['hadm_id', 'note', 'imi_adm_label']].copy().reset_index(drop=True)\n",
    "vitals_common = mm_notes_vitals[['hadm_id'] + str_cols + ['imi_adm_label']].copy().reset_index(drop=True)\n",
    "\n",
    "print(vitals_common.shape, notes_common.shape, mm_notes_vitals.shape, vitals_common['hadm_id'].nunique(), notes_common['hadm_id'].nunique(), mm_notes_vitals['hadm_id'].nunique())"
   ]
  },
  {
   "cell_type": "code",
   "execution_count": null,
   "metadata": {
    "ExecuteTime": {
     "end_time": "2019-12-18T23:14:21.099842Z",
     "start_time": "2019-12-18T23:14:21.065077Z"
    }
   },
   "outputs": [],
   "source": [
    "seed = 643\n",
    "save = False"
   ]
  },
  {
   "cell_type": "markdown",
   "metadata": {},
   "source": [
    "## Unstructured Data Classifier Dev"
   ]
  },
  {
   "cell_type": "code",
   "execution_count": null,
   "metadata": {
    "ExecuteTime": {
     "end_time": "2019-12-18T23:14:21.180670Z",
     "start_time": "2019-12-18T23:14:21.101849Z"
    }
   },
   "outputs": [],
   "source": [
    "df = set_group_splits(notes_common.copy(), group_col='hadm_id', seed=seed)\n",
    "\n",
    "train_df = df[df['split'] == 'train']\n",
    "test_df = df[df['split'] == 'test']\n",
    "\n",
    "g = train_df.groupby(['imi_adm_label']).size().to_numpy()\n",
    "print(f\"Prevalence of positive class in training set:{(g[1]/g.sum())*100:0.1f}%\")\n",
    "g = test_df.groupby(['imi_adm_label']).size().to_numpy()\n",
    "print(f\"Prevalence of positive class in test set:{(g[1]/g.sum())*100:0.1f}%\")"
   ]
  },
  {
   "cell_type": "code",
   "execution_count": null,
   "metadata": {
    "ExecuteTime": {
     "end_time": "2019-12-18T22:54:06.301005Z",
     "start_time": "2019-12-18T22:53:46.287783Z"
    }
   },
   "outputs": [],
   "source": [
    "# vectorizer = TfidfVectorizer(ngram_range=(1,2), max_features=60_000)\n",
    "# x_note_train = vectorizer.fit_transform(train_df['note'])\n",
    "# x_note_test = vectorizer.transform(test_df['note'])\n",
    "\n",
    "# with open(args.vectordir/f'bigram_643.pkl', 'wb') as f:\n",
    "#   pickle.dump(vectorizer, f)\n",
    "#   pickle.dump(x_note_train, f)\n",
    "#   pickle.dump(x_note_test, f)"
   ]
  },
  {
   "cell_type": "code",
   "execution_count": null,
   "metadata": {
    "ExecuteTime": {
     "end_time": "2019-12-18T23:14:21.725143Z",
     "start_time": "2019-12-18T23:14:21.181965Z"
    }
   },
   "outputs": [],
   "source": [
    "with open(args.vectordir/'bigram_643.pkl', 'rb') as f:\n",
    "  vectorizer = pickle.load(f)\n",
    "  x_note_train = pickle.load(f)\n",
    "  x_note_test = pickle.load(f)\n",
    "  \n",
    "y_train, y_test = train_df['imi_adm_label'], test_df['imi_adm_label']\n",
    "x_note_train.shape, x_note_test.shape, y_train.shape, y_test.shape"
   ]
  },
  {
   "cell_type": "code",
   "execution_count": null,
   "metadata": {
    "ExecuteTime": {
     "end_time": "2019-12-18T23:14:25.190782Z",
     "start_time": "2019-12-18T23:14:21.726623Z"
    }
   },
   "outputs": [],
   "source": [
    "clf = LogisticRegression(class_weight='balanced')\n",
    "clf.fit(x_note_train, y_train)\n",
    "\n",
    "prob = clf.predict_proba(x_note_test)\n",
    "pos_prob = prob[:, 1]\n",
    "\n",
    "labels = ['Delayed', 'Imminent']\n",
    "label_test = [labels[i] for i in y_test]"
   ]
  },
  {
   "cell_type": "code",
   "execution_count": null,
   "metadata": {
    "ExecuteTime": {
     "end_time": "2019-12-18T23:14:34.409634Z",
     "start_time": "2019-12-18T23:14:34.027764Z"
    }
   },
   "outputs": [],
   "source": [
    "fig, ax = plt.subplots(figsize=(10,8))\n",
    "plot_roc(label_test, prob, title='', ax=ax)\n",
    "ax.set_xlabel('1 - Specificity')\n",
    "ax.set_ylabel('Sensitivity')"
   ]
  },
  {
   "cell_type": "code",
   "execution_count": null,
   "metadata": {
    "ExecuteTime": {
     "end_time": "2019-12-18T23:14:35.257673Z",
     "start_time": "2019-12-18T23:14:34.511120Z"
    }
   },
   "outputs": [],
   "source": [
    "fig, ax = plt.subplots(figsize=(20, 10))\n",
    "plot_thresh_range(ax, y_test, pos_prob, lower=0.1, upper=0.81, n_vals=100)\n",
    "\n",
    "if save:\n",
    "  fig.savefig(args.figdir/f'lr_notes_vital_metrics_vary.pdf', dpi=300, box_inches='tight', pad_inches=0)"
   ]
  },
  {
   "cell_type": "code",
   "execution_count": null,
   "metadata": {
    "ExecuteTime": {
     "end_time": "2019-12-18T23:14:39.473753Z",
     "start_time": "2019-12-18T23:14:38.712365Z"
    }
   },
   "outputs": [],
   "source": [
    "fig, ax = plt.subplots(figsize=(20, 10))\n",
    "best_threshold = plot_thresh_metric(ax, y_test, pos_prob, lower=0.1, upper=0.81, n_vals=100, show_f1=False)\n",
    "ax.text(0.71, ax.get_ylim()[1]*0.95, f'Optimum Threshold = {best_threshold[0]}', fontsize=12, color='b')\n",
    "print(f\"Best Youden Threshold = {best_threshold[0]}\")\n",
    "\n",
    "if save:\n",
    "  fig.savefig(args.figdir/f'lr_notes_vital_threshold_guide.pdf', dpi=300, box_inches='tight', pad_inches=0)"
   ]
  },
  {
   "cell_type": "code",
   "execution_count": null,
   "metadata": {
    "ExecuteTime": {
     "end_time": "2019-12-18T23:14:46.364262Z",
     "start_time": "2019-12-18T23:14:46.123269Z"
    }
   },
   "outputs": [],
   "source": [
    "threshold = 0.41\n",
    "pred = (pos_prob > threshold).astype(np.int64)\n",
    "label_preds = [labels[i] for i in pred]\n",
    "cm = confusion_matrix(y_test, pred)\n",
    "tn,fp,fn,tp = cm[0][0],cm[0][1],cm[1][0],cm[1][1]\n",
    "sensitivity = tp/(tp+fn)\n",
    "specificity = tn/(tn+fp)\n",
    "ppv = tp/(tp+fp)\n",
    "npv = tn/(tn+fn)\n",
    "f1 = (2*ppv*sensitivity)/(ppv+sensitivity)\n",
    "auroc = roc_auc_score(y_test, pos_prob)\n",
    "\n",
    "d = {\n",
    "  'sensitivity': np.round(sensitivity, 3),\n",
    "  'specificity': np.round(specificity, 3),\n",
    "  'ppv': np.round(ppv, 3),\n",
    "  'npv': np.round(npv, 3),\n",
    "  'f1': np.round(f1, 3),\n",
    "  'auroc': np.round(auroc, 3),\n",
    "  'threshold': threshold,\n",
    "}\n",
    "metrics = pd.DataFrame(d.values(), index=d.keys(), columns=['Value'])\n",
    "metrics"
   ]
  },
  {
   "cell_type": "code",
   "execution_count": null,
   "metadata": {
    "ExecuteTime": {
     "end_time": "2019-12-18T22:19:04.058164Z",
     "start_time": "2019-12-18T22:19:03.818744Z"
    }
   },
   "outputs": [],
   "source": [
    "fig, ax = plt.subplots(figsize=(11, 8))\n",
    "plot_confusion_matrix(label_test, label_preds, x_tick_rotation=45, ax=ax, normalize=False)"
   ]
  },
  {
   "cell_type": "markdown",
   "metadata": {},
   "source": [
    "## Multimodal Classifier Dev"
   ]
  },
  {
   "cell_type": "code",
   "execution_count": null,
   "metadata": {
    "ExecuteTime": {
     "end_time": "2019-12-18T23:15:12.031396Z",
     "start_time": "2019-12-18T23:15:11.888583Z"
    }
   },
   "outputs": [],
   "source": [
    "df = set_group_splits(mm_notes_vitals.copy(), group_col='hadm_id', seed=seed)\n",
    "\n",
    "train_df = df[df['split'] == 'train']\n",
    "test_df = df[df['split'] == 'test']\n",
    "\n",
    "g = train_df.groupby(['imi_adm_label']).size().to_numpy()\n",
    "print(f\"Prevalence of positive class in training set:{(g[1]/g.sum())*100:0.1f}%\")\n",
    "g = test_df.groupby(['imi_adm_label']).size().to_numpy()\n",
    "print(f\"Prevalence of positive class in test set:{(g[1]/g.sum())*100:0.1f}%\")"
   ]
  },
  {
   "cell_type": "code",
   "execution_count": null,
   "metadata": {
    "ExecuteTime": {
     "end_time": "2019-12-18T22:19:26.715479Z",
     "start_time": "2019-12-18T22:19:25.989841Z"
    }
   },
   "outputs": [],
   "source": [
    "with open(args.vectordir/'bigram_643.pkl', 'rb') as f:\n",
    "  vectorizer = pickle.load(f)\n",
    "  x_note_train = pickle.load(f)\n",
    "  x_note_test = pickle.load(f)\n",
    "  \n",
    "y_train, y_test = train_df['imi_adm_label'], test_df['imi_adm_label']\n",
    "x_note_train.shape, x_note_test.shape, y_train.shape, y_test.shape"
   ]
  },
  {
   "cell_type": "code",
   "execution_count": null,
   "metadata": {
    "ExecuteTime": {
     "end_time": "2019-12-18T23:15:30.329367Z",
     "start_time": "2019-12-18T23:15:30.100215Z"
    }
   },
   "outputs": [],
   "source": [
    "x_vitals_train, x_vitals_test = train_df[str_cols].values, test_df[str_cols].values\n",
    "x_vitals_train.shape, x_vitals_test.shape"
   ]
  },
  {
   "cell_type": "code",
   "execution_count": null,
   "metadata": {
    "ExecuteTime": {
     "end_time": "2019-12-18T23:15:35.908006Z",
     "start_time": "2019-12-18T23:15:34.894324Z"
    }
   },
   "outputs": [],
   "source": [
    "x_train = scipy.sparse.hstack((x_vitals_train, x_note_train)).tocsr()\n",
    "x_test = scipy.sparse.hstack((x_vitals_test, x_note_test)).tocsr()\n",
    "x_train.shape, x_test.shape"
   ]
  },
  {
   "cell_type": "code",
   "execution_count": null,
   "metadata": {
    "ExecuteTime": {
     "end_time": "2019-12-18T23:18:27.706080Z",
     "start_time": "2019-12-18T23:15:42.164632Z"
    }
   },
   "outputs": [],
   "source": [
    "clf = LogisticRegression(class_weight='balanced')\n",
    "clf.fit(x_train, y_train)\n",
    "\n",
    "prob = clf.predict_proba(x_test)\n",
    "pos_prob = prob[:, 1]\n",
    "\n",
    "labels = ['Delayed', 'Imminent']\n",
    "label_test = [labels[i] for i in y_test]"
   ]
  },
  {
   "cell_type": "code",
   "execution_count": null,
   "metadata": {
    "ExecuteTime": {
     "end_time": "2019-12-18T23:25:24.254808Z",
     "start_time": "2019-12-18T23:25:23.739004Z"
    }
   },
   "outputs": [],
   "source": [
    "fig, ax = plt.subplots(figsize=(10,8))\n",
    "plot_roc(label_test, prob, title='', ax=ax)\n",
    "ax.set_xlabel('1 - Specificity')\n",
    "ax.set_ylabel('Sensitivity')"
   ]
  },
  {
   "cell_type": "code",
   "execution_count": null,
   "metadata": {
    "ExecuteTime": {
     "end_time": "2019-12-18T23:25:34.726630Z",
     "start_time": "2019-12-18T23:25:33.949136Z"
    }
   },
   "outputs": [],
   "source": [
    "fig, ax = plt.subplots(figsize=(20, 10))\n",
    "plot_thresh_range(ax, y_test, pos_prob, lower=0.1, upper=0.81, n_vals=100)\n",
    "\n",
    "if save:\n",
    "  fig.savefig(args.figdir/f'lr_notes_vital_metrics_vary.pdf', dpi=300, box_inches='tight', pad_inches=0)"
   ]
  },
  {
   "cell_type": "code",
   "execution_count": null,
   "metadata": {
    "ExecuteTime": {
     "end_time": "2019-12-18T23:25:54.308425Z",
     "start_time": "2019-12-18T23:25:53.580969Z"
    }
   },
   "outputs": [],
   "source": [
    "fig, ax = plt.subplots(figsize=(20, 10))\n",
    "best_threshold = plot_thresh_metric(ax, y_test, pos_prob, lower=0.1, upper=0.81, n_vals=100, show_f1=False)\n",
    "ax.text(0.71, ax.get_ylim()[1]*0.95, f'Optimum Threshold = {best_threshold[0]}', fontsize=12, color='b')\n",
    "print(f\"Best Youden Threshold = {best_threshold[0]}\")\n",
    "\n",
    "if save:\n",
    "  fig.savefig(args.figdir/f'lr_notes_vital_threshold_guide.pdf', dpi=300, box_inches='tight', pad_inches=0)"
   ]
  },
  {
   "cell_type": "code",
   "execution_count": null,
   "metadata": {
    "ExecuteTime": {
     "end_time": "2019-12-18T23:27:42.455145Z",
     "start_time": "2019-12-18T23:27:42.376439Z"
    }
   },
   "outputs": [],
   "source": [
    "threshold = 0.45\n",
    "pred = (pos_prob > threshold).astype(np.int64)\n",
    "label_preds = [labels[i] for i in pred]\n",
    "cm = confusion_matrix(y_test, pred)\n",
    "tn,fp,fn,tp = cm[0][0],cm[0][1],cm[1][0],cm[1][1]\n",
    "sensitivity = tp/(tp+fn)\n",
    "specificity = tn/(tn+fp)\n",
    "ppv = tp/(tp+fp)\n",
    "npv = tn/(tn+fn)\n",
    "f1 = (2*ppv*sensitivity)/(ppv+sensitivity)\n",
    "auroc = roc_auc_score(y_test, pos_prob)\n",
    "\n",
    "d = {\n",
    "  'sensitivity': np.round(sensitivity, 3),\n",
    "  'specificity': np.round(specificity, 3),\n",
    "  'ppv': np.round(ppv, 3),\n",
    "  'npv': np.round(npv, 3),\n",
    "  'f1': np.round(f1, 3),\n",
    "  'auroc': np.round(auroc, 3),\n",
    "  'threshold': threshold,\n",
    "}\n",
    "metrics = pd.DataFrame(d.values(), index=d.keys(), columns=['Value'])\n",
    "metrics"
   ]
  },
  {
   "cell_type": "code",
   "execution_count": null,
   "metadata": {
    "ExecuteTime": {
     "end_time": "2019-12-18T23:27:55.907497Z",
     "start_time": "2019-12-18T23:27:55.479152Z"
    }
   },
   "outputs": [],
   "source": [
    "fig, ax = plt.subplots(figsize=(11, 8))\n",
    "plot_confusion_matrix(label_test, label_preds, x_tick_rotation=45, ax=ax, normalize=False)"
   ]
  },
  {
   "cell_type": "markdown",
   "metadata": {},
   "source": [
    "## Structured Classifier Dev"
   ]
  },
  {
   "cell_type": "code",
   "execution_count": null,
   "metadata": {
    "ExecuteTime": {
     "end_time": "2019-12-18T23:28:48.164091Z",
     "start_time": "2019-12-18T23:28:48.077808Z"
    }
   },
   "outputs": [],
   "source": [
    "df = set_group_splits(vitals_common.copy(), group_col='hadm_id', seed=seed)\n",
    "\n",
    "train_df = df[df['split'] == 'train']\n",
    "test_df = df[df['split'] == 'test']\n",
    "\n",
    "g = train_df.groupby(['imi_adm_label']).size().to_numpy()\n",
    "print(f\"Prevalence of positive class in training set:{(g[1]/g.sum())*100:0.1f}%\")\n",
    "g = test_df.groupby(['imi_adm_label']).size().to_numpy()\n",
    "print(f\"Prevalence of positive class in test set:{(g[1]/g.sum())*100:0.1f}%\")"
   ]
  },
  {
   "cell_type": "code",
   "execution_count": null,
   "metadata": {
    "ExecuteTime": {
     "end_time": "2019-12-18T23:30:34.145063Z",
     "start_time": "2019-12-18T23:30:33.905011Z"
    }
   },
   "outputs": [],
   "source": [
    "y_train, y_test = train_df['imi_adm_label'], test_df['imi_adm_label']\n",
    "x_vitals_train, x_vitals_test = train_df[str_cols].values, test_df[str_cols].values\n",
    "x_vitals_train.shape, x_vitals_test.shape"
   ]
  },
  {
   "cell_type": "code",
   "execution_count": null,
   "metadata": {
    "ExecuteTime": {
     "end_time": "2019-12-18T23:31:35.225360Z",
     "start_time": "2019-12-18T23:31:29.178667Z"
    }
   },
   "outputs": [],
   "source": [
    "clf = LogisticRegression(class_weight='balanced')\n",
    "clf.fit(x_vitals_train, y_train)\n",
    "\n",
    "prob = clf.predict_proba(x_vitals_test)\n",
    "pos_prob = prob[:, 1]\n",
    "\n",
    "labels = ['Delayed', 'Imminent']\n",
    "label_test = [labels[i] for i in y_test]"
   ]
  },
  {
   "cell_type": "code",
   "execution_count": null,
   "metadata": {
    "ExecuteTime": {
     "end_time": "2019-12-18T23:31:36.867754Z",
     "start_time": "2019-12-18T23:31:36.359322Z"
    }
   },
   "outputs": [],
   "source": [
    "fig, ax = plt.subplots(figsize=(10,8))\n",
    "plot_roc(label_test, prob, title='', ax=ax)\n",
    "ax.set_xlabel('1 - Specificity')\n",
    "ax.set_ylabel('Sensitivity')"
   ]
  },
  {
   "cell_type": "code",
   "execution_count": null,
   "metadata": {
    "ExecuteTime": {
     "end_time": "2019-12-18T23:31:42.120341Z",
     "start_time": "2019-12-18T23:31:41.352365Z"
    }
   },
   "outputs": [],
   "source": [
    "fig, ax = plt.subplots(figsize=(20, 10))\n",
    "plot_thresh_range(ax, y_test, pos_prob, lower=0.1, upper=0.81, n_vals=100)\n",
    "\n",
    "if save:\n",
    "  fig.savefig(args.figdir/f'lr_notes_vital_metrics_vary.pdf', dpi=300, box_inches='tight', pad_inches=0)"
   ]
  },
  {
   "cell_type": "code",
   "execution_count": null,
   "metadata": {
    "ExecuteTime": {
     "end_time": "2019-12-18T23:31:45.724753Z",
     "start_time": "2019-12-18T23:31:44.991150Z"
    }
   },
   "outputs": [],
   "source": [
    "fig, ax = plt.subplots(figsize=(20, 10))\n",
    "best_threshold = plot_thresh_metric(ax, y_test, pos_prob, lower=0.1, upper=0.81, n_vals=100, show_f1=False)\n",
    "ax.text(0.71, ax.get_ylim()[1]*0.95, f'Optimum Threshold = {best_threshold[0]}', fontsize=12, color='b')\n",
    "print(f\"Best Youden Threshold = {best_threshold[0]}\")\n",
    "\n",
    "if save:\n",
    "  fig.savefig(args.figdir/f'lr_notes_vital_threshold_guide.pdf', dpi=300, box_inches='tight', pad_inches=0)"
   ]
  },
  {
   "cell_type": "code",
   "execution_count": null,
   "metadata": {
    "ExecuteTime": {
     "end_time": "2019-12-18T23:32:14.099000Z",
     "start_time": "2019-12-18T23:32:14.021913Z"
    }
   },
   "outputs": [],
   "source": [
    "threshold = 0.53\n",
    "pred = (pos_prob > threshold).astype(np.int64)\n",
    "label_preds = [labels[i] for i in pred]\n",
    "cm = confusion_matrix(y_test, pred)\n",
    "tn,fp,fn,tp = cm[0][0],cm[0][1],cm[1][0],cm[1][1]\n",
    "sensitivity = tp/(tp+fn)\n",
    "specificity = tn/(tn+fp)\n",
    "ppv = tp/(tp+fp)\n",
    "npv = tn/(tn+fn)\n",
    "f1 = (2*ppv*sensitivity)/(ppv+sensitivity)\n",
    "auroc = roc_auc_score(y_test, pos_prob)\n",
    "\n",
    "d = {\n",
    "  'sensitivity': np.round(sensitivity, 3),\n",
    "  'specificity': np.round(specificity, 3),\n",
    "  'ppv': np.round(ppv, 3),\n",
    "  'npv': np.round(npv, 3),\n",
    "  'f1': np.round(f1, 3),\n",
    "  'auroc': np.round(auroc, 3),\n",
    "  'threshold': threshold,\n",
    "}\n",
    "metrics = pd.DataFrame(d.values(), index=d.keys(), columns=['Value'])\n",
    "metrics"
   ]
  },
  {
   "cell_type": "markdown",
   "metadata": {},
   "source": [
    "## Metrics"
   ]
  },
  {
   "cell_type": "code",
   "execution_count": null,
   "metadata": {
    "ExecuteTime": {
     "end_time": "2019-11-05T20:03:34.735548Z",
     "start_time": "2019-11-05T20:03:34.094158Z"
    }
   },
   "outputs": [],
   "source": [
    "with open(args.workdir/f'preds.pkl', 'rb') as f:\n",
    "  targs = pickle.load(f)\n",
    "  probs = pickle.load(f)\n",
    "  preds = pickle.load(f)\n",
    "\n",
    "bam = BinaryAvgMetrics(targs, preds, [prob[:, 1] for prob in probs])\n",
    "bam.get_avg_metrics(defn=True)"
   ]
  },
  {
   "cell_type": "code",
   "execution_count": null,
   "metadata": {
    "ExecuteTime": {
     "end_time": "2019-11-05T20:03:35.380710Z",
     "start_time": "2019-11-05T20:03:35.151401Z"
    }
   },
   "outputs": [],
   "source": [
    "bam.get_avg_metrics(conf=0.95)"
   ]
  },
  {
   "cell_type": "code",
   "execution_count": null,
   "metadata": {
    "ExecuteTime": {
     "end_time": "2019-11-05T20:03:43.520695Z",
     "start_time": "2019-11-05T20:03:42.911343Z"
    }
   },
   "outputs": [],
   "source": [
    "fig, ax = plt.subplots(figsize=(11, 8))\n",
    "plot_cm(ax, bam.cm_avg, ['Delayed', 'Imminent'])\n",
    "\n",
    "if save:\n",
    "  fig.savefig(args.figdir/f'mean_cm.pdf', dpi=300)"
   ]
  },
  {
   "cell_type": "code",
   "execution_count": null,
   "metadata": {
    "ExecuteTime": {
     "end_time": "2019-11-05T20:03:57.419766Z",
     "start_time": "2019-11-05T20:03:56.974174Z"
    }
   },
   "outputs": [],
   "source": [
    "fig, ax = plt.subplots(figsize=(10, 8))\n",
    "plot_mean_roc(ax, bam.targs, probs)\n",
    "\n",
    "if save:\n",
    "  fig.savefig(args.figdir/f'mean_roc.pdf', dpi=300)"
   ]
  }
 ],
 "metadata": {
  "kernelspec": {
   "display_name": "Python 3",
   "language": "python",
   "name": "python3"
  },
  "language_info": {
   "codemirror_mode": {
    "name": "ipython",
    "version": 3
   },
   "file_extension": ".py",
   "mimetype": "text/x-python",
   "name": "python",
   "nbconvert_exporter": "python",
   "pygments_lexer": "ipython3",
   "version": "3.7.5"
  },
  "toc": {
   "base_numbering": 1,
   "nav_menu": {},
   "number_sections": true,
   "sideBar": true,
   "skip_h1_title": true,
   "title_cell": "Table of Contents",
   "title_sidebar": "Contents",
   "toc_cell": false,
   "toc_position": {},
   "toc_section_display": true,
   "toc_window_display": false
  }
 },
 "nbformat": 4,
 "nbformat_minor": 2
}
